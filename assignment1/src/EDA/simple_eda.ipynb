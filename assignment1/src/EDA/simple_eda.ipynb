{
 "cells": [
  {
   "cell_type": "markdown",
   "metadata": {},
   "source": [
    "# EDA on available data"
   ]
  },
  {
   "cell_type": "markdown",
   "metadata": {},
   "source": [
    "Imports"
   ]
  },
  {
   "cell_type": "code",
   "execution_count": 26,
   "metadata": {},
   "outputs": [],
   "source": [
    "import pandas as pd\n"
   ]
  },
  {
   "cell_type": "markdown",
   "metadata": {},
   "source": [
    "## Reading in the available data and printing it out"
   ]
  },
  {
   "cell_type": "code",
   "execution_count": 24,
   "metadata": {},
   "outputs": [
    {
     "name": "stdout",
     "output_type": "stream",
     "text": [
      "       apcp_sf1_1  apcp_sf2_1 apcp_sf3_1  apcp_sf4_1  apcp_sf5_1  dlwrf_s1_1  \\\n",
      "V1       0.000000         0.0          1    0.000000    0.000000  256.492673   \n",
      "V2       0.000000         0.0          1    0.017273    0.139091  257.998596   \n",
      "V3       0.000000         0.0          1    0.000000    0.000000  219.280002   \n",
      "V4       0.004545         0.0          1    0.000000    0.000000  267.863045   \n",
      "V5       0.000000         0.0          1    0.000000    0.000000  238.162747   \n",
      "...           ...         ...        ...         ...         ...         ...   \n",
      "V4376    0.010909         0.0          1    0.000000    0.000000  278.168651   \n",
      "V4377    0.000000         0.0          1    0.000000    0.000000  251.551092   \n",
      "V4378    0.000000         0.0          1    0.000000    0.000000  269.446164   \n",
      "V4379    0.000000         0.0          1    0.000000    0.000000  268.862049   \n",
      "V4380    0.000000         0.0          1    0.000000    0.000000  269.112621   \n",
      "\n",
      "       dlwrf_s2_1  dlwrf_s3_1  dlwrf_s4_1  dlwrf_s5_1  ...  ulwrf_t2_4  \\\n",
      "V1     244.696186  251.901758  270.741308  269.377441  ...  252.504475   \n",
      "V2     256.096852  271.982095  308.896287  302.474537  ...  233.458263   \n",
      "V3     211.632385  217.133093  241.347305  245.840132  ...  232.828737   \n",
      "V4     226.078362  226.493584  235.365465  235.531321  ...  241.916776   \n",
      "V5     241.927051  249.123549  277.759064  286.118281  ...  233.706659   \n",
      "...           ...         ...         ...         ...  ...         ...   \n",
      "V4376  267.669606  275.727847  308.500117  294.916138  ...  243.893899   \n",
      "V4377  249.918393  257.167014  280.875871  280.614019  ...  242.674612   \n",
      "V4378  267.112097  271.172319  287.115667  285.351388  ...  241.796688   \n",
      "V4379  263.708427  268.471286  290.155748  292.805903  ...  260.070899   \n",
      "V4380  265.072546  273.043252  301.113101  296.087139  ...  244.715999   \n",
      "\n",
      "       ulwrf_t3_4  ulwrf_t4_4  ulwrf_t5_4  uswrf_s1_4  uswrf_s2_4  uswrf_s3_4  \\\n",
      "V1     254.760271  263.342404  260.067843         0.0   10.000000   50.000000   \n",
      "V2     233.027276  212.652054  222.052916         0.0    8.181818   35.909091   \n",
      "V3     235.480750  245.177331  238.893102         0.0   10.272727   55.272727   \n",
      "V4     243.398572  251.473036  247.503769         0.0    8.909091   46.000000   \n",
      "V5     239.952805  258.128188  253.200684         0.0    8.909091   48.909091   \n",
      "...           ...         ...         ...         ...         ...         ...   \n",
      "V4376  230.507112  220.916945  230.789404         0.0    9.090909   36.363636   \n",
      "V4377  247.880528  267.247514  263.751090         0.0   10.000000   50.090909   \n",
      "V4378  251.735736  283.278129  283.570221         0.0    9.545455   49.545455   \n",
      "V4379  264.799494  278.286685  275.529738         0.0   10.000000   51.545455   \n",
      "V4380  250.610690  245.446594  243.667210         0.0    9.000000   48.545455   \n",
      "\n",
      "       uswrf_s4_4  uswrf_s5_4    energy  \n",
      "V1     106.636364   72.000000  12384900  \n",
      "V2      58.181818   42.090909  11908500  \n",
      "V3     118.454545   79.181818  12470700  \n",
      "V4     107.090909   73.636364  12725400  \n",
      "V5     106.272727   71.818182  10894800  \n",
      "...           ...         ...       ...  \n",
      "V4376   32.000000   23.090909  11276400  \n",
      "V4377  105.909091   71.000000  11739600  \n",
      "V4378  107.363636   72.636364  11870100  \n",
      "V4379  107.181818   71.727273  11089500  \n",
      "V4380   98.909091   65.636364   8790000  \n",
      "\n",
      "[4380 rows x 301 columns]\n"
     ]
    }
   ],
   "source": [
    "ava = pd.read_pickle('../../data/ava_st1_ns4_56.pkl') \n",
    "print(ava)\n"
   ]
  },
  {
   "cell_type": "code",
   "execution_count": 30,
   "metadata": {},
   "outputs": [
    {
     "name": "stdout",
     "output_type": "stream",
     "text": [
      "0\n"
     ]
    }
   ],
   "source": [
    "print(max(ava.isnull().sum()))"
   ]
  },
  {
   "cell_type": "code",
   "execution_count": 34,
   "metadata": {},
   "outputs": [
    {
     "name": "stdout",
     "output_type": "stream",
     "text": [
      "['apcp_sf3_1', 'apcp_sf1_2', 'apcp_sf2_2', 'uswrf_s1_2']\n"
     ]
    }
   ],
   "source": [
    "# Shows all columns with only 1 unique value\n",
    "constant_columns = [col for col in ava.columns if ava[col].nunique() < 2]\n",
    "print(constant_columns)"
   ]
  },
  {
   "cell_type": "code",
   "execution_count": 36,
   "metadata": {},
   "outputs": [
    {
     "name": "stdout",
     "output_type": "stream",
     "text": [
      "        apcp_sf1_1   apcp_sf2_1   apcp_sf4_1   apcp_sf5_1   dlwrf_s1_1  \\\n",
      "count  4380.000000  4380.000000  4380.000000  4380.000000  4380.000000   \n",
      "mean      0.541082     0.241592     0.251330     0.472259   314.415219   \n",
      "std       2.051574     1.062819     0.983976     1.691073    55.557847   \n",
      "min       0.000000     0.000000     0.000000     0.000000   164.699043   \n",
      "25%       0.000000     0.000000     0.000000     0.000000   267.855093   \n",
      "50%       0.000000     0.000000     0.000000     0.000000   317.640138   \n",
      "75%       0.082500     0.033636     0.013636     0.047500   365.174474   \n",
      "max      28.769091    22.546364    24.410000    35.470909   422.193173   \n",
      "\n",
      "        dlwrf_s2_1   dlwrf_s3_1   dlwrf_s4_1   dlwrf_s5_1   dswrf_s1_1  ...  \\\n",
      "count  4380.000000  4380.000000  4380.000000  4380.000000  4380.000000  ...   \n",
      "mean    314.767405   322.404314   342.808427   342.269960     0.048817  ...   \n",
      "std      57.776222    58.847925    61.455800    61.272028     0.225272  ...   \n",
      "min     162.133342   167.622281   184.941889   185.433870     0.000000  ...   \n",
      "25%     265.087502   272.924120   292.215178   291.569266     0.000000  ...   \n",
      "50%     318.246006   325.027765   343.555155   341.884445     0.000000  ...   \n",
      "75%     368.372529   377.426168   400.382332   399.502523     0.000000  ...   \n",
      "max     427.587511   430.194341   455.520433   457.056197     2.000000  ...   \n",
      "\n",
      "        ulwrf_t2_4   ulwrf_t3_4   ulwrf_t4_4   ulwrf_t5_4   uswrf_s1_4  \\\n",
      "count  4380.000000  4380.000000  4380.000000  4380.000000  4380.000000   \n",
      "mean    247.300145   251.597699   261.916025   260.870143     0.076235   \n",
      "std      36.804219    36.382653    39.190955    38.734023     0.255491   \n",
      "min     113.559602   118.679132   119.393449   121.951425     0.000000   \n",
      "25%     230.482578   233.976283   245.721419   243.850282     0.000000   \n",
      "50%     253.309217   257.270334   270.790095   269.300432     0.000000   \n",
      "75%     274.861445   278.800420   290.139446   289.699652     0.000000   \n",
      "max     311.991660   315.569164   328.920274   327.253141     1.000000   \n",
      "\n",
      "        uswrf_s2_4   uswrf_s3_4   uswrf_s4_4   uswrf_s5_4        energy  \n",
      "count  4380.000000  4380.000000  4380.000000  4380.000000  4.380000e+03  \n",
      "mean     38.585222    76.064674   126.504047    99.087049  1.687247e+07  \n",
      "std      25.984861    30.784078    40.571154    35.454368  7.924037e+06  \n",
      "min       0.000000     3.181818     4.363636     2.545455  7.206000e+05  \n",
      "25%      14.000000    53.431818   108.454545    74.795455  1.137892e+07  \n",
      "50%      35.363636    79.272727   135.909091   104.818182  1.695705e+07  \n",
      "75%      61.818182   102.727273   155.204545   129.545455  2.375048e+07  \n",
      "max      92.272727   192.636364   450.636364   313.909091  3.134790e+07  \n",
      "\n",
      "[8 rows x 280 columns]\n"
     ]
    }
   ],
   "source": [
    "print(ava.describe())\n"
   ]
  },
  {
   "cell_type": "code",
   "execution_count": 37,
   "metadata": {},
   "outputs": [
    {
     "name": "stderr",
     "output_type": "stream",
     "text": [
      "Exception ignored in: <function ZipFile.__del__ at 0x1033c8900>\n",
      "Traceback (most recent call last):\n",
      "  File \"/Library/Frameworks/Python.framework/Versions/3.11/lib/python3.11/zipfile.py\", line 1870, in __del__\n",
      "    self.close()\n",
      "  File \"/Library/Frameworks/Python.framework/Versions/3.11/lib/python3.11/zipfile.py\", line 1887, in close\n",
      "    self.fp.seek(self.start_dir)\n",
      "ValueError: seek of closed file\n"
     ]
    },
    {
     "data": {
      "image/png": "[encoded data removed]",
      "text/plain": [
       "<Figure size 640x480 with 1 Axes>"
      ]
     },
     "metadata": {},
     "output_type": "display_data"
    }
   ],
   "source": [
    "import matplotlib.pyplot as plt\n",
    "\n",
    "plt.hist(ava['energy'], bins=20) \n",
    "plt.xlabel('Energy')\n",
    "plt.ylabel('Frequency')\n",
    "plt.title('Distribution of Energy')\n",
    "plt.show()\n"
   ]
  }
 ],
 "metadata": {
  "kernelspec": {
   "display_name": "venv",
   "language": "python",
   "name": "python3"
  },
  "language_info": {
   "codemirror_mode": {
    "name": "ipython",
    "version": 3
   },
   "file_extension": ".py",
   "mimetype": "text/x-python",
   "name": "python",
   "nbconvert_exporter": "python",
   "pygments_lexer": "ipython3",
   "version": "3.11.2"
  }
 },
 "nbformat": 4,
 "nbformat_minor": 2
}
