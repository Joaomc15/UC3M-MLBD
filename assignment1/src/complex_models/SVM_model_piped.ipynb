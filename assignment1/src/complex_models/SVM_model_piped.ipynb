{
 "cells": [
  {
   "cell_type": "markdown",
   "metadata": {},
   "source": [
    "# 3rd Model: SVM (Scalable Vector Machine) Model\n",
    "\n",
    "The Scalable Vector Machine model can be used for both classification and regression tasks. It is particularly effective in high-dimensional spaces and is well-suited for cases where the data is not linearly separable. SVMs work by finding the optimal hyperplane that best separates different classes or predicts a continuous target variable. In a binary classification task, the SVM seeks to find the optimal hyperplane that maximally separates two classes. The hyperplane is a decision boundary in the feature space. For a two-dimensional space, the hyperplane is a line. In higher dimensions, it becomes a hyperplane. Support vectors are data points that are closest to the decision boundary (hyperplane). These points are critical in determining the position and orientation of the hyperplane. The margin is the distance between the hyperplane and the nearest data point from each class. SVM aims to maximize this margin, making the decision boundary robust to new data points.\n",
    "\n",
    "For regression tasks, SVM aims to fit a hyperplane that captures the trend of the data while allowing a certain deviation. SVR introduces a tube around the regression line, and the goal is to fit the line within this tube, allowing for a certain deviation (controlled by the hyperparameter epsilon). SVR minimizes the loss function, which penalizes points that fall outside the tube.\n",
    "\n",
    "Advantages:\n",
    "- Effective in High Dimensions: SVM performs well even in high-dimensional spaces.\n",
    "- Robust to Overfitting: By maximizing the margin, SVM tends to be less prone to overfitting.\n",
    "- Versatile: Can handle both linear and non-linear relationships in data.\n",
    "\n",
    "Limitations:\n",
    "- Computational Complexity: Training an SVM can be computationally expensive, especially for large datasets."
   ]
  },
  {
   "cell_type": "markdown",
   "metadata": {},
   "source": [
    "#### Importing libraries and loading data"
   ]
  },
  {
   "cell_type": "code",
   "execution_count": 7,
   "metadata": {},
   "outputs": [],
   "source": [
    "import pandas as pd\n",
    "import numpy as np\n",
    "import matplotlib.pyplot as plt"
   ]
  },
  {
   "cell_type": "code",
   "execution_count": 8,
   "metadata": {},
   "outputs": [
    {
     "data": {
      "text/plain": [
       "<bound method NDFrame.head of        apcp_sf1_1  apcp_sf2_1 apcp_sf3_1  apcp_sf4_1  apcp_sf5_1  dlwrf_s1_1  \\\n",
       "V1       0.000000         0.0          1    0.000000    0.000000  256.492673   \n",
       "V2       0.000000         0.0          1    0.017273    0.139091  257.998596   \n",
       "V3       0.000000         0.0          1    0.000000    0.000000  219.280002   \n",
       "V4       0.004545         0.0          1    0.000000    0.000000  267.863045   \n",
       "V5       0.000000         0.0          1    0.000000    0.000000  238.162747   \n",
       "...           ...         ...        ...         ...         ...         ...   \n",
       "V4376    0.010909         0.0          1    0.000000    0.000000  278.168651   \n",
       "V4377    0.000000         0.0          1    0.000000    0.000000  251.551092   \n",
       "V4378    0.000000         0.0          1    0.000000    0.000000  269.446164   \n",
       "V4379    0.000000         0.0          1    0.000000    0.000000  268.862049   \n",
       "V4380    0.000000         0.0          1    0.000000    0.000000  269.112621   \n",
       "\n",
       "       dlwrf_s2_1  dlwrf_s3_1  dlwrf_s4_1  dlwrf_s5_1  ...  ulwrf_t2_4  \\\n",
       "V1     244.696186  251.901758  270.741308  269.377441  ...  252.504475   \n",
       "V2     256.096852  271.982095  308.896287  302.474537  ...  233.458263   \n",
       "V3     211.632385  217.133093  241.347305  245.840132  ...  232.828737   \n",
       "V4     226.078362  226.493584  235.365465  235.531321  ...  241.916776   \n",
       "V5     241.927051  249.123549  277.759064  286.118281  ...  233.706659   \n",
       "...           ...         ...         ...         ...  ...         ...   \n",
       "V4376  267.669606  275.727847  308.500117  294.916138  ...  243.893899   \n",
       "V4377  249.918393  257.167014  280.875871  280.614019  ...  242.674612   \n",
       "V4378  267.112097  271.172319  287.115667  285.351388  ...  241.796688   \n",
       "V4379  263.708427  268.471286  290.155748  292.805903  ...  260.070899   \n",
       "V4380  265.072546  273.043252  301.113101  296.087139  ...  244.715999   \n",
       "\n",
       "       ulwrf_t3_4  ulwrf_t4_4  ulwrf_t5_4  uswrf_s1_4  uswrf_s2_4  uswrf_s3_4  \\\n",
       "V1     254.760271  263.342404  260.067843         0.0   10.000000   50.000000   \n",
       "V2     233.027276  212.652054  222.052916         0.0    8.181818   35.909091   \n",
       "V3     235.480750  245.177331  238.893102         0.0   10.272727   55.272727   \n",
       "V4     243.398572  251.473036  247.503769         0.0    8.909091   46.000000   \n",
       "V5     239.952805  258.128188  253.200684         0.0    8.909091   48.909091   \n",
       "...           ...         ...         ...         ...         ...         ...   \n",
       "V4376  230.507112  220.916945  230.789404         0.0    9.090909   36.363636   \n",
       "V4377  247.880528  267.247514  263.751090         0.0   10.000000   50.090909   \n",
       "V4378  251.735736  283.278129  283.570221         0.0    9.545455   49.545455   \n",
       "V4379  264.799494  278.286685  275.529738         0.0   10.000000   51.545455   \n",
       "V4380  250.610690  245.446594  243.667210         0.0    9.000000   48.545455   \n",
       "\n",
       "       uswrf_s4_4  uswrf_s5_4    energy  \n",
       "V1     106.636364   72.000000  12384900  \n",
       "V2      58.181818   42.090909  11908500  \n",
       "V3     118.454545   79.181818  12470700  \n",
       "V4     107.090909   73.636364  12725400  \n",
       "V5     106.272727   71.818182  10894800  \n",
       "...           ...         ...       ...  \n",
       "V4376   32.000000   23.090909  11276400  \n",
       "V4377  105.909091   71.000000  11739600  \n",
       "V4378  107.363636   72.636364  11870100  \n",
       "V4379  107.181818   71.727273  11089500  \n",
       "V4380   98.909091   65.636364   8790000  \n",
       "\n",
       "[4380 rows x 301 columns]>"
      ]
     },
     "execution_count": 8,
     "metadata": {},
     "output_type": "execute_result"
    }
   ],
   "source": [
    "df = pd.read_pickle('../../data/ava_st1_ns4_56.pkl')\n",
    "df.head\n"
   ]
  },
  {
   "cell_type": "markdown",
   "metadata": {},
   "source": [
    "#### Establishing input and output columns"
   ]
  },
  {
   "cell_type": "code",
   "execution_count": 9,
   "metadata": {},
   "outputs": [],
   "source": [
    "x = df.drop('energy', axis=1)\n",
    "y = df['energy']\n"
   ]
  },
  {
   "cell_type": "markdown",
   "metadata": {},
   "source": [
    "#### Splitting data into training and testing sets"
   ]
  },
  {
   "cell_type": "code",
   "execution_count": 10,
   "metadata": {},
   "outputs": [],
   "source": [
    "from sklearn.model_selection import train_test_split\n"
   ]
  },
  {
   "cell_type": "code",
   "execution_count": 11,
   "metadata": {},
   "outputs": [],
   "source": [
    "X_train, X_test, y_train, y_test = train_test_split(x, y, test_size=0.25, random_state=56)"
   ]
  },
  {
   "cell_type": "markdown",
   "metadata": {},
   "source": [
    "#### Creating the pipeline\n",
    "\n",
    "Previously I was using the ColumnTransformer to create a preprocessing pipeline to apply different scaling techniques to the columns. However,  I switched to using the Pipeline class to create a pipeline that applies the preprocessing steps and the model. This is because the ColumnTransformer does not allow for the use of the GridSearchCV, RandomSearchCV, or BayesSearchCV class to tune the hyperparameters of the model."
   ]
  },
  {
   "cell_type": "code",
   "execution_count": 13,
   "metadata": {},
   "outputs": [],
   "source": [
    "from sklearn.svm import SVR\n",
    "from sklearn.preprocessing import StandardScaler\n",
    "from sklearn.pipeline import Pipeline\n",
    "from sklearn.compose import ColumnTransformer\n",
    "from sklearn.compose import make_column_selector\n",
    "from sklearn.preprocessing import StandardScaler, MinMaxScaler\n",
    "from sklearn.model_selection import train_test_split\n",
    "from sklearn.preprocessing import OneHotEncoder\n",
    "\n",
    "# This is the preprocessing pipeline: SVMs need scaling and one-hot encoder\n",
    "preprocessor = ColumnTransformer(\n",
    "    transformers=[\n",
    "        ('STscaler', StandardScaler(), make_column_selector(dtype_include=np.float64)),\n",
    "        ('MMscaler', MinMaxScaler(), make_column_selector(dtype_include=np.int64)),\n",
    "        ('OHE', OneHotEncoder(drop='first'), make_column_selector(dtype_include='category'))\n",
    "    ],\n",
    "    remainder='passthrough'\n",
    ")\n",
    "# We use gausian / radial kernel\n",
    "svr = SVR(kernel=\"rbf\")\n",
    "\n",
    "# Combining the preprocessor with the SVM classifier in a pipeline\n",
    "pipe_scale_svr = Pipeline([\n",
    "    ('preprocessor', preprocessor),\n",
    "    ('SVM', svr)\n",
    "])\n",
    "\n",
    "\n",
    "\n",
    "# This is the preprocessing pipeline: SVMs need scaling\n",
    "# pipe_scale_svr = Pipeline([\n",
    "#     ('scale', scaler),\n",
    "#     ('SVM', svr)])\n",
    "\n"
   ]
  },
  {
   "cell_type": "markdown",
   "metadata": {},
   "source": [
    "# RandomizedSearchCV\n",
    "\n",
    "Instead of trying out all possible combinations of hyperparameters, as GridSearchCV does, RandomizedSearchCV samples a fixed number of hyperparameter settings from specified probability distributions. This can be more efficient, especially when searching over a large hyperparameter space. \n",
    "- For cross validation, data will be split using K-Fold cross-validation with 3 folds.\n",
    "- The budget sets the number of parameter settings to sample, which in this case is set to 20."
   ]
  },
  {
   "cell_type": "code",
   "execution_count": 15,
   "metadata": {},
   "outputs": [
    {
     "name": "stdout",
     "output_type": "stream",
     "text": [
      "Fitting 3 folds for each of 2 candidates, totalling 6 fits\n",
      "Best parameters set found on development set: {'SVM__C': 8336.029689055413, 'SVM__gamma': 0.0021560015267633775}\n"
     ]
    }
   ],
   "source": [
    "from sklearn.model_selection import RandomizedSearchCV, KFold\n",
    "from scipy.stats import loguniform\n",
    "from sklearn.metrics import mean_squared_error\n",
    "from sklearn.metrics import r2_score\n",
    "from sklearn.metrics import mean_absolute_error\n",
    "\n",
    "\n",
    "param_grid_rand = {\n",
    "    'SVM__C': loguniform(1e-1, 1e4),\n",
    "    'SVM__gamma': loguniform(1e-4, 1e0),\n",
    "}\n",
    "\n",
    "inner = KFold(n_splits=3, shuffle=True, random_state=56)\n",
    "\n",
    "budget = 20\n",
    "\n",
    "hpo_pipe_scale_svr_rand = RandomizedSearchCV(pipe_scale_svr, param_grid_rand, n_iter=budget, cv=inner, scoring='neg_mean_absolute_error', n_jobs=4, verbose=1, random_state=56)\n",
    "\n",
    "hpo_pipe_scale_svr_rand.fit(X_train, y_train)\n",
    "\n",
    "print(f\"Best parameters set found on development set: {hpo_pipe_scale_svr_rand.best_params_}\")"
   ]
  },
  {
   "cell_type": "markdown",
   "metadata": {},
   "source": [
    "In order to evaluate the model, I am checking the mean absolute error and the r squared score. The mean absolute error is the average of the absolute value of the errors between the predicted and actual values. The r squared score is the proportion of the variance in the dependent variable that is predictable from the independent variable. Because our date is bimodally skewed, I am using mean absolute error as the primary metric to evaluate the model."
   ]
  },
  {
   "cell_type": "code",
   "execution_count": 20,
   "metadata": {},
   "outputs": [],
   "source": [
    "y_pred_rand = hpo_pipe_scale_svr_rand.predict(X=X_test)\n",
    "# jooa add get scores"
   ]
  },
  {
   "cell_type": "markdown",
   "metadata": {},
   "source": [
    "Dont need the below cell anymore bc we have get scores"
   ]
  },
  {
   "cell_type": "code",
   "execution_count": 16,
   "metadata": {},
   "outputs": [
    {
     "name": "stdout",
     "output_type": "stream",
     "text": [
      "Mean Squared Error: 5077727.921921764\n",
      "R^2 Score: 0.3701547837790593\n"
     ]
    }
   ],
   "source": [
    "# Evaluate the model\n",
    "mae_rand = mean_absolute_error(y_test, hpo_pipe_scale_svr_rand.predict(X=X_test))\n",
    "print (f'Mean Squared Error: {mae_rand}')\n",
    "r2_rand = r2_score(y_test, hpo_pipe_scale_svr_rand.predict(X=X_test))\n",
    "print(f'R^2 Score: {r2_rand}')"
   ]
  },
  {
   "cell_type": "markdown",
   "metadata": {},
   "source": [
    "# Bayesian Optimization (BayesSearchCV)\n",
    "\n",
    "Bayesian optimization builds a probabilistic model of the objective function (performance metric) and uses this model to decide the next set of hyperparameters to evaluate. It considers both the information gained from the model and the uncertainty associated with different hyperparameter settings. We chose his approach because it is more sample-efficient than grid and random search because it intelligently selects points in the hyperparameter space to sample, focusing on promising regions."
   ]
  },
  {
   "cell_type": "code",
   "execution_count": 17,
   "metadata": {},
   "outputs": [
    {
     "name": "stdout",
     "output_type": "stream",
     "text": [
      "Fitting 3 folds for each of 1 candidates, totalling 3 fits\n",
      "Fitting 3 folds for each of 1 candidates, totalling 3 fits\n",
      "Best parameters set found on development set: OrderedDict([('SVM__C', 4957.093753417356), ('SVM__gamma', 0.016675636965041696)])\n"
     ]
    }
   ],
   "source": [
    "from sklearn.model_selection import RandomizedSearchCV, KFold\n",
    "from sklearn.metrics import mean_squared_error\n",
    "from sklearn.metrics import r2_score\n",
    "from sklearn.metrics import mean_absolute_error\n",
    "from skopt import BayesSearchCV\n",
    "from skopt.space import Real\n",
    "\n",
    "# search space \n",
    "param_grid = {'SVM__C': Real(1e-1, 1e4, prior=\"log-uniform\"),\n",
    "              'SVM__gamma': Real(1e-3, 1e0, prior=\"log-uniform\")}\n",
    "\n",
    "inner = KFold(n_splits=3, shuffle=True, random_state=56)\n",
    "\n",
    "budget = 20\n",
    "\n",
    "hpo_pipe_scale_svr = BayesSearchCV(pipe_scale_svr, param_grid, n_iter=budget, cv=inner, scoring='neg_mean_absolute_error', n_jobs=4, verbose=1, random_state=56)\n",
    "hpo_pipe_scale_svr.fit(X_train, y_train)\n",
    "\n",
    "print(f\"Best parameters set found on development set: {hpo_pipe_scale_svr.best_params_}\")\n",
    "\n"
   ]
  },
  {
   "cell_type": "code",
   "execution_count": null,
   "metadata": {},
   "outputs": [],
   "source": [
    "y_pred_bayes = hpo_pipe_scale_svr.predict(X=X_test)\n",
    "# joao add the get scores"
   ]
  },
  {
   "cell_type": "markdown",
   "metadata": {},
   "source": [
    "Dont need the below stuff anymore bc of get scores"
   ]
  },
  {
   "cell_type": "code",
   "execution_count": 18,
   "metadata": {},
   "outputs": [
    {
     "name": "stdout",
     "output_type": "stream",
     "text": [
      "Mean Squared Error: 6252765.847308698\n",
      "R^2 Score: 0.09977780198818287\n"
     ]
    }
   ],
   "source": [
    "# Evaluate the model\n",
    "mae = mean_absolute_error(y_test, hpo_pipe_scale_svr.predict(X=X_test))\n",
    "print (f'Mean Squared Error: {mae}')\n",
    "r2 = r2_score(y_test, hpo_pipe_scale_svr.predict(X=X_test))\n",
    "print(f'R^2 Score: {r2}')"
   ]
  },
  {
   "cell_type": "markdown",
   "metadata": {},
   "source": [
    "## Data Visualization\n",
    "\n",
    "The following convergence plot will show us if the optimization has converged. A convergence plot provides insights into how well the optimization algorithm is progressing over iterations. Steep drop-offs indicate key points where the algorithm made significant improvements, and the negative correlation shows that, on average, the algorithm is moving toward better hyperparameter configurations. Monitoring convergence is essential to assess the effectiveness of the optimization process and determine when to stop further exploration. Here we see steep drop offs at number of calls n=5 and n=11. \n",
    "\n",
    "X-Axis (n): The number of calls or iterations of the optimization algorithm. Each call represents a trial where a set of hyperparameters is evaluated.\n",
    "\n",
    "Y-Axis (minf(x)): The value of the objective function (minf) after n calls. The objective function is the function that the optimization algorithm is trying to minimize or maximize."
   ]
  },
  {
   "cell_type": "code",
   "execution_count": 19,
   "metadata": {},
   "outputs": [
    {
     "data": {
      "image/png": "[encoded data removed]",
      "text/plain": [
       "<Figure size 640x480 with 1 Axes>"
      ]
     },
     "metadata": {},
     "output_type": "display_data"
    }
   ],
   "source": [
    "from skopt.plots import plot_convergence\n",
    "\n",
    "_ = plot_convergence(hpo_pipe_scale_svr.optimizer_results_[0])\n",
    "plt.show()"
   ]
  },
  {
   "cell_type": "markdown",
   "metadata": {},
   "source": [
    "### Summary of Results\n",
    "\n",
    "From the results we can see the r2 value of _________ and the mean absolute error of _________. The SVM model was the model that performed the worst out of the 5 different models. This may be due to the complexity of the data. SVMs might not perform well on highly complex datasets or datasets with intricate patterns. They work well when there is a clear margin of separation between classes. If the relationship between features and the target variable is not well-captured by hyperplanes, SVMs may struggle. SVM's are also computationally complex, so with the limited capabilities of my computer I had to have a low budget of 20. With a more capable computer, I would have been able to make a higher budget, and therefore get more accurate results. "
   ]
  },
  {
   "cell_type": "markdown",
   "metadata": {},
   "source": []
  }
 ],
 "metadata": {
  "kernelspec": {
   "display_name": "venv",
   "language": "python",
   "name": "python3"
  },
  "language_info": {
   "codemirror_mode": {
    "name": "ipython",
    "version": 3
   },
   "file_extension": ".py",
   "mimetype": "text/x-python",
   "name": "python",
   "nbconvert_exporter": "python",
   "pygments_lexer": "ipython3",
   "version": "3.11.0"
  }
 },
 "nbformat": 4,
 "nbformat_minor": 2
}
