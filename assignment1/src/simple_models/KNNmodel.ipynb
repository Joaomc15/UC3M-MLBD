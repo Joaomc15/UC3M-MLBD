{
 "cells": [
  {
   "cell_type": "markdown",
   "metadata": {},
   "source": [
    "KNN model\n"
   ]
  },
  {
   "cell_type": "markdown",
   "metadata": {},
   "source": [
    "Import dependencies"
   ]
  },
  {
   "cell_type": "code",
   "execution_count": 1,
   "metadata": {},
   "outputs": [
    {
     "name": "stdout",
     "output_type": "stream",
     "text": [
      "Unexpected exception formatting exception. Falling back to standard exception\n"
     ]
    },
    {
     "name": "stderr",
     "output_type": "stream",
     "text": [
      "Traceback (most recent call last):\n",
      "  File \"/Users/joaocarvalho/Documents/School/Abroad2023/UC3M-MLBD/venv/lib/python3.11/site-packages/IPython/core/interactiveshell.py\", line 3526, in run_code\n",
      "  File \"/var/folders/sj/k312p88j4_n0yc63fb4d4k8h0000gn/T/ipykernel_42614/3538350959.py\", line 1, in <module>\n",
      "    import pandas as pd\n",
      "ModuleNotFoundError: No module named 'pandas'\n",
      "\n",
      "During handling of the above exception, another exception occurred:\n",
      "\n",
      "Traceback (most recent call last):\n",
      "  File \"/Users/joaocarvalho/Documents/School/Abroad2023/UC3M-MLBD/venv/lib/python3.11/site-packages/pygments/styles/__init__.py\", line 90, in get_style_by_name\n",
      "ModuleNotFoundError: No module named 'pygments.styles.default'\n",
      "\n",
      "During handling of the above exception, another exception occurred:\n",
      "\n",
      "Traceback (most recent call last):\n",
      "  File \"/Users/joaocarvalho/Documents/School/Abroad2023/UC3M-MLBD/venv/lib/python3.11/site-packages/IPython/core/interactiveshell.py\", line 2120, in showtraceback\n",
      "  File \"/Users/joaocarvalho/Documents/School/Abroad2023/UC3M-MLBD/venv/lib/python3.11/site-packages/IPython/core/ultratb.py\", line 1435, in structured_traceback\n",
      "  File \"/Users/joaocarvalho/Documents/School/Abroad2023/UC3M-MLBD/venv/lib/python3.11/site-packages/IPython/core/ultratb.py\", line 1326, in structured_traceback\n",
      "  File \"/Users/joaocarvalho/Documents/School/Abroad2023/UC3M-MLBD/venv/lib/python3.11/site-packages/IPython/core/ultratb.py\", line 1173, in structured_traceback\n",
      "  File \"/Users/joaocarvalho/Documents/School/Abroad2023/UC3M-MLBD/venv/lib/python3.11/site-packages/IPython/core/ultratb.py\", line 1063, in format_exception_as_a_whole\n",
      "  File \"/Users/joaocarvalho/Documents/School/Abroad2023/UC3M-MLBD/venv/lib/python3.11/site-packages/IPython/core/ultratb.py\", line 1114, in get_records\n",
      "  File \"/Users/joaocarvalho/Documents/School/Abroad2023/UC3M-MLBD/venv/lib/python3.11/site-packages/pygments/styles/__init__.py\", line 92, in get_style_by_name\n",
      "pygments.util.ClassNotFound: Could not find style module 'default', though it should be builtin.\n"
     ]
    }
   ],
   "source": [
    "import pandas as pd\n",
    "import numpy as np\n",
    "import matplotlib.pyplot as plt\n"
   ]
  },
  {
   "cell_type": "markdown",
   "metadata": {},
   "source": [
    "Import data"
   ]
  },
  {
   "cell_type": "code",
   "execution_count": 2,
   "metadata": {},
   "outputs": [
    {
     "name": "stdout",
     "output_type": "stream",
     "text": [
      "Unexpected exception formatting exception. Falling back to standard exception\n"
     ]
    },
    {
     "name": "stderr",
     "output_type": "stream",
     "text": [
      "Traceback (most recent call last):\n",
      "  File \"/Users/joaocarvalho/Documents/School/Abroad2023/UC3M-MLBD/venv/lib/python3.11/site-packages/IPython/core/interactiveshell.py\", line 3526, in run_code\n",
      "  File \"/var/folders/sj/k312p88j4_n0yc63fb4d4k8h0000gn/T/ipykernel_42614/2492849590.py\", line 1, in <module>\n",
      "    df = pd.read_pickle('../../data/ava_st1_ns4_56.pkl')\n",
      "         ^^\n",
      "NameError: name 'pd' is not defined\n",
      "\n",
      "During handling of the above exception, another exception occurred:\n",
      "\n",
      "Traceback (most recent call last):\n",
      "  File \"/Users/joaocarvalho/Documents/School/Abroad2023/UC3M-MLBD/venv/lib/python3.11/site-packages/pygments/styles/__init__.py\", line 90, in get_style_by_name\n",
      "ModuleNotFoundError: No module named 'pygments.styles.default'\n",
      "\n",
      "During handling of the above exception, another exception occurred:\n",
      "\n",
      "Traceback (most recent call last):\n",
      "  File \"/Users/joaocarvalho/Documents/School/Abroad2023/UC3M-MLBD/venv/lib/python3.11/site-packages/IPython/core/interactiveshell.py\", line 2120, in showtraceback\n",
      "  File \"/Users/joaocarvalho/Documents/School/Abroad2023/UC3M-MLBD/venv/lib/python3.11/site-packages/IPython/core/ultratb.py\", line 1435, in structured_traceback\n",
      "  File \"/Users/joaocarvalho/Documents/School/Abroad2023/UC3M-MLBD/venv/lib/python3.11/site-packages/IPython/core/ultratb.py\", line 1326, in structured_traceback\n",
      "  File \"/Users/joaocarvalho/Documents/School/Abroad2023/UC3M-MLBD/venv/lib/python3.11/site-packages/IPython/core/ultratb.py\", line 1173, in structured_traceback\n",
      "  File \"/Users/joaocarvalho/Documents/School/Abroad2023/UC3M-MLBD/venv/lib/python3.11/site-packages/IPython/core/ultratb.py\", line 1063, in format_exception_as_a_whole\n",
      "  File \"/Users/joaocarvalho/Documents/School/Abroad2023/UC3M-MLBD/venv/lib/python3.11/site-packages/IPython/core/ultratb.py\", line 1114, in get_records\n",
      "  File \"/Users/joaocarvalho/Documents/School/Abroad2023/UC3M-MLBD/venv/lib/python3.11/site-packages/pygments/styles/__init__.py\", line 92, in get_style_by_name\n",
      "pygments.util.ClassNotFound: Could not find style module 'default', though it should be builtin.\n"
     ]
    }
   ],
   "source": [
    "df = pd.read_pickle('../../data/ava_st1_ns4_56.pkl')\n",
    "df.head\n"
   ]
  },
  {
   "cell_type": "markdown",
   "metadata": {},
   "source": [
    "Establish inputs and output columns."
   ]
  },
  {
   "cell_type": "code",
   "execution_count": 3,
   "metadata": {},
   "outputs": [
    {
     "name": "stdout",
     "output_type": "stream",
     "text": [
      "Unexpected exception formatting exception. Falling back to standard exception\n"
     ]
    },
    {
     "name": "stderr",
     "output_type": "stream",
     "text": [
      "Traceback (most recent call last):\n",
      "  File \"/Users/joaocarvalho/Documents/School/Abroad2023/UC3M-MLBD/venv/lib/python3.11/site-packages/IPython/core/interactiveshell.py\", line 3526, in run_code\n",
      "  File \"/var/folders/sj/k312p88j4_n0yc63fb4d4k8h0000gn/T/ipykernel_42614/1429117748.py\", line 1, in <module>\n",
      "    x = df.drop('energy', axis=1)\n",
      "        ^^\n",
      "NameError: name 'df' is not defined\n",
      "\n",
      "During handling of the above exception, another exception occurred:\n",
      "\n",
      "Traceback (most recent call last):\n",
      "  File \"/Users/joaocarvalho/Documents/School/Abroad2023/UC3M-MLBD/venv/lib/python3.11/site-packages/pygments/styles/__init__.py\", line 90, in get_style_by_name\n",
      "ModuleNotFoundError: No module named 'pygments.styles.default'\n",
      "\n",
      "During handling of the above exception, another exception occurred:\n",
      "\n",
      "Traceback (most recent call last):\n",
      "  File \"/Users/joaocarvalho/Documents/School/Abroad2023/UC3M-MLBD/venv/lib/python3.11/site-packages/IPython/core/interactiveshell.py\", line 2120, in showtraceback\n",
      "  File \"/Users/joaocarvalho/Documents/School/Abroad2023/UC3M-MLBD/venv/lib/python3.11/site-packages/IPython/core/ultratb.py\", line 1435, in structured_traceback\n",
      "  File \"/Users/joaocarvalho/Documents/School/Abroad2023/UC3M-MLBD/venv/lib/python3.11/site-packages/IPython/core/ultratb.py\", line 1326, in structured_traceback\n",
      "  File \"/Users/joaocarvalho/Documents/School/Abroad2023/UC3M-MLBD/venv/lib/python3.11/site-packages/IPython/core/ultratb.py\", line 1173, in structured_traceback\n",
      "  File \"/Users/joaocarvalho/Documents/School/Abroad2023/UC3M-MLBD/venv/lib/python3.11/site-packages/IPython/core/ultratb.py\", line 1063, in format_exception_as_a_whole\n",
      "  File \"/Users/joaocarvalho/Documents/School/Abroad2023/UC3M-MLBD/venv/lib/python3.11/site-packages/IPython/core/ultratb.py\", line 1114, in get_records\n",
      "  File \"/Users/joaocarvalho/Documents/School/Abroad2023/UC3M-MLBD/venv/lib/python3.11/site-packages/pygments/styles/__init__.py\", line 92, in get_style_by_name\n",
      "pygments.util.ClassNotFound: Could not find style module 'default', though it should be builtin.\n"
     ]
    }
   ],
   "source": [
    "x = df.drop('energy', axis=1)\n",
    "y = df['energy']\n",
    "\n",
    "\n"
   ]
  },
  {
   "cell_type": "markdown",
   "metadata": {},
   "source": [
    "Import sklearn dependencies for standardization and train/test split."
   ]
  },
  {
   "cell_type": "code",
   "execution_count": 4,
   "metadata": {},
   "outputs": [
    {
     "name": "stdout",
     "output_type": "stream",
     "text": [
      "Unexpected exception formatting exception. Falling back to standard exception\n"
     ]
    },
    {
     "name": "stderr",
     "output_type": "stream",
     "text": [
      "Traceback (most recent call last):\n",
      "  File \"/Users/joaocarvalho/Documents/School/Abroad2023/UC3M-MLBD/venv/lib/python3.11/site-packages/IPython/core/interactiveshell.py\", line 3526, in run_code\n",
      "  File \"/var/folders/sj/k312p88j4_n0yc63fb4d4k8h0000gn/T/ipykernel_42614/2684867207.py\", line 1, in <module>\n",
      "    from sklearn.compose import ColumnTransformer\n",
      "ModuleNotFoundError: No module named 'sklearn'\n",
      "\n",
      "During handling of the above exception, another exception occurred:\n",
      "\n",
      "Traceback (most recent call last):\n",
      "  File \"/Users/joaocarvalho/Documents/School/Abroad2023/UC3M-MLBD/venv/lib/python3.11/site-packages/pygments/styles/__init__.py\", line 90, in get_style_by_name\n",
      "ModuleNotFoundError: No module named 'pygments.styles.default'\n",
      "\n",
      "During handling of the above exception, another exception occurred:\n",
      "\n",
      "Traceback (most recent call last):\n",
      "  File \"/Users/joaocarvalho/Documents/School/Abroad2023/UC3M-MLBD/venv/lib/python3.11/site-packages/IPython/core/interactiveshell.py\", line 2120, in showtraceback\n",
      "  File \"/Users/joaocarvalho/Documents/School/Abroad2023/UC3M-MLBD/venv/lib/python3.11/site-packages/IPython/core/ultratb.py\", line 1435, in structured_traceback\n",
      "  File \"/Users/joaocarvalho/Documents/School/Abroad2023/UC3M-MLBD/venv/lib/python3.11/site-packages/IPython/core/ultratb.py\", line 1326, in structured_traceback\n",
      "  File \"/Users/joaocarvalho/Documents/School/Abroad2023/UC3M-MLBD/venv/lib/python3.11/site-packages/IPython/core/ultratb.py\", line 1173, in structured_traceback\n",
      "  File \"/Users/joaocarvalho/Documents/School/Abroad2023/UC3M-MLBD/venv/lib/python3.11/site-packages/IPython/core/ultratb.py\", line 1063, in format_exception_as_a_whole\n",
      "  File \"/Users/joaocarvalho/Documents/School/Abroad2023/UC3M-MLBD/venv/lib/python3.11/site-packages/IPython/core/ultratb.py\", line 1114, in get_records\n",
      "  File \"/Users/joaocarvalho/Documents/School/Abroad2023/UC3M-MLBD/venv/lib/python3.11/site-packages/pygments/styles/__init__.py\", line 92, in get_style_by_name\n",
      "pygments.util.ClassNotFound: Could not find style module 'default', though it should be builtin.\n"
     ]
    }
   ],
   "source": [
    "from sklearn.compose import ColumnTransformer\n",
    "from sklearn.compose import make_column_selector\n",
    "from sklearn.preprocessing import StandardScaler, MinMaxScaler\n",
    "from sklearn.model_selection import train_test_split\n"
   ]
  },
  {
   "cell_type": "code",
   "execution_count": 5,
   "metadata": {},
   "outputs": [
    {
     "name": "stdout",
     "output_type": "stream",
     "text": [
      "Unexpected exception formatting exception. Falling back to standard exception\n"
     ]
    },
    {
     "name": "stderr",
     "output_type": "stream",
     "text": [
      "Traceback (most recent call last):\n",
      "  File \"/Users/joaocarvalho/Documents/School/Abroad2023/UC3M-MLBD/venv/lib/python3.11/site-packages/IPython/core/interactiveshell.py\", line 3526, in run_code\n",
      "  File \"/var/folders/sj/k312p88j4_n0yc63fb4d4k8h0000gn/T/ipykernel_42614/1232039145.py\", line 1, in <module>\n",
      "    preprocessor = ColumnTransformer(\n",
      "                   ^^^^^^^^^^^^^^^^^\n",
      "NameError: name 'ColumnTransformer' is not defined\n",
      "\n",
      "During handling of the above exception, another exception occurred:\n",
      "\n",
      "Traceback (most recent call last):\n",
      "  File \"/Users/joaocarvalho/Documents/School/Abroad2023/UC3M-MLBD/venv/lib/python3.11/site-packages/pygments/styles/__init__.py\", line 90, in get_style_by_name\n",
      "ModuleNotFoundError: No module named 'pygments.styles.default'\n",
      "\n",
      "During handling of the above exception, another exception occurred:\n",
      "\n",
      "Traceback (most recent call last):\n",
      "  File \"/Users/joaocarvalho/Documents/School/Abroad2023/UC3M-MLBD/venv/lib/python3.11/site-packages/IPython/core/interactiveshell.py\", line 2120, in showtraceback\n",
      "  File \"/Users/joaocarvalho/Documents/School/Abroad2023/UC3M-MLBD/venv/lib/python3.11/site-packages/IPython/core/ultratb.py\", line 1435, in structured_traceback\n",
      "  File \"/Users/joaocarvalho/Documents/School/Abroad2023/UC3M-MLBD/venv/lib/python3.11/site-packages/IPython/core/ultratb.py\", line 1326, in structured_traceback\n",
      "  File \"/Users/joaocarvalho/Documents/School/Abroad2023/UC3M-MLBD/venv/lib/python3.11/site-packages/IPython/core/ultratb.py\", line 1173, in structured_traceback\n",
      "  File \"/Users/joaocarvalho/Documents/School/Abroad2023/UC3M-MLBD/venv/lib/python3.11/site-packages/IPython/core/ultratb.py\", line 1063, in format_exception_as_a_whole\n",
      "  File \"/Users/joaocarvalho/Documents/School/Abroad2023/UC3M-MLBD/venv/lib/python3.11/site-packages/IPython/core/ultratb.py\", line 1114, in get_records\n",
      "  File \"/Users/joaocarvalho/Documents/School/Abroad2023/UC3M-MLBD/venv/lib/python3.11/site-packages/pygments/styles/__init__.py\", line 92, in get_style_by_name\n",
      "pygments.util.ClassNotFound: Could not find style module 'default', though it should be builtin.\n"
     ]
    }
   ],
   "source": [
    "preprocessor = ColumnTransformer(\n",
    "    transformers = [\n",
    "        ('STscaler', StandardScaler(), make_column_selector(dtype_include=np.float64)),\n",
    "        ('MMscaler', MinMaxScaler(), make_column_selector(dtype_include=np.int64))\n",
    "    ],\n",
    "    remainder = 'passthrough'\n",
    ")\n",
    "\n",
    "preprocessor.fit(x)\n",
    "\n",
    "X =  preprocessor.transform(x)\n",
    "\n"
   ]
  },
  {
   "cell_type": "markdown",
   "metadata": {},
   "source": [
    "# Now do Holdout Method"
   ]
  },
  {
   "cell_type": "markdown",
   "metadata": {},
   "source": [
    "Split the data into training and testing sets."
   ]
  },
  {
   "cell_type": "code",
   "execution_count": 6,
   "metadata": {},
   "outputs": [
    {
     "name": "stdout",
     "output_type": "stream",
     "text": [
      "Unexpected exception formatting exception. Falling back to standard exception\n"
     ]
    },
    {
     "name": "stderr",
     "output_type": "stream",
     "text": [
      "Traceback (most recent call last):\n",
      "  File \"/Users/joaocarvalho/Documents/School/Abroad2023/UC3M-MLBD/venv/lib/python3.11/site-packages/IPython/core/interactiveshell.py\", line 3526, in run_code\n",
      "  File \"/var/folders/sj/k312p88j4_n0yc63fb4d4k8h0000gn/T/ipykernel_42614/2495406589.py\", line 1, in <module>\n",
      "    X_train, X_test, y_train, y_test = train_test_split(X, y, test_size=0.2)\n",
      "                                       ^^^^^^^^^^^^^^^^\n",
      "NameError: name 'train_test_split' is not defined\n",
      "\n",
      "During handling of the above exception, another exception occurred:\n",
      "\n",
      "Traceback (most recent call last):\n",
      "  File \"/Users/joaocarvalho/Documents/School/Abroad2023/UC3M-MLBD/venv/lib/python3.11/site-packages/pygments/styles/__init__.py\", line 90, in get_style_by_name\n",
      "ModuleNotFoundError: No module named 'pygments.styles.default'\n",
      "\n",
      "During handling of the above exception, another exception occurred:\n",
      "\n",
      "Traceback (most recent call last):\n",
      "  File \"/Users/joaocarvalho/Documents/School/Abroad2023/UC3M-MLBD/venv/lib/python3.11/site-packages/IPython/core/interactiveshell.py\", line 2120, in showtraceback\n",
      "  File \"/Users/joaocarvalho/Documents/School/Abroad2023/UC3M-MLBD/venv/lib/python3.11/site-packages/IPython/core/ultratb.py\", line 1435, in structured_traceback\n",
      "  File \"/Users/joaocarvalho/Documents/School/Abroad2023/UC3M-MLBD/venv/lib/python3.11/site-packages/IPython/core/ultratb.py\", line 1326, in structured_traceback\n",
      "  File \"/Users/joaocarvalho/Documents/School/Abroad2023/UC3M-MLBD/venv/lib/python3.11/site-packages/IPython/core/ultratb.py\", line 1173, in structured_traceback\n",
      "  File \"/Users/joaocarvalho/Documents/School/Abroad2023/UC3M-MLBD/venv/lib/python3.11/site-packages/IPython/core/ultratb.py\", line 1063, in format_exception_as_a_whole\n",
      "  File \"/Users/joaocarvalho/Documents/School/Abroad2023/UC3M-MLBD/venv/lib/python3.11/site-packages/IPython/core/ultratb.py\", line 1114, in get_records\n",
      "  File \"/Users/joaocarvalho/Documents/School/Abroad2023/UC3M-MLBD/venv/lib/python3.11/site-packages/pygments/styles/__init__.py\", line 92, in get_style_by_name\n",
      "pygments.util.ClassNotFound: Could not find style module 'default', though it should be builtin.\n"
     ]
    }
   ],
   "source": [
    "X_train, X_test, y_train, y_test = train_test_split(X, y, test_size=0.2)\n"
   ]
  },
  {
   "cell_type": "markdown",
   "metadata": {},
   "source": [
    "Import model from sci-kit learn and fit the data and then predict the output."
   ]
  },
  {
   "cell_type": "code",
   "execution_count": 7,
   "metadata": {},
   "outputs": [
    {
     "name": "stdout",
     "output_type": "stream",
     "text": [
      "Unexpected exception formatting exception. Falling back to standard exception\n"
     ]
    },
    {
     "name": "stderr",
     "output_type": "stream",
     "text": [
      "Traceback (most recent call last):\n",
      "  File \"/Users/joaocarvalho/Documents/School/Abroad2023/UC3M-MLBD/venv/lib/python3.11/site-packages/IPython/core/interactiveshell.py\", line 3526, in run_code\n",
      "  File \"/var/folders/sj/k312p88j4_n0yc63fb4d4k8h0000gn/T/ipykernel_42614/3816626536.py\", line 1, in <module>\n",
      "    from sklearn.neighbors import KNeighborsRegressor\n",
      "ModuleNotFoundError: No module named 'sklearn'\n",
      "\n",
      "During handling of the above exception, another exception occurred:\n",
      "\n",
      "Traceback (most recent call last):\n",
      "  File \"/Users/joaocarvalho/Documents/School/Abroad2023/UC3M-MLBD/venv/lib/python3.11/site-packages/pygments/styles/__init__.py\", line 90, in get_style_by_name\n",
      "ModuleNotFoundError: No module named 'pygments.styles.default'\n",
      "\n",
      "During handling of the above exception, another exception occurred:\n",
      "\n",
      "Traceback (most recent call last):\n",
      "  File \"/Users/joaocarvalho/Documents/School/Abroad2023/UC3M-MLBD/venv/lib/python3.11/site-packages/IPython/core/interactiveshell.py\", line 2120, in showtraceback\n",
      "  File \"/Users/joaocarvalho/Documents/School/Abroad2023/UC3M-MLBD/venv/lib/python3.11/site-packages/IPython/core/ultratb.py\", line 1435, in structured_traceback\n",
      "  File \"/Users/joaocarvalho/Documents/School/Abroad2023/UC3M-MLBD/venv/lib/python3.11/site-packages/IPython/core/ultratb.py\", line 1326, in structured_traceback\n",
      "  File \"/Users/joaocarvalho/Documents/School/Abroad2023/UC3M-MLBD/venv/lib/python3.11/site-packages/IPython/core/ultratb.py\", line 1173, in structured_traceback\n",
      "  File \"/Users/joaocarvalho/Documents/School/Abroad2023/UC3M-MLBD/venv/lib/python3.11/site-packages/IPython/core/ultratb.py\", line 1063, in format_exception_as_a_whole\n",
      "  File \"/Users/joaocarvalho/Documents/School/Abroad2023/UC3M-MLBD/venv/lib/python3.11/site-packages/IPython/core/ultratb.py\", line 1114, in get_records\n",
      "  File \"/Users/joaocarvalho/Documents/School/Abroad2023/UC3M-MLBD/venv/lib/python3.11/site-packages/pygments/styles/__init__.py\", line 92, in get_style_by_name\n",
      "pygments.util.ClassNotFound: Could not find style module 'default', though it should be builtin.\n"
     ]
    }
   ],
   "source": [
    "from sklearn.neighbors import KNeighborsRegressor"
   ]
  },
  {
   "cell_type": "code",
   "execution_count": 8,
   "metadata": {},
   "outputs": [
    {
     "name": "stdout",
     "output_type": "stream",
     "text": [
      "Unexpected exception formatting exception. Falling back to standard exception\n"
     ]
    },
    {
     "name": "stderr",
     "output_type": "stream",
     "text": [
      "Traceback (most recent call last):\n",
      "  File \"/Users/joaocarvalho/Documents/School/Abroad2023/UC3M-MLBD/venv/lib/python3.11/site-packages/IPython/core/interactiveshell.py\", line 3526, in run_code\n",
      "  File \"/var/folders/sj/k312p88j4_n0yc63fb4d4k8h0000gn/T/ipykernel_42614/302870324.py\", line 1, in <module>\n",
      "    knn = KNeighborsRegressor(n_neighbors=3)\n",
      "          ^^^^^^^^^^^^^^^^^^^\n",
      "NameError: name 'KNeighborsRegressor' is not defined\n",
      "\n",
      "During handling of the above exception, another exception occurred:\n",
      "\n",
      "Traceback (most recent call last):\n",
      "  File \"/Users/joaocarvalho/Documents/School/Abroad2023/UC3M-MLBD/venv/lib/python3.11/site-packages/pygments/styles/__init__.py\", line 90, in get_style_by_name\n",
      "ModuleNotFoundError: No module named 'pygments.styles.default'\n",
      "\n",
      "During handling of the above exception, another exception occurred:\n",
      "\n",
      "Traceback (most recent call last):\n",
      "  File \"/Users/joaocarvalho/Documents/School/Abroad2023/UC3M-MLBD/venv/lib/python3.11/site-packages/IPython/core/interactiveshell.py\", line 2120, in showtraceback\n",
      "  File \"/Users/joaocarvalho/Documents/School/Abroad2023/UC3M-MLBD/venv/lib/python3.11/site-packages/IPython/core/ultratb.py\", line 1435, in structured_traceback\n",
      "  File \"/Users/joaocarvalho/Documents/School/Abroad2023/UC3M-MLBD/venv/lib/python3.11/site-packages/IPython/core/ultratb.py\", line 1326, in structured_traceback\n",
      "  File \"/Users/joaocarvalho/Documents/School/Abroad2023/UC3M-MLBD/venv/lib/python3.11/site-packages/IPython/core/ultratb.py\", line 1173, in structured_traceback\n",
      "  File \"/Users/joaocarvalho/Documents/School/Abroad2023/UC3M-MLBD/venv/lib/python3.11/site-packages/IPython/core/ultratb.py\", line 1063, in format_exception_as_a_whole\n",
      "  File \"/Users/joaocarvalho/Documents/School/Abroad2023/UC3M-MLBD/venv/lib/python3.11/site-packages/IPython/core/ultratb.py\", line 1114, in get_records\n",
      "  File \"/Users/joaocarvalho/Documents/School/Abroad2023/UC3M-MLBD/venv/lib/python3.11/site-packages/pygments/styles/__init__.py\", line 92, in get_style_by_name\n",
      "pygments.util.ClassNotFound: Could not find style module 'default', though it should be builtin.\n"
     ]
    }
   ],
   "source": [
    "knn = KNeighborsRegressor(n_neighbors=3)\n",
    "knn.fit(X_train, y_train)"
   ]
  },
  {
   "cell_type": "code",
   "execution_count": 9,
   "metadata": {},
   "outputs": [
    {
     "name": "stdout",
     "output_type": "stream",
     "text": [
      "Unexpected exception formatting exception. Falling back to standard exception\n"
     ]
    },
    {
     "name": "stderr",
     "output_type": "stream",
     "text": [
      "Traceback (most recent call last):\n",
      "  File \"/Users/joaocarvalho/Documents/School/Abroad2023/UC3M-MLBD/venv/lib/python3.11/site-packages/IPython/core/interactiveshell.py\", line 3526, in run_code\n",
      "  File \"/var/folders/sj/k312p88j4_n0yc63fb4d4k8h0000gn/T/ipykernel_42614/731477244.py\", line 1, in <module>\n",
      "    y_pred = knn.predict(X_test)\n",
      "             ^^^\n",
      "NameError: name 'knn' is not defined\n",
      "\n",
      "During handling of the above exception, another exception occurred:\n",
      "\n",
      "Traceback (most recent call last):\n",
      "  File \"/Users/joaocarvalho/Documents/School/Abroad2023/UC3M-MLBD/venv/lib/python3.11/site-packages/pygments/styles/__init__.py\", line 90, in get_style_by_name\n",
      "ModuleNotFoundError: No module named 'pygments.styles.default'\n",
      "\n",
      "During handling of the above exception, another exception occurred:\n",
      "\n",
      "Traceback (most recent call last):\n",
      "  File \"/Users/joaocarvalho/Documents/School/Abroad2023/UC3M-MLBD/venv/lib/python3.11/site-packages/IPython/core/interactiveshell.py\", line 2120, in showtraceback\n",
      "  File \"/Users/joaocarvalho/Documents/School/Abroad2023/UC3M-MLBD/venv/lib/python3.11/site-packages/IPython/core/ultratb.py\", line 1435, in structured_traceback\n",
      "  File \"/Users/joaocarvalho/Documents/School/Abroad2023/UC3M-MLBD/venv/lib/python3.11/site-packages/IPython/core/ultratb.py\", line 1326, in structured_traceback\n",
      "  File \"/Users/joaocarvalho/Documents/School/Abroad2023/UC3M-MLBD/venv/lib/python3.11/site-packages/IPython/core/ultratb.py\", line 1173, in structured_traceback\n",
      "  File \"/Users/joaocarvalho/Documents/School/Abroad2023/UC3M-MLBD/venv/lib/python3.11/site-packages/IPython/core/ultratb.py\", line 1063, in format_exception_as_a_whole\n",
      "  File \"/Users/joaocarvalho/Documents/School/Abroad2023/UC3M-MLBD/venv/lib/python3.11/site-packages/IPython/core/ultratb.py\", line 1114, in get_records\n",
      "  File \"/Users/joaocarvalho/Documents/School/Abroad2023/UC3M-MLBD/venv/lib/python3.11/site-packages/pygments/styles/__init__.py\", line 92, in get_style_by_name\n",
      "pygments.util.ClassNotFound: Could not find style module 'default', though it should be builtin.\n"
     ]
    }
   ],
   "source": [
    "y_pred = knn.predict(X_test)"
   ]
  },
  {
   "cell_type": "markdown",
   "metadata": {},
   "source": [
    "Creating a Dummy regressor to see if the model is better than random chance."
   ]
  },
  {
   "cell_type": "code",
   "execution_count": 10,
   "metadata": {},
   "outputs": [
    {
     "name": "stdout",
     "output_type": "stream",
     "text": [
      "Unexpected exception formatting exception. Falling back to standard exception\n"
     ]
    },
    {
     "name": "stderr",
     "output_type": "stream",
     "text": [
      "Traceback (most recent call last):\n",
      "  File \"/Users/joaocarvalho/Documents/School/Abroad2023/UC3M-MLBD/venv/lib/python3.11/site-packages/IPython/core/interactiveshell.py\", line 3526, in run_code\n",
      "  File \"/var/folders/sj/k312p88j4_n0yc63fb4d4k8h0000gn/T/ipykernel_42614/354296387.py\", line 1, in <module>\n",
      "    from sklearn.dummy import DummyRegressor\n",
      "ModuleNotFoundError: No module named 'sklearn'\n",
      "\n",
      "During handling of the above exception, another exception occurred:\n",
      "\n",
      "Traceback (most recent call last):\n",
      "  File \"/Users/joaocarvalho/Documents/School/Abroad2023/UC3M-MLBD/venv/lib/python3.11/site-packages/pygments/styles/__init__.py\", line 90, in get_style_by_name\n",
      "ModuleNotFoundError: No module named 'pygments.styles.default'\n",
      "\n",
      "During handling of the above exception, another exception occurred:\n",
      "\n",
      "Traceback (most recent call last):\n",
      "  File \"/Users/joaocarvalho/Documents/School/Abroad2023/UC3M-MLBD/venv/lib/python3.11/site-packages/IPython/core/interactiveshell.py\", line 2120, in showtraceback\n",
      "  File \"/Users/joaocarvalho/Documents/School/Abroad2023/UC3M-MLBD/venv/lib/python3.11/site-packages/IPython/core/ultratb.py\", line 1435, in structured_traceback\n",
      "  File \"/Users/joaocarvalho/Documents/School/Abroad2023/UC3M-MLBD/venv/lib/python3.11/site-packages/IPython/core/ultratb.py\", line 1326, in structured_traceback\n",
      "  File \"/Users/joaocarvalho/Documents/School/Abroad2023/UC3M-MLBD/venv/lib/python3.11/site-packages/IPython/core/ultratb.py\", line 1173, in structured_traceback\n",
      "  File \"/Users/joaocarvalho/Documents/School/Abroad2023/UC3M-MLBD/venv/lib/python3.11/site-packages/IPython/core/ultratb.py\", line 1063, in format_exception_as_a_whole\n",
      "  File \"/Users/joaocarvalho/Documents/School/Abroad2023/UC3M-MLBD/venv/lib/python3.11/site-packages/IPython/core/ultratb.py\", line 1114, in get_records\n",
      "  File \"/Users/joaocarvalho/Documents/School/Abroad2023/UC3M-MLBD/venv/lib/python3.11/site-packages/pygments/styles/__init__.py\", line 92, in get_style_by_name\n",
      "pygments.util.ClassNotFound: Could not find style module 'default', though it should be builtin.\n"
     ]
    }
   ],
   "source": [
    "from sklearn.dummy import DummyRegressor"
   ]
  },
  {
   "cell_type": "code",
   "execution_count": 11,
   "metadata": {},
   "outputs": [
    {
     "name": "stdout",
     "output_type": "stream",
     "text": [
      "Unexpected exception formatting exception. Falling back to standard exception\n"
     ]
    },
    {
     "name": "stderr",
     "output_type": "stream",
     "text": [
      "Traceback (most recent call last):\n",
      "  File \"/Users/joaocarvalho/Documents/School/Abroad2023/UC3M-MLBD/venv/lib/python3.11/site-packages/IPython/core/interactiveshell.py\", line 3526, in run_code\n",
      "  File \"/var/folders/sj/k312p88j4_n0yc63fb4d4k8h0000gn/T/ipykernel_42614/55426441.py\", line 1, in <module>\n",
      "    dummy_regressor = DummyRegressor(strategy='mean')\n",
      "                      ^^^^^^^^^^^^^^\n",
      "NameError: name 'DummyRegressor' is not defined\n",
      "\n",
      "During handling of the above exception, another exception occurred:\n",
      "\n",
      "Traceback (most recent call last):\n",
      "  File \"/Users/joaocarvalho/Documents/School/Abroad2023/UC3M-MLBD/venv/lib/python3.11/site-packages/pygments/styles/__init__.py\", line 90, in get_style_by_name\n",
      "ModuleNotFoundError: No module named 'pygments.styles.default'\n",
      "\n",
      "During handling of the above exception, another exception occurred:\n",
      "\n",
      "Traceback (most recent call last):\n",
      "  File \"/Users/joaocarvalho/Documents/School/Abroad2023/UC3M-MLBD/venv/lib/python3.11/site-packages/IPython/core/interactiveshell.py\", line 2120, in showtraceback\n",
      "  File \"/Users/joaocarvalho/Documents/School/Abroad2023/UC3M-MLBD/venv/lib/python3.11/site-packages/IPython/core/ultratb.py\", line 1435, in structured_traceback\n",
      "  File \"/Users/joaocarvalho/Documents/School/Abroad2023/UC3M-MLBD/venv/lib/python3.11/site-packages/IPython/core/ultratb.py\", line 1326, in structured_traceback\n",
      "  File \"/Users/joaocarvalho/Documents/School/Abroad2023/UC3M-MLBD/venv/lib/python3.11/site-packages/IPython/core/ultratb.py\", line 1173, in structured_traceback\n",
      "  File \"/Users/joaocarvalho/Documents/School/Abroad2023/UC3M-MLBD/venv/lib/python3.11/site-packages/IPython/core/ultratb.py\", line 1063, in format_exception_as_a_whole\n",
      "  File \"/Users/joaocarvalho/Documents/School/Abroad2023/UC3M-MLBD/venv/lib/python3.11/site-packages/IPython/core/ultratb.py\", line 1114, in get_records\n",
      "  File \"/Users/joaocarvalho/Documents/School/Abroad2023/UC3M-MLBD/venv/lib/python3.11/site-packages/pygments/styles/__init__.py\", line 92, in get_style_by_name\n",
      "pygments.util.ClassNotFound: Could not find style module 'default', though it should be builtin.\n"
     ]
    }
   ],
   "source": [
    "dummy_regressor = DummyRegressor(strategy='mean')\n",
    "dummy_regressor.fit(X_train, y_train)\n",
    "y_pred_dummy = dummy_regressor.predict(X_test)"
   ]
  },
  {
   "cell_type": "markdown",
   "metadata": {},
   "source": [
    "Import dependencies for evaluation metrics. And calculate mean squared error and r2 score."
   ]
  },
  {
   "cell_type": "code",
   "execution_count": 12,
   "metadata": {},
   "outputs": [
    {
     "name": "stdout",
     "output_type": "stream",
     "text": [
      "Unexpected exception formatting exception. Falling back to standard exception\n"
     ]
    },
    {
     "name": "stderr",
     "output_type": "stream",
     "text": [
      "Traceback (most recent call last):\n",
      "  File \"/Users/joaocarvalho/Documents/School/Abroad2023/UC3M-MLBD/venv/lib/python3.11/site-packages/IPython/core/interactiveshell.py\", line 3526, in run_code\n",
      "  File \"/var/folders/sj/k312p88j4_n0yc63fb4d4k8h0000gn/T/ipykernel_42614/1894092390.py\", line 1, in <module>\n",
      "    from sklearn.metrics import mean_squared_error\n",
      "ModuleNotFoundError: No module named 'sklearn'\n",
      "\n",
      "During handling of the above exception, another exception occurred:\n",
      "\n",
      "Traceback (most recent call last):\n",
      "  File \"/Users/joaocarvalho/Documents/School/Abroad2023/UC3M-MLBD/venv/lib/python3.11/site-packages/pygments/styles/__init__.py\", line 90, in get_style_by_name\n",
      "ModuleNotFoundError: No module named 'pygments.styles.default'\n",
      "\n",
      "During handling of the above exception, another exception occurred:\n",
      "\n",
      "Traceback (most recent call last):\n",
      "  File \"/Users/joaocarvalho/Documents/School/Abroad2023/UC3M-MLBD/venv/lib/python3.11/site-packages/IPython/core/interactiveshell.py\", line 2120, in showtraceback\n",
      "  File \"/Users/joaocarvalho/Documents/School/Abroad2023/UC3M-MLBD/venv/lib/python3.11/site-packages/IPython/core/ultratb.py\", line 1435, in structured_traceback\n",
      "  File \"/Users/joaocarvalho/Documents/School/Abroad2023/UC3M-MLBD/venv/lib/python3.11/site-packages/IPython/core/ultratb.py\", line 1326, in structured_traceback\n",
      "  File \"/Users/joaocarvalho/Documents/School/Abroad2023/UC3M-MLBD/venv/lib/python3.11/site-packages/IPython/core/ultratb.py\", line 1173, in structured_traceback\n",
      "  File \"/Users/joaocarvalho/Documents/School/Abroad2023/UC3M-MLBD/venv/lib/python3.11/site-packages/IPython/core/ultratb.py\", line 1063, in format_exception_as_a_whole\n",
      "  File \"/Users/joaocarvalho/Documents/School/Abroad2023/UC3M-MLBD/venv/lib/python3.11/site-packages/IPython/core/ultratb.py\", line 1114, in get_records\n",
      "  File \"/Users/joaocarvalho/Documents/School/Abroad2023/UC3M-MLBD/venv/lib/python3.11/site-packages/pygments/styles/__init__.py\", line 92, in get_style_by_name\n",
      "pygments.util.ClassNotFound: Could not find style module 'default', though it should be builtin.\n"
     ]
    }
   ],
   "source": [
    "from sklearn.metrics import mean_squared_error\n",
    "from sklearn.metrics import r2_score\n",
    "from sklearn.metrics import mean_absolute_error\n"
   ]
  },
  {
   "cell_type": "code",
   "execution_count": 13,
   "metadata": {},
   "outputs": [
    {
     "name": "stdout",
     "output_type": "stream",
     "text": [
      "Unexpected exception formatting exception. Falling back to standard exception\n"
     ]
    },
    {
     "name": "stderr",
     "output_type": "stream",
     "text": [
      "Traceback (most recent call last):\n",
      "  File \"/Users/joaocarvalho/Documents/School/Abroad2023/UC3M-MLBD/venv/lib/python3.11/site-packages/IPython/core/interactiveshell.py\", line 3526, in run_code\n",
      "  File \"/var/folders/sj/k312p88j4_n0yc63fb4d4k8h0000gn/T/ipykernel_42614/884091478.py\", line 1, in <module>\n",
      "    mse = mean_squared_error(y_test, y_pred)\n",
      "          ^^^^^^^^^^^^^^^^^^\n",
      "NameError: name 'mean_squared_error' is not defined\n",
      "\n",
      "During handling of the above exception, another exception occurred:\n",
      "\n",
      "Traceback (most recent call last):\n",
      "  File \"/Users/joaocarvalho/Documents/School/Abroad2023/UC3M-MLBD/venv/lib/python3.11/site-packages/pygments/styles/__init__.py\", line 90, in get_style_by_name\n",
      "ModuleNotFoundError: No module named 'pygments.styles.default'\n",
      "\n",
      "During handling of the above exception, another exception occurred:\n",
      "\n",
      "Traceback (most recent call last):\n",
      "  File \"/Users/joaocarvalho/Documents/School/Abroad2023/UC3M-MLBD/venv/lib/python3.11/site-packages/IPython/core/interactiveshell.py\", line 2120, in showtraceback\n",
      "  File \"/Users/joaocarvalho/Documents/School/Abroad2023/UC3M-MLBD/venv/lib/python3.11/site-packages/IPython/core/ultratb.py\", line 1435, in structured_traceback\n",
      "  File \"/Users/joaocarvalho/Documents/School/Abroad2023/UC3M-MLBD/venv/lib/python3.11/site-packages/IPython/core/ultratb.py\", line 1326, in structured_traceback\n",
      "  File \"/Users/joaocarvalho/Documents/School/Abroad2023/UC3M-MLBD/venv/lib/python3.11/site-packages/IPython/core/ultratb.py\", line 1173, in structured_traceback\n",
      "  File \"/Users/joaocarvalho/Documents/School/Abroad2023/UC3M-MLBD/venv/lib/python3.11/site-packages/IPython/core/ultratb.py\", line 1063, in format_exception_as_a_whole\n",
      "  File \"/Users/joaocarvalho/Documents/School/Abroad2023/UC3M-MLBD/venv/lib/python3.11/site-packages/IPython/core/ultratb.py\", line 1114, in get_records\n",
      "  File \"/Users/joaocarvalho/Documents/School/Abroad2023/UC3M-MLBD/venv/lib/python3.11/site-packages/pygments/styles/__init__.py\", line 92, in get_style_by_name\n",
      "pygments.util.ClassNotFound: Could not find style module 'default', though it should be builtin.\n"
     ]
    }
   ],
   "source": [
    "mse = mean_squared_error(y_test, y_pred)\n",
    "mse_dummy = mean_squared_error(y_test, y_pred_dummy)\n",
    "print(\"The model's mse: \", mse)\n",
    "print(\"The dummy's mse: \", mse_dummy)\n",
    "print(\"Relative error: \", mse/mse_dummy)\n",
    "\n",
    "\n"
   ]
  },
  {
   "cell_type": "code",
   "execution_count": 14,
   "metadata": {},
   "outputs": [
    {
     "name": "stdout",
     "output_type": "stream",
     "text": [
      "Unexpected exception formatting exception. Falling back to standard exception\n"
     ]
    },
    {
     "name": "stderr",
     "output_type": "stream",
     "text": [
      "Traceback (most recent call last):\n",
      "  File \"/Users/joaocarvalho/Documents/School/Abroad2023/UC3M-MLBD/venv/lib/python3.11/site-packages/IPython/core/interactiveshell.py\", line 3526, in run_code\n",
      "  File \"/var/folders/sj/k312p88j4_n0yc63fb4d4k8h0000gn/T/ipykernel_42614/2640957578.py\", line 1, in <module>\n",
      "    r2 = r2_score(y_test, y_pred)\n",
      "         ^^^^^^^^\n",
      "NameError: name 'r2_score' is not defined\n",
      "\n",
      "During handling of the above exception, another exception occurred:\n",
      "\n",
      "Traceback (most recent call last):\n",
      "  File \"/Users/joaocarvalho/Documents/School/Abroad2023/UC3M-MLBD/venv/lib/python3.11/site-packages/pygments/styles/__init__.py\", line 90, in get_style_by_name\n",
      "ModuleNotFoundError: No module named 'pygments.styles.default'\n",
      "\n",
      "During handling of the above exception, another exception occurred:\n",
      "\n",
      "Traceback (most recent call last):\n",
      "  File \"/Users/joaocarvalho/Documents/School/Abroad2023/UC3M-MLBD/venv/lib/python3.11/site-packages/IPython/core/interactiveshell.py\", line 2120, in showtraceback\n",
      "  File \"/Users/joaocarvalho/Documents/School/Abroad2023/UC3M-MLBD/venv/lib/python3.11/site-packages/IPython/core/ultratb.py\", line 1435, in structured_traceback\n",
      "  File \"/Users/joaocarvalho/Documents/School/Abroad2023/UC3M-MLBD/venv/lib/python3.11/site-packages/IPython/core/ultratb.py\", line 1326, in structured_traceback\n",
      "  File \"/Users/joaocarvalho/Documents/School/Abroad2023/UC3M-MLBD/venv/lib/python3.11/site-packages/IPython/core/ultratb.py\", line 1173, in structured_traceback\n",
      "  File \"/Users/joaocarvalho/Documents/School/Abroad2023/UC3M-MLBD/venv/lib/python3.11/site-packages/IPython/core/ultratb.py\", line 1063, in format_exception_as_a_whole\n",
      "  File \"/Users/joaocarvalho/Documents/School/Abroad2023/UC3M-MLBD/venv/lib/python3.11/site-packages/IPython/core/ultratb.py\", line 1114, in get_records\n",
      "  File \"/Users/joaocarvalho/Documents/School/Abroad2023/UC3M-MLBD/venv/lib/python3.11/site-packages/pygments/styles/__init__.py\", line 92, in get_style_by_name\n",
      "pygments.util.ClassNotFound: Could not find style module 'default', though it should be builtin.\n"
     ]
    }
   ],
   "source": [
    "r2 = r2_score(y_test, y_pred)\n",
    "r2_dummy = r2_score(y_test, y_pred_dummy)\n",
    "print(\"The model's r2: \", r2)   \n",
    "print(\"The dummy's r2: \", r2_dummy)\n"
   ]
  },
  {
   "cell_type": "code",
   "execution_count": 15,
   "metadata": {},
   "outputs": [
    {
     "name": "stdout",
     "output_type": "stream",
     "text": [
      "Unexpected exception formatting exception. Falling back to standard exception\n"
     ]
    },
    {
     "name": "stderr",
     "output_type": "stream",
     "text": [
      "Traceback (most recent call last):\n",
      "  File \"/Users/joaocarvalho/Documents/School/Abroad2023/UC3M-MLBD/venv/lib/python3.11/site-packages/IPython/core/interactiveshell.py\", line 3526, in run_code\n",
      "  File \"/var/folders/sj/k312p88j4_n0yc63fb4d4k8h0000gn/T/ipykernel_42614/308313645.py\", line 1, in <module>\n",
      "    mae = mean_absolute_error(y_test, y_pred)\n",
      "          ^^^^^^^^^^^^^^^^^^^\n",
      "NameError: name 'mean_absolute_error' is not defined\n",
      "\n",
      "During handling of the above exception, another exception occurred:\n",
      "\n",
      "Traceback (most recent call last):\n",
      "  File \"/Users/joaocarvalho/Documents/School/Abroad2023/UC3M-MLBD/venv/lib/python3.11/site-packages/pygments/styles/__init__.py\", line 90, in get_style_by_name\n",
      "ModuleNotFoundError: No module named 'pygments.styles.default'\n",
      "\n",
      "During handling of the above exception, another exception occurred:\n",
      "\n",
      "Traceback (most recent call last):\n",
      "  File \"/Users/joaocarvalho/Documents/School/Abroad2023/UC3M-MLBD/venv/lib/python3.11/site-packages/IPython/core/interactiveshell.py\", line 2120, in showtraceback\n",
      "  File \"/Users/joaocarvalho/Documents/School/Abroad2023/UC3M-MLBD/venv/lib/python3.11/site-packages/IPython/core/ultratb.py\", line 1435, in structured_traceback\n",
      "  File \"/Users/joaocarvalho/Documents/School/Abroad2023/UC3M-MLBD/venv/lib/python3.11/site-packages/IPython/core/ultratb.py\", line 1326, in structured_traceback\n",
      "  File \"/Users/joaocarvalho/Documents/School/Abroad2023/UC3M-MLBD/venv/lib/python3.11/site-packages/IPython/core/ultratb.py\", line 1173, in structured_traceback\n",
      "  File \"/Users/joaocarvalho/Documents/School/Abroad2023/UC3M-MLBD/venv/lib/python3.11/site-packages/IPython/core/ultratb.py\", line 1063, in format_exception_as_a_whole\n",
      "  File \"/Users/joaocarvalho/Documents/School/Abroad2023/UC3M-MLBD/venv/lib/python3.11/site-packages/IPython/core/ultratb.py\", line 1114, in get_records\n",
      "  File \"/Users/joaocarvalho/Documents/School/Abroad2023/UC3M-MLBD/venv/lib/python3.11/site-packages/pygments/styles/__init__.py\", line 92, in get_style_by_name\n",
      "pygments.util.ClassNotFound: Could not find style module 'default', though it should be builtin.\n"
     ]
    }
   ],
   "source": [
    "mae = mean_absolute_error(y_test, y_pred)\n",
    "mae_dummy = mean_absolute_error(y_test, y_pred_dummy)\n",
    "print(\"The model's mae: \", mae)\n",
    "print(\"The dummy's mae: \", mae_dummy)\n",
    "print(\"Relative error: \", mae/mae_dummy)"
   ]
  },
  {
   "cell_type": "markdown",
   "metadata": {},
   "source": [
    "# That was the Holdout Method, now do K-Fold Cross Validation"
   ]
  },
  {
   "cell_type": "markdown",
   "metadata": {},
   "source": [
    "Pt.2 Hyper parameter tuning"
   ]
  },
  {
   "cell_type": "code",
   "execution_count": 16,
   "metadata": {},
   "outputs": [
    {
     "name": "stdout",
     "output_type": "stream",
     "text": [
      "Unexpected exception formatting exception. Falling back to standard exception\n"
     ]
    },
    {
     "name": "stderr",
     "output_type": "stream",
     "text": [
      "Traceback (most recent call last):\n",
      "  File \"/Users/joaocarvalho/Documents/School/Abroad2023/UC3M-MLBD/venv/lib/python3.11/site-packages/IPython/core/interactiveshell.py\", line 3526, in run_code\n",
      "  File \"/var/folders/sj/k312p88j4_n0yc63fb4d4k8h0000gn/T/ipykernel_42614/4005369185.py\", line 1, in <module>\n",
      "    import matplotlib.pyplot as plt\n",
      "ModuleNotFoundError: No module named 'matplotlib'\n",
      "\n",
      "During handling of the above exception, another exception occurred:\n",
      "\n",
      "Traceback (most recent call last):\n",
      "  File \"/Users/joaocarvalho/Documents/School/Abroad2023/UC3M-MLBD/venv/lib/python3.11/site-packages/pygments/styles/__init__.py\", line 90, in get_style_by_name\n",
      "ModuleNotFoundError: No module named 'pygments.styles.default'\n",
      "\n",
      "During handling of the above exception, another exception occurred:\n",
      "\n",
      "Traceback (most recent call last):\n",
      "  File \"/Users/joaocarvalho/Documents/School/Abroad2023/UC3M-MLBD/venv/lib/python3.11/site-packages/IPython/core/interactiveshell.py\", line 2120, in showtraceback\n",
      "  File \"/Users/joaocarvalho/Documents/School/Abroad2023/UC3M-MLBD/venv/lib/python3.11/site-packages/IPython/core/ultratb.py\", line 1435, in structured_traceback\n",
      "  File \"/Users/joaocarvalho/Documents/School/Abroad2023/UC3M-MLBD/venv/lib/python3.11/site-packages/IPython/core/ultratb.py\", line 1326, in structured_traceback\n",
      "  File \"/Users/joaocarvalho/Documents/School/Abroad2023/UC3M-MLBD/venv/lib/python3.11/site-packages/IPython/core/ultratb.py\", line 1173, in structured_traceback\n",
      "  File \"/Users/joaocarvalho/Documents/School/Abroad2023/UC3M-MLBD/venv/lib/python3.11/site-packages/IPython/core/ultratb.py\", line 1063, in format_exception_as_a_whole\n",
      "  File \"/Users/joaocarvalho/Documents/School/Abroad2023/UC3M-MLBD/venv/lib/python3.11/site-packages/IPython/core/ultratb.py\", line 1114, in get_records\n",
      "  File \"/Users/joaocarvalho/Documents/School/Abroad2023/UC3M-MLBD/venv/lib/python3.11/site-packages/pygments/styles/__init__.py\", line 92, in get_style_by_name\n",
      "pygments.util.ClassNotFound: Could not find style module 'default', though it should be builtin.\n"
     ]
    }
   ],
   "source": [
    "import matplotlib.pyplot as plt\n",
    "\n",
    "prediction_scores = {}\n",
    "n_neighbors = np.arange(2, 60, 1)\n",
    "\n",
    "for neighbors in n_neighbors:\n",
    "    knn = KNeighborsRegressor(n_neighbors=neighbors)\n",
    "    knn.fit(X_train, y_train)\n",
    "    y_pred = knn.predict(X_test)\n",
    "    prediction_scores[neighbors] = mean_absolute_error(y_test, y_pred)/mae_dummy\n",
    "    "
   ]
  },
  {
   "cell_type": "markdown",
   "metadata": {},
   "source": [
    "Plot the scores"
   ]
  },
  {
   "cell_type": "code",
   "execution_count": 17,
   "metadata": {},
   "outputs": [
    {
     "name": "stdout",
     "output_type": "stream",
     "text": [
      "Unexpected exception formatting exception. Falling back to standard exception\n"
     ]
    },
    {
     "name": "stderr",
     "output_type": "stream",
     "text": [
      "Traceback (most recent call last):\n",
      "  File \"/Users/joaocarvalho/Documents/School/Abroad2023/UC3M-MLBD/venv/lib/python3.11/site-packages/IPython/core/interactiveshell.py\", line 3526, in run_code\n",
      "  File \"/var/folders/sj/k312p88j4_n0yc63fb4d4k8h0000gn/T/ipykernel_42614/1715129702.py\", line 1, in <module>\n",
      "    plt.plot(n_neighbors, prediction_scores.values(), label=\"MAE relative error\")\n",
      "    ^^^\n",
      "NameError: name 'plt' is not defined\n",
      "\n",
      "During handling of the above exception, another exception occurred:\n",
      "\n",
      "Traceback (most recent call last):\n",
      "  File \"/Users/joaocarvalho/Documents/School/Abroad2023/UC3M-MLBD/venv/lib/python3.11/site-packages/pygments/styles/__init__.py\", line 90, in get_style_by_name\n",
      "ModuleNotFoundError: No module named 'pygments.styles.default'\n",
      "\n",
      "During handling of the above exception, another exception occurred:\n",
      "\n",
      "Traceback (most recent call last):\n",
      "  File \"/Users/joaocarvalho/Documents/School/Abroad2023/UC3M-MLBD/venv/lib/python3.11/site-packages/IPython/core/interactiveshell.py\", line 2120, in showtraceback\n",
      "  File \"/Users/joaocarvalho/Documents/School/Abroad2023/UC3M-MLBD/venv/lib/python3.11/site-packages/IPython/core/ultratb.py\", line 1435, in structured_traceback\n",
      "  File \"/Users/joaocarvalho/Documents/School/Abroad2023/UC3M-MLBD/venv/lib/python3.11/site-packages/IPython/core/ultratb.py\", line 1326, in structured_traceback\n",
      "  File \"/Users/joaocarvalho/Documents/School/Abroad2023/UC3M-MLBD/venv/lib/python3.11/site-packages/IPython/core/ultratb.py\", line 1173, in structured_traceback\n",
      "  File \"/Users/joaocarvalho/Documents/School/Abroad2023/UC3M-MLBD/venv/lib/python3.11/site-packages/IPython/core/ultratb.py\", line 1063, in format_exception_as_a_whole\n",
      "  File \"/Users/joaocarvalho/Documents/School/Abroad2023/UC3M-MLBD/venv/lib/python3.11/site-packages/IPython/core/ultratb.py\", line 1114, in get_records\n",
      "  File \"/Users/joaocarvalho/Documents/School/Abroad2023/UC3M-MLBD/venv/lib/python3.11/site-packages/pygments/styles/__init__.py\", line 92, in get_style_by_name\n",
      "pygments.util.ClassNotFound: Could not find style module 'default', though it should be builtin.\n"
     ]
    }
   ],
   "source": [
    "plt.plot(n_neighbors, prediction_scores.values(), label=\"MAE relative error\")\n",
    "plt.xlabel(\"Number Of Neighbors\")\n",
    "plt.ylabel(\"Accuracy as MAE of model/MAE of dummy\")\n",
    "plt.title(\"KNN: Varying number of Neighbors\")\n",
    "plt.legend()\n",
    "plt.xlim(0, 63)\n",
    "plt.grid()\n",
    "plt.show()\n"
   ]
  }
 ],
 "metadata": {
  "kernelspec": {
   "display_name": "venv",
   "language": "python",
   "name": "python3"
  },
  "language_info": {
   "codemirror_mode": {
    "name": "ipython",
    "version": 3
   },
   "file_extension": ".py",
   "mimetype": "text/x-python",
   "name": "python",
   "nbconvert_exporter": "python",
   "pygments_lexer": "ipython3",
   "version": "3.11.2"
  }
 },
 "nbformat": 4,
 "nbformat_minor": 2
}
