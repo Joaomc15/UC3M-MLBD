{
 "cells": [
  {
   "cell_type": "markdown",
   "metadata": {},
   "source": [
    "# Decision Tree Regressor Model"
   ]
  },
  {
   "cell_type": "markdown",
   "metadata": {},
   "source": [
    "### Import dependencies for data manipulation and visualization"
   ]
  },
  {
   "cell_type": "code",
   "execution_count": 111,
   "metadata": {},
   "outputs": [],
   "source": [
    "import pandas as pd\n",
    "import numpy as np\n",
    "import matplotlib.pyplot as plt\n"
   ]
  },
  {
   "cell_type": "markdown",
   "metadata": {},
   "source": [
    "Read in data from pkl file"
   ]
  },
  {
   "cell_type": "code",
   "execution_count": 112,
   "metadata": {},
   "outputs": [
    {
     "data": {
      "text/plain": [
       "<bound method NDFrame.head of        apcp_sf1_1  apcp_sf2_1 apcp_sf3_1  apcp_sf4_1  apcp_sf5_1  dlwrf_s1_1  \\\n",
       "V1       0.000000         0.0          1    0.000000    0.000000  256.492673   \n",
       "V2       0.000000         0.0          1    0.017273    0.139091  257.998596   \n",
       "V3       0.000000         0.0          1    0.000000    0.000000  219.280002   \n",
       "V4       0.004545         0.0          1    0.000000    0.000000  267.863045   \n",
       "V5       0.000000         0.0          1    0.000000    0.000000  238.162747   \n",
       "...           ...         ...        ...         ...         ...         ...   \n",
       "V4376    0.010909         0.0          1    0.000000    0.000000  278.168651   \n",
       "V4377    0.000000         0.0          1    0.000000    0.000000  251.551092   \n",
       "V4378    0.000000         0.0          1    0.000000    0.000000  269.446164   \n",
       "V4379    0.000000         0.0          1    0.000000    0.000000  268.862049   \n",
       "V4380    0.000000         0.0          1    0.000000    0.000000  269.112621   \n",
       "\n",
       "       dlwrf_s2_1  dlwrf_s3_1  dlwrf_s4_1  dlwrf_s5_1  ...  ulwrf_t2_4  \\\n",
       "V1     244.696186  251.901758  270.741308  269.377441  ...  252.504475   \n",
       "V2     256.096852  271.982095  308.896287  302.474537  ...  233.458263   \n",
       "V3     211.632385  217.133093  241.347305  245.840132  ...  232.828737   \n",
       "V4     226.078362  226.493584  235.365465  235.531321  ...  241.916776   \n",
       "V5     241.927051  249.123549  277.759064  286.118281  ...  233.706659   \n",
       "...           ...         ...         ...         ...  ...         ...   \n",
       "V4376  267.669606  275.727847  308.500117  294.916138  ...  243.893899   \n",
       "V4377  249.918393  257.167014  280.875871  280.614019  ...  242.674612   \n",
       "V4378  267.112097  271.172319  287.115667  285.351388  ...  241.796688   \n",
       "V4379  263.708427  268.471286  290.155748  292.805903  ...  260.070899   \n",
       "V4380  265.072546  273.043252  301.113101  296.087139  ...  244.715999   \n",
       "\n",
       "       ulwrf_t3_4  ulwrf_t4_4  ulwrf_t5_4  uswrf_s1_4  uswrf_s2_4  uswrf_s3_4  \\\n",
       "V1     254.760271  263.342404  260.067843         0.0   10.000000   50.000000   \n",
       "V2     233.027276  212.652054  222.052916         0.0    8.181818   35.909091   \n",
       "V3     235.480750  245.177331  238.893102         0.0   10.272727   55.272727   \n",
       "V4     243.398572  251.473036  247.503769         0.0    8.909091   46.000000   \n",
       "V5     239.952805  258.128188  253.200684         0.0    8.909091   48.909091   \n",
       "...           ...         ...         ...         ...         ...         ...   \n",
       "V4376  230.507112  220.916945  230.789404         0.0    9.090909   36.363636   \n",
       "V4377  247.880528  267.247514  263.751090         0.0   10.000000   50.090909   \n",
       "V4378  251.735736  283.278129  283.570221         0.0    9.545455   49.545455   \n",
       "V4379  264.799494  278.286685  275.529738         0.0   10.000000   51.545455   \n",
       "V4380  250.610690  245.446594  243.667210         0.0    9.000000   48.545455   \n",
       "\n",
       "       uswrf_s4_4  uswrf_s5_4    energy  \n",
       "V1     106.636364   72.000000  12384900  \n",
       "V2      58.181818   42.090909  11908500  \n",
       "V3     118.454545   79.181818  12470700  \n",
       "V4     107.090909   73.636364  12725400  \n",
       "V5     106.272727   71.818182  10894800  \n",
       "...           ...         ...       ...  \n",
       "V4376   32.000000   23.090909  11276400  \n",
       "V4377  105.909091   71.000000  11739600  \n",
       "V4378  107.363636   72.636364  11870100  \n",
       "V4379  107.181818   71.727273  11089500  \n",
       "V4380   98.909091   65.636364   8790000  \n",
       "\n",
       "[4380 rows x 301 columns]>"
      ]
     },
     "execution_count": 112,
     "metadata": {},
     "output_type": "execute_result"
    }
   ],
   "source": [
    "df = pd.read_pickle('../../data/ava_st1_ns4_56.pkl')\n",
    "df.head\n"
   ]
  },
  {
   "cell_type": "markdown",
   "metadata": {},
   "source": [
    "Establish input and output columns"
   ]
  },
  {
   "cell_type": "code",
   "execution_count": 113,
   "metadata": {},
   "outputs": [],
   "source": [
    "x = df.drop('energy', axis=1)\n",
    "y = df['energy']\n"
   ]
  },
  {
   "cell_type": "markdown",
   "metadata": {},
   "source": [
    "Import sklearn dependencies"
   ]
  },
  {
   "cell_type": "code",
   "execution_count": 114,
   "metadata": {},
   "outputs": [],
   "source": [
    "from sklearn.compose import ColumnTransformer\n",
    "from sklearn.compose import make_column_selector\n",
    "from sklearn.preprocessing import StandardScaler, MinMaxScaler\n",
    "from sklearn.model_selection import train_test_split\n"
   ]
  },
  {
   "cell_type": "markdown",
   "metadata": {},
   "source": [
    "#### Standardize the data and scale it for easier processing."
   ]
  },
  {
   "cell_type": "code",
   "execution_count": 115,
   "metadata": {},
   "outputs": [],
   "source": [
    "preprocessor = ColumnTransformer(\n",
    "    transformers = [\n",
    "        ('STscaler', StandardScaler(), make_column_selector(dtype_include=np.float64)),\n",
    "        ('MMscaler', MinMaxScaler(), make_column_selector(dtype_include=np.int64))\n",
    "    ],\n",
    "    remainder = 'passthrough'\n",
    ")\n",
    "\n",
    "preprocessor.fit(x)\n",
    "\n",
    "X =  preprocessor.transform(x)\n",
    "\n"
   ]
  },
  {
   "cell_type": "markdown",
   "metadata": {},
   "source": [
    "# Holdout Method\n",
    "#### We will use holdout at first to get a baseline accuracy score and show improvements with cross validation and hyperparameter tuning."
   ]
  },
  {
   "cell_type": "markdown",
   "metadata": {},
   "source": [
    "First we will split the data into training and testing sets."
   ]
  },
  {
   "cell_type": "code",
   "execution_count": 116,
   "metadata": {},
   "outputs": [],
   "source": [
    "X_train, X_test, y_train, y_test = train_test_split(X, y, test_size=0.2)\n"
   ]
  },
  {
   "cell_type": "markdown",
   "metadata": {},
   "source": [
    "Importing the Decision Tree Regressor model from sklearn"
   ]
  },
  {
   "cell_type": "code",
   "execution_count": 117,
   "metadata": {},
   "outputs": [],
   "source": [
    "from sklearn.tree import DecisionTreeRegressor"
   ]
  },
  {
   "cell_type": "markdown",
   "metadata": {},
   "source": [
    "Now we create the DecisionTreeRegressor model, fit it to the training data and make a prediction on the test data that will be validated in subsequest cells."
   ]
  },
  {
   "cell_type": "code",
   "execution_count": 118,
   "metadata": {},
   "outputs": [
    {
     "data": {
      "text/html": [
       "<style>#sk-container-id-6 {color: black;}#sk-container-id-6 pre{padding: 0;}#sk-container-id-6 div.sk-toggleable {background-color: white;}#sk-container-id-6 label.sk-toggleable__label {cursor: pointer;display: block;width: 100%;margin-bottom: 0;padding: 0.3em;box-sizing: border-box;text-align: center;}#sk-container-id-6 label.sk-toggleable__label-arrow:before {content: \"▸\";float: left;margin-right: 0.25em;color: #696969;}#sk-container-id-6 label.sk-toggleable__label-arrow:hover:before {color: black;}#sk-container-id-6 div.sk-estimator:hover label.sk-toggleable__label-arrow:before {color: black;}#sk-container-id-6 div.sk-toggleable__content {max-height: 0;max-width: 0;overflow: hidden;text-align: left;background-color: #f0f8ff;}#sk-container-id-6 div.sk-toggleable__content pre {margin: 0.2em;color: black;border-radius: 0.25em;background-color: #f0f8ff;}#sk-container-id-6 input.sk-toggleable__control:checked~div.sk-toggleable__content {max-height: 200px;max-width: 100%;overflow: auto;}#sk-container-id-6 input.sk-toggleable__control:checked~label.sk-toggleable__label-arrow:before {content: \"▾\";}#sk-container-id-6 div.sk-estimator input.sk-toggleable__control:checked~label.sk-toggleable__label {background-color: #d4ebff;}#sk-container-id-6 div.sk-label input.sk-toggleable__control:checked~label.sk-toggleable__label {background-color: #d4ebff;}#sk-container-id-6 input.sk-hidden--visually {border: 0;clip: rect(1px 1px 1px 1px);clip: rect(1px, 1px, 1px, 1px);height: 1px;margin: -1px;overflow: hidden;padding: 0;position: absolute;width: 1px;}#sk-container-id-6 div.sk-estimator {font-family: monospace;background-color: #f0f8ff;border: 1px dotted black;border-radius: 0.25em;box-sizing: border-box;margin-bottom: 0.5em;}#sk-container-id-6 div.sk-estimator:hover {background-color: #d4ebff;}#sk-container-id-6 div.sk-parallel-item::after {content: \"\";width: 100%;border-bottom: 1px solid gray;flex-grow: 1;}#sk-container-id-6 div.sk-label:hover label.sk-toggleable__label {background-color: #d4ebff;}#sk-container-id-6 div.sk-serial::before {content: \"\";position: absolute;border-left: 1px solid gray;box-sizing: border-box;top: 0;bottom: 0;left: 50%;z-index: 0;}#sk-container-id-6 div.sk-serial {display: flex;flex-direction: column;align-items: center;background-color: white;padding-right: 0.2em;padding-left: 0.2em;position: relative;}#sk-container-id-6 div.sk-item {position: relative;z-index: 1;}#sk-container-id-6 div.sk-parallel {display: flex;align-items: stretch;justify-content: center;background-color: white;position: relative;}#sk-container-id-6 div.sk-item::before, #sk-container-id-6 div.sk-parallel-item::before {content: \"\";position: absolute;border-left: 1px solid gray;box-sizing: border-box;top: 0;bottom: 0;left: 50%;z-index: -1;}#sk-container-id-6 div.sk-parallel-item {display: flex;flex-direction: column;z-index: 1;position: relative;background-color: white;}#sk-container-id-6 div.sk-parallel-item:first-child::after {align-self: flex-end;width: 50%;}#sk-container-id-6 div.sk-parallel-item:last-child::after {align-self: flex-start;width: 50%;}#sk-container-id-6 div.sk-parallel-item:only-child::after {width: 0;}#sk-container-id-6 div.sk-dashed-wrapped {border: 1px dashed gray;margin: 0 0.4em 0.5em 0.4em;box-sizing: border-box;padding-bottom: 0.4em;background-color: white;}#sk-container-id-6 div.sk-label label {font-family: monospace;font-weight: bold;display: inline-block;line-height: 1.2em;}#sk-container-id-6 div.sk-label-container {text-align: center;}#sk-container-id-6 div.sk-container {/* jupyter's `normalize.less` sets `[hidden] { display: none; }` but bootstrap.min.css set `[hidden] { display: none !important; }` so we also need the `!important` here to be able to override the default hidden behavior on the sphinx rendered scikit-learn.org. See: https://github.com/scikit-learn/scikit-learn/issues/21755 */display: inline-block !important;position: relative;}#sk-container-id-6 div.sk-text-repr-fallback {display: none;}</style><div id=\"sk-container-id-6\" class=\"sk-top-container\"><div class=\"sk-text-repr-fallback\"><pre>DecisionTreeRegressor(max_depth=5)</pre><b>In a Jupyter environment, please rerun this cell to show the HTML representation or trust the notebook. <br />On GitHub, the HTML representation is unable to render, please try loading this page with nbviewer.org.</b></div><div class=\"sk-container\" hidden><div class=\"sk-item\"><div class=\"sk-estimator sk-toggleable\"><input class=\"sk-toggleable__control sk-hidden--visually\" id=\"sk-estimator-id-6\" type=\"checkbox\" checked><label for=\"sk-estimator-id-6\" class=\"sk-toggleable__label sk-toggleable__label-arrow\">DecisionTreeRegressor</label><div class=\"sk-toggleable__content\"><pre>DecisionTreeRegressor(max_depth=5)</pre></div></div></div></div></div>"
      ],
      "text/plain": [
       "DecisionTreeRegressor(max_depth=5)"
      ]
     },
     "execution_count": 118,
     "metadata": {},
     "output_type": "execute_result"
    }
   ],
   "source": [
    "tree = DecisionTreeRegressor(max_depth=5)\n",
    "tree.fit(X_train, y_train)\n"
   ]
  },
  {
   "cell_type": "code",
   "execution_count": 119,
   "metadata": {},
   "outputs": [],
   "source": [
    "y_pred = tree.predict(X_test)"
   ]
  },
  {
   "cell_type": "markdown",
   "metadata": {},
   "source": [
    "#### Creating a Dummy regressor to see if the model is better than a trivial model."
   ]
  },
  {
   "cell_type": "code",
   "execution_count": 120,
   "metadata": {},
   "outputs": [],
   "source": [
    "from sklearn.dummy import DummyRegressor"
   ]
  },
  {
   "cell_type": "code",
   "execution_count": 121,
   "metadata": {},
   "outputs": [],
   "source": [
    "dummy_regressor = DummyRegressor(strategy='mean')\n",
    "dummy_regressor.fit(X_train, y_train)\n",
    "y_pred_dummy = dummy_regressor.predict(X_test)"
   ]
  },
  {
   "cell_type": "markdown",
   "metadata": {},
   "source": [
    "### Import dependencies for evaluation metrics and calculate mean squared error, r2 score, mean absolute error."
   ]
  },
  {
   "cell_type": "code",
   "execution_count": 122,
   "metadata": {},
   "outputs": [],
   "source": [
    "from sklearn.metrics import mean_squared_error\n",
    "from sklearn.metrics import r2_score\n",
    "from sklearn.metrics import mean_absolute_error\n",
    "\n",
    "my_scores = []\n"
   ]
  },
  {
   "cell_type": "code",
   "execution_count": 123,
   "metadata": {},
   "outputs": [
    {
     "name": "stdout",
     "output_type": "stream",
     "text": [
      "The model's mse:  11518827047686.314\n",
      "The dummy's mse:  64828773154235.16\n",
      "Relative error:  0.17768078103655752\n"
     ]
    }
   ],
   "source": [
    "mse_values = [\"MSE\"]\n",
    "mse = mean_squared_error(y_test, y_pred)\n",
    "mse_dummy = mean_squared_error(y_test, y_pred_dummy)\n",
    "print(\"The model's mse: \", mse)\n",
    "print(\"The dummy's mse: \", mse_dummy)\n",
    "print(\"Relative error: \", mse/mse_dummy)\n",
    "\n",
    "mse_values.append(mse)\n",
    "mse_values.append(mse_dummy)\n",
    "\n",
    "my_scores.append(mse_values)\n",
    "\n",
    "\n"
   ]
  },
  {
   "cell_type": "code",
   "execution_count": 124,
   "metadata": {},
   "outputs": [
    {
     "name": "stdout",
     "output_type": "stream",
     "text": [
      "The model's r2:  0.8221992027225945\n",
      "The dummy's r2:  -0.0006754598901907993\n"
     ]
    }
   ],
   "source": [
    "r2_values = [\"R2\"]\n",
    "r2 = r2_score(y_test, y_pred)\n",
    "r2_dummy = r2_score(y_test, y_pred_dummy)\n",
    "print(\"The model's r2: \", r2)   \n",
    "print(\"The dummy's r2: \", r2_dummy)\n",
    "\n",
    "r2_values.append(r2)\n",
    "r2_values.append(r2_dummy)\n",
    "\n",
    "my_scores.append(r2_values)"
   ]
  },
  {
   "cell_type": "code",
   "execution_count": 125,
   "metadata": {},
   "outputs": [
    {
     "name": "stdout",
     "output_type": "stream",
     "text": [
      "The model's mae:  2365058.1169746807\n",
      "The dummy's mae:  6889700.366610371\n",
      "Relative error:  0.34327445188131656\n"
     ]
    }
   ],
   "source": [
    "mae_values = [\"MAE\"]\n",
    "mae = mean_absolute_error(y_test, y_pred)\n",
    "mae_dummy = mean_absolute_error(y_test, y_pred_dummy)\n",
    "print(\"The model's mae: \", mae)\n",
    "print(\"The dummy's mae: \", mae_dummy)\n",
    "print(\"Relative error: \", mae/mae_dummy)\n",
    "\n",
    "mae_values.append(mae)\n",
    "mae_values.append(mae_dummy)\n",
    "\n",
    "my_scores.append(mae_values)"
   ]
  },
  {
   "cell_type": "markdown",
   "metadata": {},
   "source": [
    "#### Now we want to visualize these scores and determine how we'll compare it to other more sophisticated models."
   ]
  },
  {
   "cell_type": "code",
   "execution_count": 126,
   "metadata": {},
   "outputs": [
    {
     "name": "stdout",
     "output_type": "stream",
     "text": [
      "Evaluation method         Score                Dummy Score          Ratio (Score/Dummy Score)\n",
      "MSE                       11518827047686.314   64828773154235.156   0.178     \n",
      "R2                        0.822                -0.001               -1217.244 \n",
      "MAE                       2365058.117          6889700.367          0.343     \n",
      "Ratio of mae over mean value of y: 0.140\n"
     ]
    }
   ],
   "source": [
    "print(f\"{'Evaluation method':<25} {'Score':<20} {'Dummy Score':<20} {'Ratio (Score/Dummy Score)':<20}\")\n",
    "\n",
    "for item in my_scores:\n",
    "    ratio = item[1]/item[2] if item[2] != 0 else 0\n",
    "    print(f\"{item[0]:<25} {item[1]:<20.3f} {item[2]:<20.3f} {ratio:<10.3f}\")\n",
    "    \n",
    "    # print the ratio of the mse score over the mean value of y_test\n",
    "print(f\"Ratio of mae over mean value of y: {(mae)/np.mean(y):.3f}\")"
   ]
  },
  {
   "cell_type": "markdown",
   "metadata": {},
   "source": [
    "Given the bi-modal distribution of the data, we will need to consider the mean absolute error as the primary evaluation metric.\n"
   ]
  },
  {
   "cell_type": "markdown",
   "metadata": {},
   "source": [
    "#### Let's also look at the residuals to see if there are any patterns."
   ]
  },
  {
   "cell_type": "code",
   "execution_count": 127,
   "metadata": {},
   "outputs": [
    {
     "data": {
      "image/png": "[encoded data removed]",
      "text/plain": [
       "<Figure size 640x480 with 1 Axes>"
      ]
     },
     "metadata": {},
     "output_type": "display_data"
    }
   ],
   "source": [
    "plt.scatter(y_test, y_pred - y_test)\n",
    "plt.show()"
   ]
  },
  {
   "cell_type": "markdown",
   "metadata": {},
   "source": [
    "Here, each stripe represents a leaf in the DecisionTreeRegressor. The residuals here appear relatively constant across the range of predicted values. "
   ]
  },
  {
   "cell_type": "markdown",
   "metadata": {},
   "source": [
    "# K-Fold Cross Validation"
   ]
  },
  {
   "cell_type": "markdown",
   "metadata": {},
   "source": [
    "#### Hyper Parameter Tuning with Cross Validation"
   ]
  },
  {
   "cell_type": "markdown",
   "metadata": {},
   "source": [
    "As we learned in class, while classification trees use measures like entropy or Gini impurity to evaluate the quality of a split, regression trees use variance (or equivalently, mean squared error) as the criterion for splitting. The key idea is to minimize the variance within each node. When constructing a decision tree for regression, at each step, the algorithm considers all possible splits on all features and selects the split that minimizes the variance of the target variable within each resulting node."
   ]
  },
  {
   "cell_type": "code",
   "execution_count": 130,
   "metadata": {},
   "outputs": [
    {
     "name": "stdout",
     "output_type": "stream",
     "text": [
      "[-2540213.57880558 -2487791.66625811 -2519381.57228643 -2564253.77476701\n",
      " -2664540.81996241]\n",
      "Average MAE scores without HPO:  2555236.282415907\n",
      "Average MAE scores without HPO as a percentage of the mean y value:  15.14 %\n",
      "Scores from CV with HPO [-2512176.51760625 -2729633.71705624 -2427090.07518168 -2833353.58804047\n",
      " -2572405.69606868]\n",
      "Average MAE scores with HPO:  2614931.9187906613\n",
      "Average MAE scores with HPO as a percentage of the mean y value:  15.50 %\n",
      "The best parameters when using negative mean absolute error scoring is:  {'max_depth': 7, 'min_samples_split': 20}\n",
      "The best MAE score attained was:  2587140.137956417\n",
      "HPO leads to a  -2.34 %  improvement in MAE score over the model without HPO\n"
     ]
    }
   ],
   "source": [
    "from sklearn.model_selection import GridSearchCV, KFold\n",
    "from sklearn.model_selection import cross_val_score\n",
    "\n",
    "# Define the cross validation scheme.\n",
    "cv = KFold(n_splits=5, shuffle=True, random_state=56)\n",
    "\n",
    "\n",
    "scores = cross_val_score(tree, X, y, cv=cv, scoring='neg_mean_absolute_error')\n",
    "print(scores)\n",
    "print(f\"{'Average MAE scores without HPO: '}\", -scores.mean())\n",
    "print(f\"{'Average MAE scores without HPO as a percentage of the mean y value: '}\", f\"{(-scores.mean()/np.mean(y)*100):.2f}\", '%')\n",
    "\n",
    "\n",
    "# Define the search space\n",
    "\n",
    "param_grid = {\n",
    "    'max_depth': [1,2,3,4,5,6,7,8,9,11,13,15],  # Add more values if needed\n",
    "    'min_samples_split': [2, 5, 10, 20]  # Add more values if needed\n",
    "}\n",
    "\n",
    "\n",
    "# TODO - think about iterating over the grid and storing results to be able to plot the results. Have to put after fit func.\n",
    "# print( pd.DataFrame(better_knn.cv_results_)[['mean_test_score', 'std_test_score', 'params']].sort_values(by='mean_test_score', ascending=False).head(5) )\n",
    "\n",
    "\n",
    "better_tree = GridSearchCV(tree, param_grid, cv=cv, n_jobs=-1, scoring='neg_mean_absolute_error', refit=True)\n",
    "\n",
    "#get the scores from the cross validation with HPO\n",
    "\n",
    "\n",
    "better_tree.fit(X_train, y_train) \n",
    "better_scores = cross_val_score(better_tree, X_train, y_train, cv=cv, scoring='neg_mean_absolute_error')\n",
    "\n",
    "print(f\"{'Scores from CV with HPO'}\", better_scores)\n",
    "print(f\"{'Average MAE scores with HPO: '}\", -better_scores.mean())\n",
    "print(f\"{'Average MAE scores with HPO as a percentage of the mean y value: '}\", f\"{(-better_scores.mean()/np.mean(y)*100):.2f}\", '%')\n",
    "\n",
    "\n",
    "\n",
    "print(f\"{'The best parameters when using negative mean absolute error scoring is: '}\", better_tree.best_params_)\n",
    "print(f\"{'The best MAE score attained was: '}\", -better_tree.best_score_)\n",
    "\n",
    "print(f\"{'HPO leads to a '}\", f\"{(1-(-better_scores.mean()/np.mean(y))/(-scores.mean()/np.mean(y)))*100:.2f}\", '%', \" improvement in MAE score over the model without HPO\")\n"
   ]
  },
  {
   "cell_type": "markdown",
   "metadata": {},
   "source": [
    "### Now let's use this new model to predict values of the test data and evaluate the model."
   ]
  },
  {
   "cell_type": "code",
   "execution_count": 131,
   "metadata": {},
   "outputs": [
    {
     "name": "stdout",
     "output_type": "stream",
     "text": [
      "Evaluation method         Score                Dummy Score          Ratio (Score/Dummy Score)\n",
      "MSE                       11518827047686.314   64828773154235.156   0.178     \n",
      "R2                        0.822                -0.001               -1217.244 \n",
      "MAE                       2365058.117          6889700.367          0.343     \n",
      "Ratio of mae over mean value of y: 0.140\n"
     ]
    }
   ],
   "source": [
    "better_predictions = better_tree.predict(X_test)\n",
    "\n",
    "\n",
    "my_scores = []\n",
    "\n",
    "\n",
    "mse_values = [\"MSE\"]\n",
    "mse = mean_squared_error(y_test, y_pred)\n",
    "mse_dummy = mean_squared_error(y_test, y_pred_dummy)\n",
    "\n",
    "mse_values.append(mse)\n",
    "mse_values.append(mse_dummy)\n",
    "\n",
    "my_scores.append(mse_values)\n",
    "\n",
    "\n",
    "\n",
    "r2_values = [\"R2\"]\n",
    "r2 = r2_score(y_test, y_pred)\n",
    "r2_dummy = r2_score(y_test, y_pred_dummy)\n",
    "\n",
    "r2_values.append(r2)\n",
    "r2_values.append(r2_dummy)\n",
    "\n",
    "my_scores.append(r2_values)\n",
    "\n",
    "\n",
    "\n",
    "mae_values = [\"MAE\"]\n",
    "mae = mean_absolute_error(y_test, y_pred)\n",
    "mae_dummy = mean_absolute_error(y_test, y_pred_dummy)\n",
    "\n",
    "mae_values.append(mae)\n",
    "mae_values.append(mae_dummy)\n",
    "\n",
    "my_scores.append(mae_values)\n",
    "\n",
    "\n",
    "print(f\"{'Evaluation method':<25} {'Score':<20} {'Dummy Score':<20} {'Ratio (Score/Dummy Score)':<20}\")\n",
    "\n",
    "for item in my_scores:\n",
    "    ratio = item[1]/item[2] if item[2] != 0 else 0\n",
    "    print(f\"{item[0]:<25} {item[1]:<20.3f} {item[2]:<20.3f} {ratio:<10.3f}\")\n",
    "    \n",
    "    # print the ratio of the mse score over the mean value of y_test\n",
    "print(f\"Ratio of mae over mean value of y: {(mae)/np.mean(y):.3f}\")\n",
    "\n"
   ]
  }
 ],
 "metadata": {
  "kernelspec": {
   "display_name": "venv",
   "language": "python",
   "name": "python3"
  },
  "language_info": {
   "codemirror_mode": {
    "name": "ipython",
    "version": 3
   },
   "file_extension": ".py",
   "mimetype": "text/x-python",
   "name": "python",
   "nbconvert_exporter": "python",
   "pygments_lexer": "ipython3",
   "version": "3.11.0"
  }
 },
 "nbformat": 4,
 "nbformat_minor": 2
}
