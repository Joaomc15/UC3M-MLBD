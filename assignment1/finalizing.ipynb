{
 "cells": [
  {
   "cell_type": "markdown",
   "metadata": {},
   "source": [
    "# UC3M-MLBD (GitHub Repo Name)\n",
    "\n",
    "**Authors**: João M. Carvalho (100521356), George Y. Fang (100521298)\n",
    "\n",
    "Repo for UC3M's ML for Business Decision Making course\n",
    "\n",
    "**NIA number**: 56\n",
    "\n",
    "## Project 1: Predicting Solar Energy Production with scikit-learn\n",
    "\n",
    "### Introduction\n",
    "This assignment focuses on practicing machine learning methods and hyper-parameter tuning to determine the optimal model for a given dataset. Participants will engage in model selection, evaluation, and making predictions on unseen data.\n",
    "\n",
    "The context of this assignment is the challenge of forecasting energy production from renewable sources, specifically wind and solar energy. Unlike traditional sources, the generation of solar and wind energy depends on weather conditions and must be accurately predicted 24 hours in advance to ensure a balanced electricity network. Accurate weather forecasting models, like GFS and ECMWF, play a crucial role in predicting variables related to these renewable energies.\n",
    "\n",
    "We will use meteorological data forecasted by GFS to train a machine learning model that estimates solar energy production at a solar plant in Oklahoma. The available dataset contains 15 meteorological variables, each forecasted at 5 different times of the day and at 4 locations around the solar plant, leading to 300 input attributes in total. The dataset spans from 1994-2007, and the model’s performance will be evaluated using competition data from 2008-2009. The objective is to accurately predict the energy produced, with the last column of the dataset indicating the response variable, i.e., the energy production.\n",
    "\n",
    "### Deliverables\n",
    "* EDA\n",
    "* Two Simple models (KNN and DecisionTreeRegressor) and training and evaluation process description\n",
    "* At Least Two Advanced models (SVM, RandomForest, GradientBoosting) and training and evaluation process description\n",
    "* One Final Model (Using Joblib) and training and evaluation process description\n",
    "* One .csv file with final predictions"
   ]
  },
  {
   "cell_type": "markdown",
   "metadata": {},
   "source": [
    "# Outline: **to be deleted**\n",
    "\n",
    "* Importing the data (Joao)\n",
    "* EDA \n",
    "  * histogram (Joao)\n",
    "  * looking for categorical data (George)\n",
    "  * dropping columns (George)\n",
    "* Standardize/scaling (Joao)\n",
    "* Model 1: KNN (Joao)\n",
    "* Model 2: Decision Tree (George)\n",
    "* Model 3: SVM (George)\n",
    "* Model 4: Random Forest (Joao)\n",
    "* Extra Model: Gradient Boosting (Joao)\n",
    "* Comparing all models\n",
    "* Final Model selection and export.\n"
   ]
  },
  {
   "cell_type": "markdown",
   "metadata": {},
   "source": [
    "# Part 0: Importing the data\n",
    "\n",
    "We start by importing the data with our NIA number which "
   ]
  },
  {
   "cell_type": "markdown",
   "metadata": {},
   "source": [
    "### Part 1: Exploratory Data Analysis\n",
    "We are conducting a simplified EDA to do the following:\n",
    "* Check for the presence of categorical variables.\n",
    "* Check for missing values and decide on a strategy to handle them.\n",
    "* Identify and handle constant columns (columns with the same value for all records).\n",
    "* Explore summary statistics and distributions of the target variable 'energy'.\n",
    "* Visualize relationships between features and the target variable using plots."
   ]
  },
  {
   "cell_type": "markdown",
   "metadata": {},
   "source": [
    "## 1st Model: KNN "
   ]
  },
  {
   "cell_type": "markdown",
   "metadata": {},
   "source": []
  }
 ],
 "metadata": {
  "kernelspec": {
   "display_name": "venv",
   "language": "python",
   "name": "python3"
  },
  "language_info": {
   "name": "python",
   "version": "3.11.2"
  }
 },
 "nbformat": 4,
 "nbformat_minor": 2
}
