{
 "cells": [
  {
   "cell_type": "markdown",
   "metadata": {},
   "source": [
    "### These are helper functions that get used later on but should be compiled first. "
   ]
  },
  {
   "cell_type": "code",
   "execution_count": 25,
   "metadata": {},
   "outputs": [],
   "source": [
    "from sklearn.metrics import mean_squared_error\n",
    "from sklearn.metrics import r2_score\n",
    "from sklearn.metrics import mean_absolute_error\n",
    "\n",
    "def get_scores(y_pred):\n",
    "    my_scores = []\n",
    "    \n",
    "    mse_values = [\"MSE\"]\n",
    "    mse = mean_squared_error(y_test, y_pred)\n",
    "    mse_dummy = mean_squared_error(y_test, y_pred_dummy)\n",
    "    \n",
    "    mse_values.append(mse)\n",
    "    mse_values.append(mse_dummy)\n",
    "\n",
    "    my_scores.append(mse_values)\n",
    "\n",
    "\n",
    "\n",
    "    r2_values = [\"R2\"]\n",
    "    r2 = r2_score(y_test, y_pred)\n",
    "    r2_dummy = r2_score(y_test, y_pred_dummy)\n",
    "\n",
    "    r2_values.append(r2)\n",
    "    r2_values.append(r2_dummy)\n",
    "\n",
    "    my_scores.append(r2_values)\n",
    "\n",
    "\n",
    "\n",
    "    mae_values = [\"MAE\"]\n",
    "    mae = mean_absolute_error(y_test, y_pred)\n",
    "    mae_dummy = mean_absolute_error(y_test, y_pred_dummy)\n",
    "\n",
    "    mae_values.append(mae)\n",
    "    mae_values.append(mae_dummy)\n",
    "\n",
    "    my_scores.append(mae_values)\n",
    "\n",
    "\n",
    "    print(f\"{'Evaluation method':<25} {'Score':<20} {'Dummy Score':<20} {'Ratio (Score/Dummy Score)':<20}\")\n",
    "\n",
    "    for item in my_scores:\n",
    "        ratio = item[1]/item[2] if item[2] != 0 else 0\n",
    "        print(f\"{item[0]:<25} {item[1]:<20.3f} {item[2]:<20.3f} {ratio:<10.3f}\")\n",
    "        \n",
    "        # print the ratio of the mse score over the mean value of y_test\n",
    "    print(f\"Ratio of mae over mean value of y: {(mae)/np.mean(y):.3f}\")\n",
    "    "
   ]
  },
  {
   "cell_type": "markdown",
   "metadata": {},
   "source": [
    "# UC3M-MLBD (GitHub Repo Name)\n",
    "\n",
    "**Authors**: João M. Carvalho (100521356), George Y. Fang (100521298)\n",
    "\n",
    "Repo for UC3M's ML for Business Decision Making course\n",
    "\n",
    "**NIA number**: 56\n",
    "\n",
    "## Project 1: Predicting Solar Energy Production with scikit-learn\n",
    "\n",
    "### Introduction\n",
    "This assignment focuses on practicing machine learning methods and hyper-parameter tuning to determine the optimal model for a given dataset. Participants will engage in model selection, evaluation, and making predictions on unseen data.\n",
    "\n",
    "The context of this assignment is the challenge of forecasting energy production from renewable sources, specifically wind and solar energy. Unlike traditional sources, the generation of solar and wind energy depends on weather conditions and must be accurately predicted 24 hours in advance to ensure a balanced electricity network. Accurate weather forecasting models, like GFS and ECMWF, play a crucial role in predicting variables related to these renewable energies.\n",
    "\n",
    "We will use meteorological data forecasted by GFS to train a machine learning model that estimates solar energy production at a solar plant in Oklahoma. The available dataset contains 15 meteorological variables, each forecasted at 5 different times of the day and at 4 locations around the solar plant, leading to 300 input attributes in total. The dataset spans from 1994-2007, and the model’s performance will be evaluated using competition data from 2008-2009. The objective is to accurately predict the energy produced, with the last column of the dataset indicating the response variable, i.e., the energy production.\n",
    "\n",
    "### Deliverables\n",
    "* EDA\n",
    "* Two Simple models (KNN and DecisionTreeRegressor) and training and evaluation process description\n",
    "* At Least Two Advanced models (SVM, RandomForest, GradientBoosting) and training and evaluation process description\n",
    "* One Final Model (Using Joblib) and training and evaluation process description\n",
    "* One .csv file with final predictions"
   ]
  },
  {
   "cell_type": "markdown",
   "metadata": {},
   "source": [
    "# Outline: **to be deleted**\n",
    "\n",
    "* Importing the data (Joao)\n",
    "* EDA \n",
    "  * histogram (Joao)\n",
    "  * looking for categorical data (George)\n",
    "  * dropping columns (George)\n",
    "* Standardize/scaling (Joao)\n",
    "* Model 1: KNN (Joao)\n",
    "* Model 2: Decision Tree (George)\n",
    "* Model 3: SVM (George)\n",
    "* Model 4: Random Forest (Joao)\n",
    "* Extra Model: Gradient Boosting (Joao)\n",
    "* Comparing all models\n",
    "* Final Model selection and export.\n"
   ]
  },
  {
   "cell_type": "markdown",
   "metadata": {},
   "source": [
    "# Part 0: Importing the data\n",
    "\n",
    "We start by importing the data with our NIA number which is 56. In order to do this, we need to import the libraries we will use."
   ]
  },
  {
   "cell_type": "code",
   "execution_count": 26,
   "metadata": {},
   "outputs": [],
   "source": [
    "import pandas as pd\n",
    "import numpy as np"
   ]
  },
  {
   "cell_type": "markdown",
   "metadata": {},
   "source": [
    "Now we can read the provided .pkl file with pandas and create a dataframe with the data. We will also look at df.head to make sure that everything was imported correctly."
   ]
  },
  {
   "cell_type": "code",
   "execution_count": 27,
   "metadata": {},
   "outputs": [
    {
     "data": {
      "text/plain": [
       "<bound method NDFrame.head of        apcp_sf1_1  apcp_sf2_1 apcp_sf3_1  apcp_sf4_1  apcp_sf5_1  dlwrf_s1_1  \\\n",
       "V4381    0.000000         0.0          1    0.000000    0.000000  269.677721   \n",
       "V4382    0.000000         0.0          1    0.000000    0.000000  267.930467   \n",
       "V4383    0.000000         0.0          1    0.000000    0.000000  262.911266   \n",
       "V4384    0.000000         0.0          1    0.000000    0.000000  287.294791   \n",
       "V4385    0.000000         0.0          1    0.000000    0.000000  281.137748   \n",
       "...           ...         ...        ...         ...         ...         ...   \n",
       "V5109    0.000000         0.0          1    0.001818    0.010000  220.382263   \n",
       "V5110    0.046364         0.0          1    0.000000    0.000000  246.255685   \n",
       "V5111    0.000000         0.0          1    0.000000    0.001818  220.178289   \n",
       "V5112    0.000000         0.0          1    0.000000    0.000000  218.933680   \n",
       "V5113    0.000000         0.0          1    0.000000    0.000000  240.577497   \n",
       "\n",
       "       dlwrf_s2_1  dlwrf_s3_1  dlwrf_s4_1  dlwrf_s5_1  ...  ulwrf_t1_4  \\\n",
       "V4381  268.812811  275.618003  292.896845  293.744321  ...  251.823370   \n",
       "V4382  261.718425  258.974701  266.186449  266.579110  ...  262.079462   \n",
       "V4383  256.215431  262.735166  300.723741  297.067655  ...  208.790801   \n",
       "V4384  294.510900  296.137074  294.332622  290.313116  ...  221.728516   \n",
       "V4385  271.247650  272.983784  285.878141  284.344860  ...  251.658511   \n",
       "...           ...         ...         ...         ...  ...         ...   \n",
       "V5109  217.771704  223.116305  247.073861  252.406758  ...  233.184706   \n",
       "V5110  215.885454  217.702517  225.002935  229.554141  ...  234.900933   \n",
       "V5111  213.754433  223.671274  248.173351  254.857272  ...  224.027154   \n",
       "V5112  211.726363  217.747364  236.411242  235.329545  ...  231.981888   \n",
       "V5113  223.611370  225.702279  231.279760  229.013691  ...  242.817347   \n",
       "\n",
       "       ulwrf_t2_4  ulwrf_t3_4  ulwrf_t4_4  ulwrf_t5_4  uswrf_s1_4  uswrf_s2_4  \\\n",
       "V4381  245.236536  253.067257  277.306305  265.722910         0.0    9.000000   \n",
       "V4382  215.452601  238.445573  268.484716  258.646384         0.0    8.090909   \n",
       "V4383  229.409930  242.751917  217.503952  211.278191         0.0    9.090909   \n",
       "V4384  193.630020  210.387290  287.350930  288.370217         0.0    5.545455   \n",
       "V4385  252.695751  255.194519  276.137484  274.248666         0.0    7.727273   \n",
       "...           ...         ...         ...         ...         ...         ...   \n",
       "V5109  234.761611  240.133739  251.069898  247.564972         0.0   12.090909   \n",
       "V5110  235.674124  239.622916  248.179345  240.947318         0.0   16.000000   \n",
       "V5111  226.148116  225.463583  234.432091  228.848527         0.0   16.909091   \n",
       "V5112  234.686141  240.653782  257.039049  254.649402         0.0   17.727273   \n",
       "V5113  244.678044  246.838397  254.587133  252.087977         0.0   15.000000   \n",
       "\n",
       "       uswrf_s3_4  uswrf_s4_4  uswrf_s5_4  \n",
       "V4381   49.000000  104.090909   69.636364  \n",
       "V4382   49.545455  109.000000   72.818182  \n",
       "V4383   49.090909   89.363636   56.818182  \n",
       "V4384   40.181818  107.909091   73.636364  \n",
       "V4385   47.272727  105.909091   72.363636  \n",
       "...           ...         ...         ...  \n",
       "V5109   64.090909  126.181818   81.272727  \n",
       "V5110   84.272727  170.636364  110.454545  \n",
       "V5111   92.272727  180.909091  113.909091  \n",
       "V5112   97.363636  187.090909  120.818182  \n",
       "V5113   82.000000  159.090909  104.363636  \n",
       "\n",
       "[733 rows x 300 columns]>"
      ]
     },
     "execution_count": 27,
     "metadata": {},
     "output_type": "execute_result"
    }
   ],
   "source": [
    "ava = pd.read_pickle('data/ava_st1_ns4_56.pkl')\n",
    "ava.head\n",
    "comp = pd.read_pickle('data/comp_st1_ns4_56.pkl')\n",
    "comp.head"
   ]
  },
  {
   "cell_type": "markdown",
   "metadata": {},
   "source": [
    "For George's changes"
   ]
  },
  {
   "cell_type": "markdown",
   "metadata": {},
   "source": [
    "#### Check for Missing Values"
   ]
  },
  {
   "cell_type": "code",
   "execution_count": 28,
   "metadata": {},
   "outputs": [
    {
     "name": "stdout",
     "output_type": "stream",
     "text": [
      "Number of missing values: 0\n"
     ]
    }
   ],
   "source": [
    "missing_values_count = max(ava.isnull().sum())\n",
    "print(f\"Number of missing values: {missing_values_count}\")"
   ]
  },
  {
   "cell_type": "markdown",
   "metadata": {},
   "source": [
    "#### Identify and Drop Constant Columns"
   ]
  },
  {
   "cell_type": "code",
   "execution_count": 29,
   "metadata": {},
   "outputs": [
    {
     "name": "stdout",
     "output_type": "stream",
     "text": [
      "The Constant Columns Are: ['apcp_sf3_1', 'apcp_sf1_2', 'apcp_sf2_2', 'uswrf_s1_2']\n",
      "Number of constant columns: 4\n",
      "Number of columns before dropping constant columns: 301\n",
      "Number of columns after dropping constant columns: 297\n"
     ]
    }
   ],
   "source": [
    "# Shows all columns with only 1 unique value\n",
    "constant_columns = [col for col in ava.columns if ava[col].nunique() < 2]\n",
    "print(f\"The Constant Columns Are: {constant_columns}\")\n",
    "print(f\"Number of constant columns: {len(constant_columns)}\")\n",
    "\n",
    "# Drop the constant columns\n",
    "print(f\"Number of columns before dropping constant columns: {len(ava.columns)}\")\n",
    "ava.drop(labels=constant_columns, axis=1, inplace=True)\n",
    "comp.drop(labels=constant_columns, axis=1, inplace=True)\n",
    "print(f\"Number of columns after dropping constant columns: {len(ava.columns)}\")\n",
    "\n"
   ]
  },
  {
   "cell_type": "markdown",
   "metadata": {},
   "source": [
    "#### Detect Categorical Columns"
   ]
  },
  {
   "cell_type": "code",
   "execution_count": 30,
   "metadata": {},
   "outputs": [
    {
     "name": "stdout",
     "output_type": "stream",
     "text": [
      "The Categorical Columns Are: Index(['dswrf_s4_1', 'tmax_2m5_1', 'ulwrf_t4_1', 'uswrf_s3_1', 'uswrf_s4_1',\n",
      "       'pwat_ea4_2', 'tmp_sfc5_2', 'ulwrf_s5_2', 'pres_ms2_3', 'pwat_ea4_3',\n",
      "       'tcdc_ea2_3', 'tcolc_e1_3', 'tcolc_e5_3', 'tmp_sfc3_3', 'dswrf_s5_4',\n",
      "       'tmin_2m4_4', 'tmp_2m_4_4'],\n",
      "      dtype='object')\n",
      "Number of categorical columns: 17\n"
     ]
    }
   ],
   "source": [
    "#Check for categorical columns\n",
    "categorical_columns = ava.select_dtypes(include=['category']).columns\n",
    "print(f\"The Categorical Columns Are: {categorical_columns}\")\n",
    "print(f\"Number of categorical columns: {len(categorical_columns)}\")\n"
   ]
  },
  {
   "cell_type": "markdown",
   "metadata": {},
   "source": [
    "#### Visualization"
   ]
  },
  {
   "cell_type": "markdown",
   "metadata": {},
   "source": [
    "After that initial cleanup, we can start looking at some visual representations of the data which will help us understand it better. We will start by looking at the histogram of the data to understand the distribution of energy values."
   ]
  },
  {
   "cell_type": "code",
   "execution_count": 31,
   "metadata": {},
   "outputs": [],
   "source": [
    "# First import the libraries we need\n",
    "import matplotlib.pyplot as plt\n",
    "\n",
    "# Now separate the data into X and y.\n",
    "x = ava.drop('energy', axis=1)\n",
    "y = ava['energy']"
   ]
  },
  {
   "cell_type": "code",
   "execution_count": 32,
   "metadata": {},
   "outputs": [
    {
     "data": {
      "image/png": "[encoded data removed]",
      "text/plain": [
       "<Figure size 640x480 with 1 Axes>"
      ]
     },
     "metadata": {},
     "output_type": "display_data"
    }
   ],
   "source": [
    "# To actually plot the histogram, we use matplotlib.pyplot.hist()\n",
    "plt.hist(y, bins=50)\n",
    "plt.xlabel('Energy')\n",
    "plt.ylabel('Count')\n",
    "plt.show()"
   ]
  },
  {
   "cell_type": "markdown",
   "metadata": {},
   "source": [
    "As we can see in the histogram, our data appears to bi-modal. This will impact which evaluation model we use because we will need to make sure that error measurements are not skewed by the bi-modal distribution. "
   ]
  },
  {
   "cell_type": "markdown",
   "metadata": {},
   "source": [
    "Even though the distribution appears not to have any outliers, we will use the IQR method to detect and confirm this."
   ]
  },
  {
   "cell_type": "code",
   "execution_count": 33,
   "metadata": {},
   "outputs": [
    {
     "name": "stdout",
     "output_type": "stream",
     "text": [
      "number of outliers:  0\n"
     ]
    }
   ],
   "source": [
    "q1 = y.quantile(0.25)\n",
    "q3 = y.quantile(0.75)\n",
    "iqr = q3 - q1\n",
    "lower_bound = q1 - (1.5*iqr)\n",
    "upper_bound = q3 + (1.5*iqr)\n",
    "\n",
    "# Identify the number of outliers\n",
    "\n",
    "print('number of outliers: ', len(y[y > upper_bound]) + len(y[y < lower_bound]))"
   ]
  },
  {
   "cell_type": "markdown",
   "metadata": {},
   "source": [
    "With no outliers detected, we can proceed with the creation of our models. "
   ]
  },
  {
   "cell_type": "markdown",
   "metadata": {},
   "source": [
    "## EDA Summary"
   ]
  },
  {
   "cell_type": "markdown",
   "metadata": {},
   "source": [
    "Constant Columns: There are four constant column ['apcp_sf3_1', 'apcp_sf1_2', 'apcp_sf2_2', 'uswrf_s1_2']. These columns will be dropped from the dataset as they are redundant and would not contribute to the model accuracy. \n",
    "\n",
    "Missing Values: There are no missing values.\n",
    "\n",
    "Categorical Variables: There are 17 categorical columns detected. This will be an issue for models like KNN and SVM because these algorithms are typically designed to work with numerical data. KNN relies on a distance metric to find the \"nearest neighbors\" in the feature space. Common distance metrics include Euclidean distance. For numerical features, distance calculations are straightforward. However, when dealing with categorical features, defining meaningful distances becomes more complex. SVMs often use the \"kernel trick\" to implicitly map data into a higher-dimensional space. This is more straightforward with numerical features. We will implement one-hot encoding to convert categorical features into numerical features."
   ]
  },
  {
   "cell_type": "markdown",
   "metadata": {},
   "source": [
    "## 1st Model: KNN "
   ]
  },
  {
   "cell_type": "markdown",
   "metadata": {},
   "source": [
    "Our 1st model is a K Nearest Neighbors model. This model is a non-parametric method used for classification and regression. It is a lazy learning algorithm that stores all instances corresponding to training data in n-dimensional space. When an unknown discrete data is received, it analyzes the closest k number of instances saved (nearest neighbors) and returns the most common class as the prediction and for real-valued data, it returns the mean of k nearest neighbors. \n",
    "\n",
    "We will start by splitting the data into training and testing sets. We will use 80% of the data for training and 20% for testing. We will also use the random_state parameter (NIA:56) to ensure that the data is split in the same way every time we run the code. This will allow us to compare the results of different models more easily."
   ]
  },
  {
   "cell_type": "markdown",
   "metadata": {},
   "source": [
    "Import the dependencies we'll need for the model."
   ]
  },
  {
   "cell_type": "code",
   "execution_count": 34,
   "metadata": {},
   "outputs": [],
   "source": [
    "from sklearn.compose import ColumnTransformer\n",
    "from sklearn.compose import make_column_selector\n",
    "from sklearn.preprocessing import StandardScaler, MinMaxScaler, OneHotEncoder\n",
    "from sklearn.model_selection import train_test_split"
   ]
  },
  {
   "cell_type": "markdown",
   "metadata": {},
   "source": [
    "#### Standardize and scale the data for this kind of model\n",
    "\n",
    "Given that we have some categorical data, we will need to use one-hot encoding to convert the categorical features into numerical features. This step is necessary because KNN relies on a distance metric to find the \"nearest neighbors\" in the feature space. Common distance metrics include Euclidean distance. For numerical features, distance calculations are straightforward. However, when dealing with categorical features, defining meaningful distances becomes more complex.\n"
   ]
  },
  {
   "cell_type": "code",
   "execution_count": 35,
   "metadata": {},
   "outputs": [],
   "source": [
    "preprocessor = ColumnTransformer(\n",
    "    transformers = [\n",
    "        ('STscaler', StandardScaler(), make_column_selector(dtype_include=np.float64)),\n",
    "        ('MMscaler', MinMaxScaler(), make_column_selector(dtype_include=np.int64)),\n",
    "        ('OHE', OneHotEncoder(drop='first'), make_column_selector(dtype_include='category'))\n",
    "    ],\n",
    "    remainder = 'passthrough'\n",
    ")\n",
    "\n",
    "preprocessor.fit(x)\n",
    "\n",
    "X = preprocessor.transform(x)\n",
    "\n"
   ]
  },
  {
   "cell_type": "markdown",
   "metadata": {},
   "source": [
    "\n",
    "To dive deeper into our preprocessor, heres was each step does:\n",
    "\n",
    "Standardization for Float64 Features (STscaler):\n",
    "\n",
    "- StandardScaler is applied to features with data type float64. Standardization scales the features so that they have a mean of 0 and a standard deviation of 1. This is important for models that rely on distance metrics, such as K-Nearest Neighbors (KNN) and Support Vector Machines (SVM). Standardizing features ensures that each feature contributes equally to the distance computations.\n",
    "\n",
    "Min-Max Scaling for Int64 Features (MMscaler):\n",
    "\n",
    "- MinMaxScaler is applied to features with data type int64. Min-Max scaling transforms the features to a specific range (usually between 0 and 1). This is particularly useful for algorithms like SVMs, Neural Networks, and models that utilize gradient descent, as it prevents features with larger magnitudes from dominating the learning process.\n",
    "\n",
    "One-Hot Encoding for Categorical Features (OHE):\n",
    "\n",
    "- OneHotEncoder is applied to features with data type categorical. One-hot encoding transforms categorical features into numerical features. This is important because many machine learning algorithms cannot operate on categorical data directly. Instead, they require numerical features to perform computations. One-hot encoding is a common technique for converting categorical features into numerical features.\n",
    "\n",
    "Passthrough for Remaining Features (remainder='passthrough'):\n",
    "\n",
    "- The remainder parameter is set to 'passthrough', meaning that any features not explicitly transformed by the specified scalers will be kept in their original form. This is important to ensure that categorical features or those that don't require scaling are not modified."
   ]
  },
  {
   "cell_type": "markdown",
   "metadata": {},
   "source": [
    "## Now we can create the basic model without any hyperparameter tuning and see how it performs."
   ]
  },
  {
   "cell_type": "markdown",
   "metadata": {},
   "source": [
    "First let's split the data into training and testing sets. This will be the same split we use for the rest of the models. This holdout method is a simple way to evaluate a model by splitting the data into training and testing sets. The model is trained on the training set and then evaluated on the testing set. However, it has some drawbacks. For example, the model is only trained on a subset of the data, which can lead to overfitting. Additionally, the model is only evaluated on a subset of the data, which can lead to high variance in the evaluation metrics. We'll use cross-validation later to address these issues."
   ]
  },
  {
   "cell_type": "code",
   "execution_count": 36,
   "metadata": {},
   "outputs": [],
   "source": [
    "X_train, X_test, y_train, y_test = train_test_split(X, y, test_size=0.2, random_state=56)\n"
   ]
  },
  {
   "cell_type": "markdown",
   "metadata": {},
   "source": [
    "#### Import the model from sci-kit lean and we'll fit the data and predict the output."
   ]
  },
  {
   "cell_type": "code",
   "execution_count": 37,
   "metadata": {},
   "outputs": [],
   "source": [
    "from sklearn.neighbors import KNeighborsRegressor\n",
    "\n",
    "# Instantiate the model, leaving default values for all hyperparameters which is n= 5\n",
    "knn = KNeighborsRegressor()\n",
    "knn.fit(X_train, y_train)\n",
    "\n",
    "# We'll now make our predictions\n",
    "y_pred = knn.predict(X_test)"
   ]
  },
  {
   "cell_type": "markdown",
   "metadata": {},
   "source": [
    "We'll make a DummyRegressor model to compare the results of our KNN model to a trivial model that just predicts the mean of the training data."
   ]
  },
  {
   "cell_type": "code",
   "execution_count": 38,
   "metadata": {},
   "outputs": [],
   "source": [
    "from sklearn.dummy import DummyRegressor\n",
    "\n",
    "dummy_regressor = DummyRegressor(strategy='mean')\n",
    "dummy_regressor.fit(X_train, y_train)\n",
    "y_pred_dummy = dummy_regressor.predict(X_test)"
   ]
  },
  {
   "cell_type": "markdown",
   "metadata": {},
   "source": [
    "### Now for metrics\n",
    "\n",
    "First we import the dependencies we'll need for the metrics."
   ]
  },
  {
   "cell_type": "code",
   "execution_count": 39,
   "metadata": {},
   "outputs": [
    {
     "name": "stdout",
     "output_type": "stream",
     "text": [
      "Evaluation method         Score                Dummy Score          Ratio (Score/Dummy Score)\n",
      "MSE                       12981489825913.064   61839876045693.438   0.210     \n",
      "R2                        0.790                -0.003               -287.241  \n",
      "MAE                       2416365.430          6744592.742          0.358     \n",
      "Ratio of mae over mean value of y: 0.143\n"
     ]
    }
   ],
   "source": [
    "\n",
    "# Use that helper function from the top of the file to get scores\n",
    "get_scores(y_pred)\n",
    "\n"
   ]
  },
  {
   "cell_type": "markdown",
   "metadata": {},
   "source": [
    "#### Residuals\n",
    "\n",
    "We'll take a look at a plot of the residuals of the model predictions to see if there are any trends or patterns that the model is missing."
   ]
  },
  {
   "cell_type": "code",
   "execution_count": 40,
   "metadata": {},
   "outputs": [
    {
     "data": {
      "image/png": "[encoded data removed]",
      "text/plain": [
       "<Figure size 640x480 with 1 Axes>"
      ]
     },
     "metadata": {},
     "output_type": "display_data"
    }
   ],
   "source": [
    "plt.scatter(y_test, y_pred - y_test)\n",
    "plt.show()"
   ]
  },
  {
   "cell_type": "markdown",
   "metadata": {},
   "source": [
    "We can see that the residuals are mostly homoscedastic, but there is a slight decreasing trend. This is likely due to the bi-modal distribution of the data and is leading to some over-prediction of the lower values and under-prediction of the higher values. Next we'll tune the hyperparameters of the model to see if we can improve the performance."
   ]
  },
  {
   "cell_type": "markdown",
   "metadata": {},
   "source": [
    "## Hyperparameter Tuning using k-fold Cross-Validation"
   ]
  },
  {
   "cell_type": "code",
   "execution_count": 41,
   "metadata": {},
   "outputs": [
    {
     "name": "stdout",
     "output_type": "stream",
     "text": [
      "[-2531520.27671233 -2591816.2739726  -2204672.21643836 -2475971.28493151\n",
      " -2570046.20821918]\n",
      "Average MAE scores without HPO:  2474805.252054794\n",
      "Average MAE scores without HPO as a percentage of the mean y value:  14.67 %\n"
     ]
    }
   ],
   "source": [
    "from sklearn.model_selection import GridSearchCV, KFold\n",
    "from sklearn.model_selection import cross_val_score\n",
    "\n",
    "# Define the cross validation scheme. We will use KFold with 5 folds and no shuffling because the data is ordered.\n",
    "cv = KFold(n_splits=5, shuffle=False)\n",
    "\n",
    "\n",
    "scores = cross_val_score(knn, X, y, cv=cv, scoring='neg_mean_absolute_error')\n",
    "print(scores)\n",
    "print(f\"{'Average MAE scores without HPO: '}\", -scores.mean())\n",
    "print(f\"{'Average MAE scores without HPO as a percentage of the mean y value: '}\", f\"{(-scores.mean()/np.mean(y)*100):.2f}\", '%')\n",
    "\n",
    "\n",
    "# Define the search space\n",
    "\n",
    "param_grid = {\n",
    "    'n_neighbors': list(range(1, 50)),\n",
    "}\n",
    "\n",
    "# Define the grid search\n",
    "better_knn = GridSearchCV(knn, param_grid, cv=cv, n_jobs=-1, scoring='neg_mean_absolute_error')\n",
    "\n"
   ]
  },
  {
   "cell_type": "markdown",
   "metadata": {},
   "source": [
    "#### Validating with MSE, R2, and MAE\n",
    "\n",
    "Validating a machine learning model using multiple evaluation metrics, such as Mean Squared Error (MSE), Mean Absolute Error (MAE), and R-squared (R²), gives us a comprehensive understanding of the model's performance from different perspectives. Each metric shows different aspects of the model's predictive ability and suitability for specific applications. Here's why it's important to consider these metrics:\n",
    "\n",
    "#### *Mean Squared Error (MSE):*\n",
    "**Role:**\n",
    "\n",
    "- MSE measures the average squared difference between the predicted and actual values.\n",
    "  \n",
    "**Importance:**\n",
    "- Sensitivity to Outliers: MSE is sensitive to outliers due to the squaring of errors. It penalizes large errors more than smaller errors, making it effective in scenarios where large errors are critical.\n",
    "- Optimization Objective: Many machine learning algorithms, especially regression models, are trained by minimizing MSE. Minimizing MSE during training often leads to models that perform well in terms of overall error.\n",
    "\n",
    "#### *Mean Absolute Error (MAE):*\n",
    "**Role:**\n",
    "- MAE measures the average absolute difference between the predicted and actual values.\n",
    "  \n",
    "**Importance:**\n",
    "- Robustness to Outliers: MAE is less sensitive to outliers than MSE since it doesn't involve squaring errors. It provides a more robust measure of the average error.\n",
    "- Interpretability: MAE is easy to interpret, representing the average magnitude of errors. This makes it useful for understanding the typical prediction error.\n",
    "\n",
    "#### *R-squared (R²):*\n",
    "\n",
    "**Role:** \n",
    "- R² quantifies the proportion of the variance in the dependent variable that is predictable from the independent variables.\n",
    "\n",
    "**Importance:**\n",
    "- Model Fit: R² indicates how well the model's predictions match the variability in the actual data. A higher R² suggests a better fit.\n",
    "- Comparisons: R² provides a standardized metric for model comparison. It ranges from 0 to 1, where 1 indicates a perfect fit. It's especially useful when comparing models with different scales of the dependent variable.\n",
    "\n",
    "#### Primary Metric\n",
    "\n",
    "Due to the bi-modal distribution of the data, we will use MAE as our primary metric for evaluating the model. MAE is less sensitive to large errors than MSE since it doesn't involve squaring errors. It provides a more robust measure of the average error when you consider the two peaks or \"normal area\" in the distribution. \n"
   ]
  },
  {
   "cell_type": "code",
   "execution_count": 42,
   "metadata": {},
   "outputs": [
    {
     "name": "stdout",
     "output_type": "stream",
     "text": [
      "Scores from CV with HPO [-2261770.89586305 -2335000.17689016 -2288003.35261315 -2373923.14934709\n",
      " -2453240.01285714]\n",
      "Average MAE scores with HPO:  2342387.517514118\n",
      "Average MAE scores with HPO as a percentage of the mean y value:  13.88 %\n",
      "The best number of neighbors when using negative mean absolute error scoring is:  14\n",
      "The best MAE score attained was:  2330471.897291682\n",
      "HPO leads to a  5.35 %  improvement in MAE score over the model without HPO\n"
     ]
    }
   ],
   "source": [
    "\n",
    "# Fit grid search\n",
    "better_knn.fit(X_train, y_train) \n",
    "better_scores = cross_val_score(better_knn, X_train, y_train, cv=cv, scoring='neg_mean_absolute_error')\n",
    "\n",
    "print(f\"{'Scores from CV with HPO'}\", better_scores)\n",
    "print(f\"{'Average MAE scores with HPO: '}\", -better_scores.mean())\n",
    "print(f\"{'Average MAE scores with HPO as a percentage of the mean y value: '}\", f\"{(-better_scores.mean()/np.mean(y)*100):.2f}\", '%')\n",
    "\n",
    "best_n = better_knn.best_params_['n_neighbors']\n",
    "\n",
    "print(f\"{'The best number of neighbors when using negative mean absolute error scoring is: '}\", best_n)\n",
    "print(f\"{'The best MAE score attained was: '}\", -better_knn.best_score_)\n",
    "\n",
    "print(f\"{'HPO leads to a '}\", f\"{(1-(-better_scores.mean()/np.mean(y))/(-scores.mean()/np.mean(y)))*100:.2f}\", '%', \" improvement in MAE score over the model without HPO\")"
   ]
  },
  {
   "cell_type": "markdown",
   "metadata": {},
   "source": [
    "That was a lot, but what happened was, we used the GridSearchCV function to test different values for the hyperparameters of the model. Going from 1 to 50 neighbors and using the mean squared error as the scoring metric. We used 5-fold cross-validation to evaluate the performance of each model. This means that the data was split into 5 subsets, and each model was trained on 4 of the subsets and evaluated on the remaining subset. This process was repeated 5 times, so that each subset was used as the evaluation set once. The final score for each model was the average of the 5 evaluation scores. This is a more robust method of evaluating a model than the holdout method because it uses all of the data for training and evaluation. It also reduces the variance in the evaluation metrics because each model is evaluated on all of the data.\n",
    "\n",
    "With this, we found that the ideal number of neighbors is 14, and this results in a mean absolute error of 2342387.517514118, which is just 13.88% of the mean energy production. This is a significant improvement over the dummy model, which had a mean absolute error of  61839876045693.438, and the non-tuned model, which had a mean absolute error of 2474805.252054794, which is 14.67% of the mean energy production."
   ]
  },
  {
   "cell_type": "markdown",
   "metadata": {},
   "source": [
    "### Now that we found the best n-neighbors, we can create a new model with that parameter and see how it performs."
   ]
  },
  {
   "cell_type": "code",
   "execution_count": 43,
   "metadata": {},
   "outputs": [
    {
     "name": "stdout",
     "output_type": "stream",
     "text": [
      "Evaluation method         Score                Dummy Score          Ratio (Score/Dummy Score)\n",
      "MSE                       12182122728685.301   61839876045693.438   0.197     \n",
      "R2                        0.802                -0.003               -291.957  \n",
      "MAE                       2393483.813          6744592.742          0.355     \n",
      "Ratio of mae over mean value of y: 0.142\n"
     ]
    }
   ],
   "source": [
    "# Instantiate the model with the best known parameters\n",
    "final_knn = KNeighborsRegressor(n_neighbors=best_n)\n",
    "final_knn.fit(X_train, y_train)\n",
    "final_y_pred = final_knn.predict(X_test)\n",
    "get_scores(final_y_pred)"
   ]
  },
  {
   "cell_type": "markdown",
   "metadata": {},
   "source": [
    "## Summary of KNN Model\n",
    "\n",
    "First, we created a KNN model without HPO, and subsequently used GridSearchCrossValidation to find the best hyperparameters for the model. Creating a new model with this parameter, we were able to reduce the mean absolute error from 2474805.252054794 to 2393483.813, which is 14.2% of the mean energy production. \n",
    "\n",
    "That said, the final R2 score was 0.802, and the MAE ratio once the new model was trained with all of the X_train data, was 14.2% of the mean energy production. "
   ]
  },
  {
   "cell_type": "markdown",
   "metadata": {},
   "source": [
    "# 2nd Model Decision Tree Regressor Model\n",
    "\n",
    "Our second model is the DecisionTreeRegressor. A Decision Tree Regressor is used for predicting continuous values. It works by recursively partitioning the data into subsets based on the values of input features, ultimately providing a tree-like structure of decisions. \n",
    "\n",
    "#### How it Works\n",
    "First, you must split the data. The algorithm starts at the root node and selects the feature that best splits the data into subsets. The \"best\" split is determined by reducing the variance of the target variable within each subset. Next is recursive partitioning. This process is repeated for each subset, creating child nodes. This recursive partitioning continues until a stopping criterion is met, such as reaching a maximum depth or having a minimum number of samples in a node. The final nodes, called leaf nodes, contain the predicted continuous value. This value is often the mean or median of the target variable within that leaf.\n",
    "\n",
    "#### Key Features\n",
    "Interpretability:\n",
    "- Decision trees are easy to interpret and visualize. The resulting tree structure can be understood and analyzed, making it a valuable tool for decision-making.\n",
    "\n",
    "Non-linear Relationships:\n",
    "- Decision trees can capture non-linear relationships between features and the target variable. They are capable of fitting complex patterns in the data.\n",
    "\n",
    "Robust to Outliers:\n",
    "- Decision trees are less sensitive to outliers compared to some other regression models. They partition the data based on relative ordering rather than absolute values."
   ]
  },
  {
   "cell_type": "markdown",
   "metadata": {},
   "source": [
    "### Preprocessing"
   ]
  },
  {
   "cell_type": "markdown",
   "metadata": {},
   "source": [
    "As explained before, preprocessing is an important step in the machine learning pipeline as it helps enhance the performance and reliability of the models. Here, the ColumnTransformer is utilized to apply specific preprocessing techniques to different types of features, addressing their unique characteristics. Specifically, we are standardizing the data and scaling it for easier processing. For DecisionTreeRegressor, preprocessing is less important because it is inherently robust to the scale of features. "
   ]
  },
  {
   "cell_type": "code",
   "execution_count": 44,
   "metadata": {},
   "outputs": [],
   "source": [
    "preprocessor = ColumnTransformer(\n",
    "    transformers = [\n",
    "        ('STscaler', StandardScaler(), make_column_selector(dtype_include=np.float64)),\n",
    "        ('MMscaler', MinMaxScaler(), make_column_selector(dtype_include=np.int64))\n",
    "    ],\n",
    "    remainder = 'passthrough'\n",
    ")\n",
    "\n",
    "preprocessor.fit(x)\n",
    "\n",
    "X =  preprocessor.transform(x)\n",
    "\n"
   ]
  },
  {
   "cell_type": "markdown",
   "metadata": {},
   "source": [
    "Importing the Decision Tree Regressor model from sklearn"
   ]
  },
  {
   "cell_type": "code",
   "execution_count": 45,
   "metadata": {},
   "outputs": [],
   "source": [
    "from sklearn.tree import DecisionTreeRegressor"
   ]
  },
  {
   "cell_type": "markdown",
   "metadata": {},
   "source": [
    "Now we create the DecisionTreeRegressor model, fit it to the training data and make a prediction on the test data that will be validated in subsequent cells. We'll also evaluate this model using the same metrics as the KNN model."
   ]
  },
  {
   "cell_type": "code",
   "execution_count": null,
   "metadata": {},
   "outputs": [],
   "source": [
    "tree = DecisionTreeRegressor()\n",
    "tree.fit(X_train, y_train)\n",
    "\n",
    "y_pred = tree.predict(X_test)\n",
    "\n",
    "get_scores(y_pred)\n"
   ]
  },
  {
   "cell_type": "markdown",
   "metadata": {},
   "source": [
    "## Here's a plot of the residuals of the decision tree model predictions to see if there are any trends or patterns that the model is missing."
   ]
  },
  {
   "cell_type": "markdown",
   "metadata": {},
   "source": [
    "plt.scatter(y_test, y_pred - y_test)\n",
    "plt.show()"
   ]
  },
  {
   "cell_type": "markdown",
   "metadata": {},
   "source": [
    "# K-Fold Cross Validation"
   ]
  },
  {
   "cell_type": "markdown",
   "metadata": {},
   "source": [
    "As we learned in class, while classification trees use measures like entropy or Gini impurity to evaluate the quality of a split, regression trees use variance (or equivalently, mean squared error) as the criterion for splitting. The key idea is to minimize the variance within each node. When constructing a decision tree for regression, at each step, the algorithm considers all possible splits on all features and selects the split that minimizes the variance of the target variable within each resulting node."
   ]
  },
  {
   "cell_type": "code",
   "execution_count": null,
   "metadata": {},
   "outputs": [],
   "source": [
    "from sklearn.model_selection import GridSearchCV, KFold\n",
    "from sklearn.model_selection import cross_val_score\n",
    "\n",
    "# Define the cross validation scheme.\n",
    "cv = KFold(n_splits=5, shuffle=True, random_state=56)\n",
    "\n",
    "\n",
    "scores = cross_val_score(tree, X, y, cv=cv, scoring='neg_mean_absolute_error')\n",
    "print(scores)\n",
    "print(f\"{'Average MAE scores without HPO: '}\", -scores.mean())\n",
    "print(f\"{'Average MAE scores without HPO as a percentage of the mean y value: '}\", f\"{(-scores.mean()/np.mean(y)*100):.2f}\", '%')"
   ]
  },
  {
   "cell_type": "markdown",
   "metadata": {},
   "source": [
    "param_grid defines the hyperparameter space that we want to search over to find the best combination of hyperparameters for our decision tree model, specifically these parameters:\n",
    "'max_depth': Specifies the maximum depth of the decision tree. \n",
    "'min_samples_split': Specifies the minimum number of samples required to split an internal node. \n",
    "'max_features': Specifies the maximum number of features considered for splitting a node. It includes different options like using all features (None), the square root of the total features ('sqrt'), and the base-2 logarithm of the total features ('log2')\n",
    "\n",
    "better_tree is a GridSearchCV object that performs a grid search over the specified hyperparameter space."
   ]
  },
  {
   "cell_type": "code",
   "execution_count": null,
   "metadata": {},
   "outputs": [],
   "source": [
    "# Define the search space\n",
    "\n",
    "param_grid = {\n",
    "    'max_depth': [1,2,3,4,5,6,7,8,9,11,13,15],\n",
    "    'min_samples_split': [2, 5, 10, 20], \n",
    "    'max_features': [None, 'sqrt', 'log2']\n",
    "}\n",
    "\n",
    "better_tree = GridSearchCV(tree, param_grid, cv=cv, n_jobs=-1, scoring='neg_mean_absolute_error', refit=True)\n",
    "\n",
    "\n",
    "better_tree.fit(X_train, y_train) \n",
    "better_scores = cross_val_score(better_tree, X_train, y_train, cv=cv, scoring='neg_mean_absolute_error')\n",
    "\n",
    "print(f\"{'Scores from CV with HPO'}\", better_scores)\n",
    "print(f\"{'Average MAE scores with HPO: '}\", -better_scores.mean())\n",
    "print(f\"{'Average MAE scores with HPO as a percentage of the mean y value: '}\", f\"{(-better_scores.mean()/np.mean(y)*100):.2f}\", '%')"
   ]
  },
  {
   "cell_type": "code",
   "execution_count": null,
   "metadata": {},
   "outputs": [],
   "source": [
    "print(f\"{'The best parameters when using negative mean absolute error scoring is: '}\", better_tree.best_params_)\n",
    "print(f\"{'The best MAE score attained was: '}\", -better_tree.best_score_)\n",
    "\n",
    "print(f\"{'HPO leads to a '}\", f\"{(1-(-better_scores.mean()/np.mean(y))/(-scores.mean()/np.mean(y)))*100:.2f}\", '%', \" improvement in MAE score over the model without HPO\")\n"
   ]
  },
  {
   "cell_type": "markdown",
   "metadata": {},
   "source": [
    "### Now let's use this new model to predict values of the test data and evaluate the model."
   ]
  },
  {
   "cell_type": "code",
   "execution_count": null,
   "metadata": {},
   "outputs": [],
   "source": [
    "better_predictions = better_tree.predict(X_test)\n",
    "\n",
    "get_scores(better_predictions)"
   ]
  },
  {
   "cell_type": "markdown",
   "metadata": {},
   "source": [
    "#### Summary of Results\n",
    "\n",
    "From the results we can see the r2 value of _________ and the mean absolute error of _________. This is a significant improvement from the baseline model which had an r2 value of _________ and a mean absolute error of _________. Compared to KNN, the model performes ___(better/worse)__ in terms of r2 and mean absolute error."
   ]
  },
  {
   "cell_type": "markdown",
   "metadata": {},
   "source": []
  }
 ],
 "metadata": {
  "kernelspec": {
   "display_name": "venv",
   "language": "python",
   "name": "python3"
  },
  "language_info": {
   "codemirror_mode": {
    "name": "ipython",
    "version": 3
   },
   "file_extension": ".py",
   "mimetype": "text/x-python",
   "name": "python",
   "nbconvert_exporter": "python",
   "pygments_lexer": "ipython3",
   "version": "3.11.2"
  }
 },
 "nbformat": 4,
 "nbformat_minor": 2
}
