{
 "cells": [
  {
   "cell_type": "markdown",
   "metadata": {},
   "source": [
    "## Assignment 2 - Personal Loans"
   ]
  },
  {
   "cell_type": "markdown",
   "metadata": {},
   "source": [
    "Authors: João Carvalho (100521356) George Fang (100521298)"
   ]
  },
  {
   "cell_type": "markdown",
   "metadata": {},
   "source": [
    "## Part 1: Exploratory Data Analysis"
   ]
  },
  {
   "cell_type": "markdown",
   "metadata": {},
   "source": [
    "### 1.0 Imports and Setup"
   ]
  },
  {
   "cell_type": "markdown",
   "metadata": {},
   "source": [
    "Let's start by importing the necessary libraries and loading the data.\n"
   ]
  },
  {
   "cell_type": "code",
   "execution_count": 70,
   "metadata": {},
   "outputs": [],
   "source": [
    "import pandas as pd\n",
    "import numpy\n",
    "import matplotlib.pyplot as plt"
   ]
  },
  {
   "cell_type": "markdown",
   "metadata": {},
   "source": [
    "Visualize the data:"
   ]
  },
  {
   "cell_type": "code",
   "execution_count": 71,
   "metadata": {},
   "outputs": [
    {
     "name": "stdout",
     "output_type": "stream",
     "text": [
      "The shape of the data is: (4981, 17) \n",
      "\n"
     ]
    },
    {
     "data": {
      "text/html": [
       "<div>\n",
       "<style scoped>\n",
       "    .dataframe tbody tr th:only-of-type {\n",
       "        vertical-align: middle;\n",
       "    }\n",
       "\n",
       "    .dataframe tbody tr th {\n",
       "        vertical-align: top;\n",
       "    }\n",
       "\n",
       "    .dataframe thead th {\n",
       "        text-align: right;\n",
       "    }\n",
       "</style>\n",
       "<table border=\"1\" class=\"dataframe\">\n",
       "  <thead>\n",
       "    <tr style=\"text-align: right;\">\n",
       "      <th></th>\n",
       "      <th>ID</th>\n",
       "      <th>Age</th>\n",
       "      <th>Experience</th>\n",
       "      <th>Income</th>\n",
       "      <th>PostCode</th>\n",
       "      <th>Family</th>\n",
       "      <th>CBAvg</th>\n",
       "      <th>Education</th>\n",
       "      <th>CustomerCode</th>\n",
       "      <th>Mortgage</th>\n",
       "      <th>SecuritiesAcc</th>\n",
       "      <th>DepositAcc</th>\n",
       "      <th>OnlineBanking</th>\n",
       "      <th>CreditCard</th>\n",
       "      <th>dateReq</th>\n",
       "      <th>LoanAmount</th>\n",
       "      <th>PersonalLoan</th>\n",
       "    </tr>\n",
       "  </thead>\n",
       "  <tbody>\n",
       "    <tr>\n",
       "      <th>0</th>\n",
       "      <td>1</td>\n",
       "      <td>25</td>\n",
       "      <td>1</td>\n",
       "      <td>49</td>\n",
       "      <td>21107</td>\n",
       "      <td>4.0</td>\n",
       "      <td>1.6</td>\n",
       "      <td>1.0</td>\n",
       "      <td>320763</td>\n",
       "      <td>0</td>\n",
       "      <td>1</td>\n",
       "      <td>0</td>\n",
       "      <td>0</td>\n",
       "      <td>0.0</td>\n",
       "      <td>12/10/2022</td>\n",
       "      <td>10</td>\n",
       "      <td>0</td>\n",
       "    </tr>\n",
       "    <tr>\n",
       "      <th>1</th>\n",
       "      <td>2</td>\n",
       "      <td>45</td>\n",
       "      <td>19</td>\n",
       "      <td>34</td>\n",
       "      <td>20082</td>\n",
       "      <td>3.0</td>\n",
       "      <td>1.5</td>\n",
       "      <td>1.0</td>\n",
       "      <td>320328</td>\n",
       "      <td>0</td>\n",
       "      <td>1</td>\n",
       "      <td>0</td>\n",
       "      <td>0</td>\n",
       "      <td>0.0</td>\n",
       "      <td>12/10/2022</td>\n",
       "      <td>25</td>\n",
       "      <td>0</td>\n",
       "    </tr>\n",
       "    <tr>\n",
       "      <th>2</th>\n",
       "      <td>3</td>\n",
       "      <td>39</td>\n",
       "      <td>15</td>\n",
       "      <td>11</td>\n",
       "      <td>24720</td>\n",
       "      <td>1.0</td>\n",
       "      <td>1.0</td>\n",
       "      <td>1.0</td>\n",
       "      <td>323960</td>\n",
       "      <td>0</td>\n",
       "      <td>0</td>\n",
       "      <td>0</td>\n",
       "      <td>0</td>\n",
       "      <td>0.0</td>\n",
       "      <td>12/10/2022</td>\n",
       "      <td>20</td>\n",
       "      <td>0</td>\n",
       "    </tr>\n",
       "    <tr>\n",
       "      <th>3</th>\n",
       "      <td>4</td>\n",
       "      <td>35</td>\n",
       "      <td>9</td>\n",
       "      <td>100</td>\n",
       "      <td>24112</td>\n",
       "      <td>1.0</td>\n",
       "      <td>2.7</td>\n",
       "      <td>2.0</td>\n",
       "      <td>323014</td>\n",
       "      <td>0</td>\n",
       "      <td>0</td>\n",
       "      <td>0</td>\n",
       "      <td>0</td>\n",
       "      <td>0.0</td>\n",
       "      <td>12/10/2022</td>\n",
       "      <td>20</td>\n",
       "      <td>0</td>\n",
       "    </tr>\n",
       "    <tr>\n",
       "      <th>4</th>\n",
       "      <td>6</td>\n",
       "      <td>37</td>\n",
       "      <td>13</td>\n",
       "      <td>29</td>\n",
       "      <td>22121</td>\n",
       "      <td>4.0</td>\n",
       "      <td>0.4</td>\n",
       "      <td>2.0</td>\n",
       "      <td>321599</td>\n",
       "      <td>155</td>\n",
       "      <td>0</td>\n",
       "      <td>0</td>\n",
       "      <td>1</td>\n",
       "      <td>0.0</td>\n",
       "      <td>12/10/2022</td>\n",
       "      <td>10</td>\n",
       "      <td>0</td>\n",
       "    </tr>\n",
       "  </tbody>\n",
       "</table>\n",
       "</div>"
      ],
      "text/plain": [
       "   ID  Age  Experience  Income  PostCode  Family  CBAvg  Education  \\\n",
       "0   1   25           1      49     21107     4.0    1.6        1.0   \n",
       "1   2   45          19      34     20082     3.0    1.5        1.0   \n",
       "2   3   39          15      11     24720     1.0    1.0        1.0   \n",
       "3   4   35           9     100     24112     1.0    2.7        2.0   \n",
       "4   6   37          13      29     22121     4.0    0.4        2.0   \n",
       "\n",
       "   CustomerCode  Mortgage  SecuritiesAcc  DepositAcc  OnlineBanking  \\\n",
       "0        320763         0              1           0              0   \n",
       "1        320328         0              1           0              0   \n",
       "2        323960         0              0           0              0   \n",
       "3        323014         0              0           0              0   \n",
       "4        321599       155              0           0              1   \n",
       "\n",
       "   CreditCard     dateReq  LoanAmount  PersonalLoan  \n",
       "0         0.0  12/10/2022          10             0  \n",
       "1         0.0  12/10/2022          25             0  \n",
       "2         0.0  12/10/2022          20             0  \n",
       "3         0.0  12/10/2022          20             0  \n",
       "4         0.0  12/10/2022          10             0  "
      ]
     },
     "execution_count": 71,
     "metadata": {},
     "output_type": "execute_result"
    }
   ],
   "source": [
    "df = pd.read_csv('../data/Personal_Loan_dataset.csv', sep=';', header=0)\n",
    "seed = 100521298\n",
    "\n",
    "# Check the shape of the dataset\n",
    "print(f\"The shape of the data is: {df.shape} \\n\")\n",
    "\n",
    "# Display the first few rows of the dataset\n",
    "df.head()"
   ]
  },
  {
   "cell_type": "markdown",
   "metadata": {},
   "source": [
    "### 1.1 Handling Missing Values"
   ]
  },
  {
   "cell_type": "markdown",
   "metadata": {},
   "source": [
    "Let's start by detecting the missing values. For continuous variables, we will replace missing values with the most frequent value. For categorical and yes/no variables we will replace missing values with 0 for the dichotomic variables or the lowest value for the series. First lets check which categories have missing values:"
   ]
  },
  {
   "cell_type": "code",
   "execution_count": 72,
   "metadata": {},
   "outputs": [
    {
     "name": "stdout",
     "output_type": "stream",
     "text": [
      "ID                0\n",
      "Age               0\n",
      "Experience        0\n",
      "Income            0\n",
      "PostCode          0\n",
      "Family           25\n",
      "CBAvg             0\n",
      "Education        17\n",
      "CustomerCode      0\n",
      "Mortgage          0\n",
      "SecuritiesAcc     0\n",
      "DepositAcc        0\n",
      "OnlineBanking     0\n",
      "CreditCard       13\n",
      "dateReq           0\n",
      "LoanAmount        0\n",
      "PersonalLoan      0\n",
      "dtype: int64\n"
     ]
    }
   ],
   "source": [
    "print(df.isnull().sum())"
   ]
  },
  {
   "cell_type": "markdown",
   "metadata": {},
   "source": [
    "Now let's visualize "
   ]
  },
  {
   "cell_type": "code",
   "execution_count": 73,
   "metadata": {},
   "outputs": [
    {
     "data": {
      "image/png": "[encoded data removed]",
      "text/plain": [
       "<Figure size 2500x1000 with 2 Axes>"
      ]
     },
     "metadata": {},
     "output_type": "display_data"
    }
   ],
   "source": [
    "import missingno as msno\n",
    "\n",
    "msno.matrix(df)\n",
    "plt.show()"
   ]
  },
  {
   "cell_type": "markdown",
   "metadata": {},
   "source": [
    "There are 25 missing values in the family column, 17 missing values in the education column, and 13 missing values in the credit card column. \n",
    "* For family, we will replace the missing values with 1 which is the lowest value in the series. \n",
    "* For education, we will replace the missing values with 0, creating a new category which will represent no educational experience.\n",
    "* For credit card, we will replace the missing values with 0, as it is a dichotomic variable. "
   ]
  },
  {
   "cell_type": "code",
   "execution_count": 74,
   "metadata": {},
   "outputs": [],
   "source": [
    "# Replace missing values in 'Family' with 1\n",
    "df['Family'].fillna(1, inplace=True)\n",
    "\n",
    "# Replace missing values in 'CreditCard' and 'Education' with 0\n",
    "df['CreditCard'].fillna(0, inplace=True)\n",
    "df['Education'].fillna(0, inplace=True)"
   ]
  },
  {
   "cell_type": "markdown",
   "metadata": {},
   "source": [
    "### 1.2 Handling Irrelevant Columns"
   ]
  },
  {
   "cell_type": "markdown",
   "metadata": {},
   "source": [
    "The CustomerCode column contains the customer's code number. We will drop this column as it is not relevant to our analysis. Additionally from a business perspective, this could be considered individually identifiable information and we will remove it from the dataset for privacy reasons. We will also drop the ID column as it is not relevant to our analysis."
   ]
  },
  {
   "cell_type": "code",
   "execution_count": 75,
   "metadata": {},
   "outputs": [],
   "source": [
    "# Drop the CustomerCode column\n",
    "df.drop('CustomerCode', axis=1, inplace=True)\n",
    "df.drop('ID', axis=1, inplace=True)"
   ]
  },
  {
   "cell_type": "markdown",
   "metadata": {},
   "source": [
    "### 1.3 Handling Categorial Columns"
   ]
  },
  {
   "cell_type": "markdown",
   "metadata": {},
   "source": [
    "Two columns are categorical: PostCode and dateReq. In regards to PostCode, the first two digits can be used to identify the geographical region. From the code below, we can see that all post codes start with a 2, and the second digits are all either 0-6. This means that we could either do one-hot encoding for the second digit, or we simply could modify the column from its 5 digit PostCode to be a single digit which is the second digit. In regards to the dateReq, we are going to view the week where the customer applied to the loan. The range of these loans is October 12-November 8. This is a 5 week span where the weeks are: (Week 1: 10/9-10/15  Week 2: 10/16-10/22  Week 3: 10/23-29  Week 4: 10/30-11/5 Week 5: 11/6-11/12). This means could use one hot encoding to create 5 different week columns. There are a few considerations we have to make before deciding on one-hot encoding:\n",
    "* Dimensionality: With 7 different second digit possibilites, we'll add 7 new features to the dataset. This will increase the dimensionality of your dataset which can cause some models to underperform.\n",
    "* Sparsity: The resulting dataset will be sparse (mostly zeros). Some algorithms handle sparse data well, but others might struggle or become inefficient.\n",
    "* Model Complexity and Overfitting: More features can lead to a more complex model, which increases the risk of overfitting. \n",
    "* Interpretability: One-hot encoding makes models less interpretable, especially with a large number of categories. \n",
    "\n",
    "While these are important things to consider, we are only adding 7 (postcodes) + 5 (weeks) = 12 columns to the dataset, which is not a significant increase in dimensionality. ML BANK wants to make segmentation by Custormer’s Region and the week where the customer applied by the Loan, so we will use one-hot encoding for both of these columns."
   ]
  },
  {
   "cell_type": "code",
   "execution_count": 76,
   "metadata": {},
   "outputs": [
    {
     "name": "stdout",
     "output_type": "stream",
     "text": [
      "Unique first digits: ['2']\n",
      "Unique second digits: ['1' '0' '4' '2' '3' '5' '6']\n"
     ]
    }
   ],
   "source": [
    "# Extracting the first and second digits of the postcodes\n",
    "first_digit = df['PostCode'].astype(str).str[0]\n",
    "second_digit = df['PostCode'].astype(str).str[1]\n",
    "\n",
    "# Print the unique first and second digits\n",
    "unique_first_digits = first_digit.unique()\n",
    "unique_second_digits = second_digit.unique()\n",
    "\n",
    "print(\"Unique first digits:\", unique_first_digits)\n",
    "print(\"Unique second digits:\", unique_second_digits)\n"
   ]
  },
  {
   "cell_type": "code",
   "execution_count": 77,
   "metadata": {},
   "outputs": [
    {
     "name": "stdout",
     "output_type": "stream",
     "text": [
      "Unique days: [12 13 14 15 18 19 20 21 22 25 26 27 28 29  2  3  4  5  8]\n",
      "Unique months: [10 11]\n",
      "Unique years: [2022]\n"
     ]
    }
   ],
   "source": [
    "# Convert 'dateReq' to datetime\n",
    "df['dateReq'] = pd.to_datetime(df['dateReq'], format='%d/%m/%Y')\n",
    "\n",
    "# Extracting unique days, months, and years\n",
    "unique_days = df['dateReq'].dt.day.unique()\n",
    "unique_months = df['dateReq'].dt.month.unique()\n",
    "unique_years = df['dateReq'].dt.year.unique()\n",
    "\n",
    "print(\"Unique days:\", unique_days)\n",
    "print(\"Unique months:\", unique_months)\n",
    "print(\"Unique years:\", unique_years)"
   ]
  },
  {
   "cell_type": "markdown",
   "metadata": {},
   "source": [
    "Go to section 1.5 for the pre-processing code where we will handle the one-hot encoding for these two columns. "
   ]
  },
  {
   "cell_type": "markdown",
   "metadata": {},
   "source": [
    "### 1.4 Handling Outliers"
   ]
  },
  {
   "cell_type": "markdown",
   "metadata": {},
   "source": [
    "Now let's look for outliers that might influence the data in the continuous variables. We will use boxplots to visualize the outliers."
   ]
  },
  {
   "cell_type": "code",
   "execution_count": 78,
   "metadata": {},
   "outputs": [
    {
     "data": {
      "image/png": "[encoded data removed]",
      "text/plain": [
       "<Figure size 640x480 with 1 Axes>"
      ]
     },
     "metadata": {},
     "output_type": "display_data"
    }
   ],
   "source": [
    "# Create boxplots for the numerical variables\n",
    "df.boxplot(column=['Age', 'Experience', 'Income', 'Family', 'CBAvg', 'Mortgage', 'LoanAmount', ])\n",
    "\n",
    "# Show the plot\n",
    "plt.show()\n"
   ]
  },
  {
   "cell_type": "markdown",
   "metadata": {},
   "source": [
    "From these initial boxplots, we can see that there are outliers in the Income, CBAvg, and Mortgage variables. Let's take a closer look at these variables."
   ]
  },
  {
   "cell_type": "markdown",
   "metadata": {},
   "source": [
    "##### Income"
   ]
  },
  {
   "cell_type": "code",
   "execution_count": 79,
   "metadata": {},
   "outputs": [
    {
     "name": "stdout",
     "output_type": "stream",
     "text": [
      "count    4981.000000\n",
      "mean       73.784381\n",
      "std        46.005396\n",
      "min         8.000000\n",
      "25%        39.000000\n",
      "50%        64.000000\n",
      "75%        98.000000\n",
      "max       224.000000\n",
      "Name: Income, dtype: float64\n"
     ]
    },
    {
     "data": {
      "image/png": "[encoded data removed]",
      "text/plain": [
       "<Figure size 640x480 with 1 Axes>"
      ]
     },
     "metadata": {},
     "output_type": "display_data"
    }
   ],
   "source": [
    "print(df['Income'].describe())\n",
    "# Create a histogram for the 'Income' variable using plt\n",
    "\n",
    "# make the bins every 25\n",
    "plt.hist(df['Income'], bins=range(0, 200, 25))\n",
    "plt.xlabel('Income')\n",
    "plt.ylabel('Frequency')\n",
    "plt.title('Income Distribution')\n",
    "plt.show()\n"
   ]
  },
  {
   "cell_type": "markdown",
   "metadata": {},
   "source": [
    "This distribution is skewed to the right and that leads to the outliers. Let's go ahead and remove outliers that are more than 3 standard deviations away from the mean."
   ]
  },
  {
   "cell_type": "code",
   "execution_count": 80,
   "metadata": {},
   "outputs": [
    {
     "name": "stdout",
     "output_type": "stream",
     "text": [
      "Number of rows removed: 1\n"
     ]
    }
   ],
   "source": [
    "import numpy as np\n",
    "\n",
    "# Calculate the z-scores for the 'CBAvg' column\n",
    "z_scores = np.abs((df['Income'] - df['Income'].mean()) / df['Income'].std())\n",
    "\n",
    "# Define a threshold for outliers (e.g., z-score > 3)\n",
    "threshold = 3\n",
    "\n",
    "# Remove outliers from the 'CBAvg' column\n",
    "df = df[z_scores <= threshold]\n",
    "\n",
    "# print number of rows removed\n",
    "print(f\"Number of rows removed: {len(z_scores) - len(df)}\")\n"
   ]
  },
  {
   "cell_type": "markdown",
   "metadata": {},
   "source": [
    "##### CBAvg"
   ]
  },
  {
   "cell_type": "code",
   "execution_count": 81,
   "metadata": {},
   "outputs": [
    {
     "name": "stdout",
     "output_type": "stream",
     "text": [
      "count    4980.000000\n",
      "mean        1.937319\n",
      "std         1.747565\n",
      "min         0.000000\n",
      "25%         0.700000\n",
      "50%         1.500000\n",
      "75%         2.500000\n",
      "max        10.000000\n",
      "Name: CBAvg, dtype: float64\n"
     ]
    },
    {
     "data": {
      "image/png": "[encoded data removed]",
      "text/plain": [
       "<Figure size 640x480 with 1 Axes>"
      ]
     },
     "metadata": {},
     "output_type": "display_data"
    }
   ],
   "source": [
    "print(df['CBAvg'].describe())\n",
    "# Create a histogram for the 'Income' variable using plt\n",
    "\n",
    "# make the bins every 25\n",
    "plt.hist(df['CBAvg'], bins=10)\n",
    "plt.xlabel('CBAvg')\n",
    "plt.ylabel('Frequency')\n",
    "plt.title('CBAvg Distribution')\n",
    "plt.show()\n"
   ]
  },
  {
   "cell_type": "markdown",
   "metadata": {},
   "source": [
    "Let's do the same here and remove outliers that are more than 3 standard deviations away from the mean."
   ]
  },
  {
   "cell_type": "code",
   "execution_count": 82,
   "metadata": {},
   "outputs": [
    {
     "name": "stdout",
     "output_type": "stream",
     "text": [
      "Number of rows removed: 121\n"
     ]
    }
   ],
   "source": [
    "# Calculate the z-scores for the 'CBAvg' column\n",
    "z_scores = np.abs((df['CBAvg'] - df['CBAvg'].mean()) / df['CBAvg'].std())\n",
    "\n",
    "# Define a threshold for outliers (e.g., z-score > 3)\n",
    "threshold = 3\n",
    "\n",
    "# Remove outliers from the 'CBAvg' column\n",
    "df = df[z_scores <= threshold]\n",
    "\n",
    "# print number of rows removed\n",
    "print(f\"Number of rows removed: {len(z_scores) - len(df)}\")"
   ]
  },
  {
   "cell_type": "markdown",
   "metadata": {},
   "source": [
    "##### Mortgage"
   ]
  },
  {
   "cell_type": "code",
   "execution_count": 83,
   "metadata": {},
   "outputs": [
    {
     "name": "stdout",
     "output_type": "stream",
     "text": [
      "count    4859.000000\n",
      "mean       55.506071\n",
      "std        99.487423\n",
      "min         0.000000\n",
      "25%         0.000000\n",
      "50%         0.000000\n",
      "75%       100.500000\n",
      "max       635.000000\n",
      "Name: Mortgage, dtype: float64\n"
     ]
    },
    {
     "data": {
      "image/png": "[encoded data removed]",
      "text/plain": [
       "<Figure size 640x480 with 1 Axes>"
      ]
     },
     "metadata": {},
     "output_type": "display_data"
    }
   ],
   "source": [
    "print(df['Mortgage'].describe())\n",
    "# Create a histogram for the 'Income' variable using plt\n",
    "\n",
    "# make the bins every 25\n",
    "plt.hist(df['Mortgage'], bins=range(0, 200, 25))\n",
    "plt.xlabel('Mortgage')\n",
    "plt.ylabel('Frequency')\n",
    "plt.title('Mortgage Distribution')\n",
    "plt.show()\n"
   ]
  },
  {
   "cell_type": "code",
   "execution_count": 84,
   "metadata": {},
   "outputs": [
    {
     "data": {
      "image/png": "[encoded data removed]",
      "text/plain": [
       "<Figure size 640x480 with 1 Axes>"
      ]
     },
     "metadata": {},
     "output_type": "display_data"
    }
   ],
   "source": [
    "plt.scatter(df['Mortgage'], df['PersonalLoan'])\n",
    "plt.xlabel('Mortgage')\n",
    "plt.ylabel('PersonalLoan')\n",
    "plt.title('Correlation between Mortgage and PersonalLoan')\n",
    "plt.show()\n"
   ]
  },
  {
   "cell_type": "markdown",
   "metadata": {},
   "source": [
    "After taking a look at the distribution of Mortgage and the correlation with the target variable, we can see that the outliers exist because around 50% of the customers have no mortgage. We will not remove these outliers as they are not errors in the data, but rather a reflection of the data.\n",
    "\n"
   ]
  },
  {
   "cell_type": "markdown",
   "metadata": {},
   "source": [
    "### 1.5 Pre-Processing"
   ]
  },
  {
   "cell_type": "markdown",
   "metadata": {},
   "source": [
    "Importing necessary libaries"
   ]
  },
  {
   "cell_type": "code",
   "execution_count": 85,
   "metadata": {},
   "outputs": [],
   "source": [
    "from sklearn.compose import ColumnTransformer\n",
    "from sklearn.pipeline import Pipeline\n",
    "from sklearn.preprocessing import OneHotEncoder, FunctionTransformer"
   ]
  },
  {
   "cell_type": "markdown",
   "metadata": {},
   "source": [
    "Create function to convert the dateReg column to week number. What this does is creates bins for the 5 week span evident in the data where the weeks are: Week 1: 10/9-10/15  Week 2: 10/16-10/22  Week 3: 10/23-29  Week 4: 10/30-11/5 Week 5: 11/6-11/12."
   ]
  },
  {
   "cell_type": "code",
   "execution_count": 86,
   "metadata": {},
   "outputs": [],
   "source": [
    "# Function to categorize 'dateReq' into weeks\n",
    "def categorize_weeks(X):\n",
    "    # Convert to datetime\n",
    "    dates = pd.to_datetime(df['dateReq'])\n",
    "    # Define the week categories based on the date ranges\n",
    "    bins = pd.to_datetime(['09/10/2022', '16/10/2022', '23/10/2022', '30/10/2022', '06/11/2022', '13/11/2022'], format='%d/%m/%Y')\n",
    "    week_labels = [1, 2, 3, 4, 5]\n",
    "    week_categories = pd.cut(dates, bins=bins, labels=week_labels, right=False)\n",
    "    return np.array(week_categories).reshape(-1, 1)\n",
    "\n",
    "# categorize_weeks(X=df[['dateReq']])\n",
    "\n",
    "# Replace date column with categorize_weeks\n",
    "df['dateReq'] = categorize_weeks(X=df[['dateReq']])"
   ]
  },
  {
   "cell_type": "markdown",
   "metadata": {},
   "source": [
    "Create a function to handle postal codes. These postal codes will be replaced by their second digit as the first two digits describe the region, but the first digit is always 2, so only the 2nd digit is significant."
   ]
  },
  {
   "cell_type": "code",
   "execution_count": 87,
   "metadata": {},
   "outputs": [],
   "source": [
    "# Replace the 5 digit post code with the 2nd digit\n",
    "df['PostCode'] = df['PostCode'].astype(str).str[1].astype(int)"
   ]
  },
  {
   "cell_type": "markdown",
   "metadata": {},
   "source": [
    "Now we create the onehot_encoder and use a column transformer to transform the dateReq column while keeping the other columns unaltered."
   ]
  },
  {
   "cell_type": "code",
   "execution_count": 88,
   "metadata": {},
   "outputs": [],
   "source": [
    "from sklearn import set_config\n",
    "\n",
    "# set the global configuration to keep the DataFrame structure in the transformed data\n",
    "set_config(display='diagram', transform_output = 'pandas')\n",
    "\n",
    "# Create separate instances of OneHotEncoder\n",
    "onehot_encoder_dateReq = OneHotEncoder(sparse=False)\n",
    "onehot_encoder_postCode = OneHotEncoder(sparse=False)\n",
    "\n",
    "# Define the ColumnTransformer\n",
    "preprocessor = ColumnTransformer(\n",
    "    transformers=[\n",
    "        ('onehot_dateReq', onehot_encoder_dateReq, ['dateReq']),\n",
    "        ('onehot_postCode', onehot_encoder_postCode, ['PostCode'])\n",
    "    ],\n",
    "    remainder='passthrough'  # keeps all other columns untouched\n",
    ")"
   ]
  },
  {
   "cell_type": "markdown",
   "metadata": {},
   "source": [
    "Finally we fit the date with the preprocessor."
   ]
  },
  {
   "cell_type": "code",
   "execution_count": 89,
   "metadata": {},
   "outputs": [
    {
     "name": "stderr",
     "output_type": "stream",
     "text": [
      "/Users/joaocarvalho/Documents/School/Abroad2023/UC3M-MLBD/venv/lib/python3.11/site-packages/sklearn/preprocessing/_encoders.py:975: FutureWarning: `sparse` was renamed to `sparse_output` in version 1.2 and will be removed in 1.4. `sparse_output` is ignored unless you leave `sparse` to its default value.\n",
      "  warnings.warn(\n",
      "/Users/joaocarvalho/Documents/School/Abroad2023/UC3M-MLBD/venv/lib/python3.11/site-packages/sklearn/preprocessing/_encoders.py:975: FutureWarning: `sparse` was renamed to `sparse_output` in version 1.2 and will be removed in 1.4. `sparse_output` is ignored unless you leave `sparse` to its default value.\n",
      "  warnings.warn(\n"
     ]
    }
   ],
   "source": [
    "df_transformed = preprocessor.fit_transform(df)\n"
   ]
  },
  {
   "cell_type": "markdown",
   "metadata": {},
   "source": [
    "From printing the columns of our new data frame, we can see that the one hot encoding has created 5 new columns where the "
   ]
  },
  {
   "cell_type": "code",
   "execution_count": 90,
   "metadata": {},
   "outputs": [
    {
     "name": "stdout",
     "output_type": "stream",
     "text": [
      "Index(['onehot_dateReq__dateReq_1', 'onehot_dateReq__dateReq_2',\n",
      "       'onehot_dateReq__dateReq_3', 'onehot_dateReq__dateReq_4',\n",
      "       'onehot_dateReq__dateReq_5', 'onehot_postCode__PostCode_0',\n",
      "       'onehot_postCode__PostCode_1', 'onehot_postCode__PostCode_2',\n",
      "       'onehot_postCode__PostCode_3', 'onehot_postCode__PostCode_4',\n",
      "       'onehot_postCode__PostCode_5', 'onehot_postCode__PostCode_6',\n",
      "       'remainder__Age', 'remainder__Experience', 'remainder__Income',\n",
      "       'remainder__Family', 'remainder__CBAvg', 'remainder__Education',\n",
      "       'remainder__Mortgage', 'remainder__SecuritiesAcc',\n",
      "       'remainder__DepositAcc', 'remainder__OnlineBanking',\n",
      "       'remainder__CreditCard', 'remainder__LoanAmount',\n",
      "       'remainder__PersonalLoan'],\n",
      "      dtype='object')\n",
      "Index(['Age', 'Experience', 'Income', 'PostCode', 'Family', 'CBAvg',\n",
      "       'Education', 'Mortgage', 'SecuritiesAcc', 'DepositAcc', 'OnlineBanking',\n",
      "       'CreditCard', 'dateReq', 'LoanAmount', 'PersonalLoan'],\n",
      "      dtype='object')\n"
     ]
    }
   ],
   "source": [
    "print(df_transformed.columns)\n",
    "print(df.columns)"
   ]
  },
  {
   "cell_type": "markdown",
   "metadata": {},
   "source": [
    "Cleaning up the column names to make it more readable"
   ]
  },
  {
   "cell_type": "code",
   "execution_count": 91,
   "metadata": {},
   "outputs": [
    {
     "name": "stdout",
     "output_type": "stream",
     "text": [
      "Index(['Week 1', 'Week 2', 'Week 3', 'Week 4', 'Week 5', 'Region 0',\n",
      "       'Region 1', 'Region 2', 'Region 3', 'Region 4', 'Region 5', 'Region 6',\n",
      "       'Age', 'Experience', 'Income', 'Family', 'CBAvg', 'Education',\n",
      "       'Mortgage', 'SecuritiesAcc', 'DepositAcc', 'OnlineBanking',\n",
      "       'CreditCard', 'LoanAmount', 'PersonalLoan'],\n",
      "      dtype='object')\n"
     ]
    }
   ],
   "source": [
    "week_mapping = {f'onehot_dateReq__dateReq_{i}': f'Week {i}' for i in range(1, 6)}\n",
    "region_mapping = {f'onehot_postCode__PostCode_{i}': f'Region {i}' for i in range(0, 7)}\n",
    "\n",
    "# Renaming columns\n",
    "renamed_columns = []\n",
    "for col in df_transformed.columns:\n",
    "    if col in week_mapping:\n",
    "        # Rename week columns\n",
    "        renamed_columns.append(week_mapping[col])\n",
    "    elif col in region_mapping:\n",
    "        # Rename region columns\n",
    "        renamed_columns.append(region_mapping[col])\n",
    "    else:\n",
    "        # Remove 'remainder__' prefix from other columns\n",
    "        renamed_columns.append(col.replace('remainder__', ''))\n",
    "\n",
    "# Result\n",
    "df_transformed.columns = renamed_columns\n",
    "print(df_transformed.columns)\n",
    "\n",
    "df = df_transformed"
   ]
  },
  {
   "cell_type": "markdown",
   "metadata": {},
   "source": [
    "### 1.6 The final dataset"
   ]
  },
  {
   "cell_type": "markdown",
   "metadata": {},
   "source": [
    "After all of our data cleaning, we have a dataset with X rows and X columns. Now let's take a look at the dataset we'll be using."
   ]
  },
  {
   "cell_type": "code",
   "execution_count": 92,
   "metadata": {},
   "outputs": [],
   "source": [
    "X = df.drop('PersonalLoan', axis=1)\n",
    "y = df['PersonalLoan']"
   ]
  },
  {
   "cell_type": "markdown",
   "metadata": {},
   "source": [
    "## Part 2: Basic Models"
   ]
  },
  {
   "cell_type": "markdown",
   "metadata": {},
   "source": [
    "### 2.0 Setup"
   ]
  },
  {
   "cell_type": "markdown",
   "metadata": {},
   "source": [
    "Let's make a function for calculating the metrics we will be using to evaluate our models. These metrics allow us to better understand the performance of our models given that the data is imbalanced."
   ]
  },
  {
   "cell_type": "code",
   "execution_count": 93,
   "metadata": {},
   "outputs": [],
   "source": [
    "from sklearn.metrics import accuracy_score, balanced_accuracy_score, recall_score, classification_report, precision_score, f1_score, confusion_matrix\n",
    "\n",
    "def get_metrics(model_name,y_test, y_pred):\n",
    "\n",
    "    # Make a confusion matrix\n",
    "    cm = confusion_matrix(y_test, y_pred)\n",
    "\n",
    "    # Calculate the accuracy\n",
    "    accuracy = accuracy_score(y_test, y_pred)\n",
    "\n",
    "    # Calculate the balanced accuracy\n",
    "    balanced_accuracy = balanced_accuracy_score(y_test, y_pred)\n",
    "\n",
    "    # Calculate the recall\n",
    "    recall = recall_score(y_test, y_pred)\n",
    "\n",
    "    # Calculate the precision\n",
    "    precision = precision_score(y_test, y_pred)\n",
    "\n",
    "    # Calculate the F1 score\n",
    "    f1 = f1_score(y_test, y_pred)\n",
    "\n",
    "    # Create a classification report\n",
    "    report = classification_report(y_test, y_pred)\n",
    "\n",
    "    # Print the scores\n",
    "    print(f\"{model_name} Model Confusion Matrix:\\n\", cm)\n",
    "    print(f\"{model_name}Model Accuracy:\", accuracy)\n",
    "    print(f\"{model_name}Model Balanced Accuracy:\", balanced_accuracy)\n",
    "    print(f\"{model_name}Model Recall:\", recall)\n",
    "    print(f\"{model_name}Model Precision:\", precision)\n",
    "    print(f\"{model_name}Model F1 Score:\", f1)\n",
    "    print(f\"{model_name} Model Classification Report:\\n\", report)\n"
   ]
  },
  {
   "cell_type": "code",
   "execution_count": 94,
   "metadata": {},
   "outputs": [],
   "source": [
    "from sklearn.model_selection import train_test_split\n",
    "X_train, X_test, y_train, y_test = train_test_split(X, y, test_size=0.2, random_state=seed, stratify=y)\n"
   ]
  },
  {
   "cell_type": "markdown",
   "metadata": {},
   "source": [
    "We'll make a DummyClassifier model to compare the results of our KNN model to a trivial model that just predicts the mean of the training data. This will be the baseline model that we will try to beat for all of our models."
   ]
  },
  {
   "cell_type": "code",
   "execution_count": 95,
   "metadata": {},
   "outputs": [
    {
     "name": "stdout",
     "output_type": "stream",
     "text": [
      "0.9084362139917695\n"
     ]
    }
   ],
   "source": [
    "from sklearn.dummy import DummyClassifier\n",
    "\n",
    "dummy_classifier = DummyClassifier(strategy=\"most_frequent\")\n",
    "dummy_classifier.fit(X_train, y_train)\n",
    "print(dummy_classifier.score(X_test, y_test))\n",
    "y_pred_dummy = dummy_classifier.predict(X_test)"
   ]
  },
  {
   "cell_type": "markdown",
   "metadata": {},
   "source": [
    "### Model 1: KNN"
   ]
  },
  {
   "cell_type": "markdown",
   "metadata": {},
   "source": [
    "Let's split the data, using stratified sampling to ensure that the training and test sets have the same proportion of yes/no values as the original dataset."
   ]
  },
  {
   "cell_type": "code",
   "execution_count": 96,
   "metadata": {},
   "outputs": [],
   "source": [
    "from sklearn.neighbors import KNeighborsClassifier\n",
    "\n",
    "# Instantiate the model, leaving default values for all hyperparameters which is n= 5\n",
    "knn = KNeighborsClassifier()\n",
    "knn.fit(X_train, y_train)\n",
    "\n",
    "# We'll now make our predictions\n",
    "y_pred = knn.predict(X_test)"
   ]
  },
  {
   "cell_type": "markdown",
   "metadata": {},
   "source": [
    "Let's take a look at metrics for the trivial dummy model so we can compare it to our future models."
   ]
  },
  {
   "cell_type": "code",
   "execution_count": 97,
   "metadata": {},
   "outputs": [
    {
     "name": "stdout",
     "output_type": "stream",
     "text": [
      "Dummy Model Confusion Matrix:\n",
      " [[883   0]\n",
      " [ 89   0]]\n",
      "DummyModel Accuracy: 0.9084362139917695\n",
      "DummyModel Balanced Accuracy: 0.5\n",
      "DummyModel Recall: 0.0\n",
      "DummyModel Precision: 0.0\n",
      "DummyModel F1 Score: 0.0\n",
      "Dummy Model Classification Report:\n",
      "               precision    recall  f1-score   support\n",
      "\n",
      "           0       0.91      1.00      0.95       883\n",
      "           1       0.00      0.00      0.00        89\n",
      "\n",
      "    accuracy                           0.91       972\n",
      "   macro avg       0.45      0.50      0.48       972\n",
      "weighted avg       0.83      0.91      0.86       972\n",
      "\n"
     ]
    },
    {
     "name": "stderr",
     "output_type": "stream",
     "text": [
      "/Users/joaocarvalho/Documents/School/Abroad2023/UC3M-MLBD/venv/lib/python3.11/site-packages/sklearn/metrics/_classification.py:1469: UndefinedMetricWarning: Precision is ill-defined and being set to 0.0 due to no predicted samples. Use `zero_division` parameter to control this behavior.\n",
      "  _warn_prf(average, modifier, msg_start, len(result))\n",
      "/Users/joaocarvalho/Documents/School/Abroad2023/UC3M-MLBD/venv/lib/python3.11/site-packages/sklearn/metrics/_classification.py:1469: UndefinedMetricWarning: Precision and F-score are ill-defined and being set to 0.0 in labels with no predicted samples. Use `zero_division` parameter to control this behavior.\n",
      "  _warn_prf(average, modifier, msg_start, len(result))\n",
      "/Users/joaocarvalho/Documents/School/Abroad2023/UC3M-MLBD/venv/lib/python3.11/site-packages/sklearn/metrics/_classification.py:1469: UndefinedMetricWarning: Precision and F-score are ill-defined and being set to 0.0 in labels with no predicted samples. Use `zero_division` parameter to control this behavior.\n",
      "  _warn_prf(average, modifier, msg_start, len(result))\n",
      "/Users/joaocarvalho/Documents/School/Abroad2023/UC3M-MLBD/venv/lib/python3.11/site-packages/sklearn/metrics/_classification.py:1469: UndefinedMetricWarning: Precision and F-score are ill-defined and being set to 0.0 in labels with no predicted samples. Use `zero_division` parameter to control this behavior.\n",
      "  _warn_prf(average, modifier, msg_start, len(result))\n"
     ]
    }
   ],
   "source": [
    "get_metrics(\"Dummy\",y_test, y_pred_dummy)"
   ]
  },
  {
   "cell_type": "markdown",
   "metadata": {},
   "source": [
    "Now let's look at the metrics for our KNN model and compare it to the dummy model."
   ]
  },
  {
   "cell_type": "code",
   "execution_count": 98,
   "metadata": {},
   "outputs": [
    {
     "name": "stdout",
     "output_type": "stream",
     "text": [
      "KNN Model Confusion Matrix:\n",
      " [[858  25]\n",
      " [ 49  40]]\n",
      "KNNModel Accuracy: 0.9238683127572016\n",
      "KNNModel Balanced Accuracy: 0.710562815732882\n",
      "KNNModel Recall: 0.449438202247191\n",
      "KNNModel Precision: 0.6153846153846154\n",
      "KNNModel F1 Score: 0.5194805194805195\n",
      "KNN Model Classification Report:\n",
      "               precision    recall  f1-score   support\n",
      "\n",
      "           0       0.95      0.97      0.96       883\n",
      "           1       0.62      0.45      0.52        89\n",
      "\n",
      "    accuracy                           0.92       972\n",
      "   macro avg       0.78      0.71      0.74       972\n",
      "weighted avg       0.92      0.92      0.92       972\n",
      "\n"
     ]
    }
   ],
   "source": [
    "get_metrics(\"KNN\",y_test, y_pred)"
   ]
  },
  {
   "cell_type": "markdown",
   "metadata": {},
   "source": [
    "Looking at these stats, the KNN model is actually performing worse overall than the dummy model. Additionally, looking at the confusion matrix, we can see that the model is predicting a large number of false positives and false negatives. Additionally the balanced accuracy is at 0.62 which we definitely want to improve on. Let's see if a tree based model will perform better."
   ]
  },
  {
   "cell_type": "markdown",
   "metadata": {},
   "source": [
    "#### Stratified KFold Cross Validation"
   ]
  },
  {
   "cell_type": "markdown",
   "metadata": {},
   "source": [
    "Cross validation is important as it provides a more accurate measure of a model's performance by using multiple data splits, reducing the likelihood of overfitting and ensuring the model's generalizability. It allows for efficient use of limited data, enabling both training and validation on different subsets, which is important for fine-tuning model parameters. Here, we are using stratification because it ensures that each fold maintains the same proportion of class labels as the original dataset, which is especially useful for imbalanced datasets."
   ]
  },
  {
   "cell_type": "markdown",
   "metadata": {},
   "source": [
    "Let's start by defining a new metrics function that will be used for cross validation. We will use the same metrics as before, but we will also include the standard deviation of the metrics across the folds to get a better idea of the model's performance."
   ]
  },
  {
   "cell_type": "code",
   "execution_count": 99,
   "metadata": {},
   "outputs": [],
   "source": [
    "\n",
    "def get_kfold_metrics(scoring, model, X, y, cv):\n",
    "    \n",
    "    mat = confusion_matrix(y, model.predict(X))\n",
    "    print(f\"Confusion Matrix:\\n {mat}\")\n",
    "    \n",
    "    for metric in scoring:\n",
    "        scores = cross_val_score(model, X, y, cv=cv, scoring=metric)\n",
    "        print(f\"Mean {metric}: {scores.mean():.3f} \")\n",
    "        print(f\"Standard deviation of scores: {scores.std():.3f}\")\n",
    "        \n",
    "        \n",
    "    # print the standard deviation of the scores\n",
    "        \n",
    "    report = classification_report(y, model.predict(X))\n",
    "    print(f\"Classification Report:\\n {report}\")\n",
    "    "
   ]
  },
  {
   "cell_type": "markdown",
   "metadata": {},
   "source": [
    "Now, let's define the parameters for the cross validation metrics."
   ]
  },
  {
   "cell_type": "code",
   "execution_count": 100,
   "metadata": {},
   "outputs": [
    {
     "name": "stdout",
     "output_type": "stream",
     "text": [
      "Confusion Matrix:\n",
      " [[4325   87]\n",
      " [ 190  257]]\n",
      "Mean recall: 0.481 \n",
      "Standard deviation of scores: 0.066\n",
      "Mean precision: 0.616 \n",
      "Standard deviation of scores: 0.040\n",
      "Mean f1: 0.538 \n",
      "Standard deviation of scores: 0.045\n",
      "Mean balanced_accuracy: 0.725 \n",
      "Standard deviation of scores: 0.032\n",
      "Mean accuracy: 0.924 \n",
      "Standard deviation of scores: 0.006\n",
      "Classification Report:\n",
      "               precision    recall  f1-score   support\n",
      "\n",
      "           0       0.96      0.98      0.97      4412\n",
      "           1       0.75      0.57      0.65       447\n",
      "\n",
      "    accuracy                           0.94      4859\n",
      "   macro avg       0.85      0.78      0.81      4859\n",
      "weighted avg       0.94      0.94      0.94      4859\n",
      "\n"
     ]
    }
   ],
   "source": [
    "from sklearn.model_selection import StratifiedKFold\n",
    "from sklearn.model_selection import cross_val_score\n",
    "from sklearn.metrics import accuracy_score, balanced_accuracy_score, recall_score\n",
    "\n",
    "\n",
    "# Define the cross validation scheme.\n",
    "cv = StratifiedKFold(n_splits=5, shuffle=True, random_state=seed)\n",
    "\n",
    "# create a scoring for cross val score using balanced accuracy and recall\n",
    "scoring = {'accuracy','balanced_accuracy', 'recall', 'precision', 'f1'}\n",
    "\n",
    "get_kfold_metrics(scoring, knn, X, y,cv)"
   ]
  },
  {
   "cell_type": "markdown",
   "metadata": {},
   "source": [
    "These scores better represent the performance of our model and from here on out we will be using these cross validation metrics to evaluate our models."
   ]
  },
  {
   "cell_type": "markdown",
   "metadata": {},
   "source": [
    "### Basic Model 2: Decision Tree"
   ]
  },
  {
   "cell_type": "code",
   "execution_count": 101,
   "metadata": {},
   "outputs": [
    {
     "data": {
      "text/html": [
       "<style>#sk-container-id-2 {color: black;}#sk-container-id-2 pre{padding: 0;}#sk-container-id-2 div.sk-toggleable {background-color: white;}#sk-container-id-2 label.sk-toggleable__label {cursor: pointer;display: block;width: 100%;margin-bottom: 0;padding: 0.3em;box-sizing: border-box;text-align: center;}#sk-container-id-2 label.sk-toggleable__label-arrow:before {content: \"▸\";float: left;margin-right: 0.25em;color: #696969;}#sk-container-id-2 label.sk-toggleable__label-arrow:hover:before {color: black;}#sk-container-id-2 div.sk-estimator:hover label.sk-toggleable__label-arrow:before {color: black;}#sk-container-id-2 div.sk-toggleable__content {max-height: 0;max-width: 0;overflow: hidden;text-align: left;background-color: #f0f8ff;}#sk-container-id-2 div.sk-toggleable__content pre {margin: 0.2em;color: black;border-radius: 0.25em;background-color: #f0f8ff;}#sk-container-id-2 input.sk-toggleable__control:checked~div.sk-toggleable__content {max-height: 200px;max-width: 100%;overflow: auto;}#sk-container-id-2 input.sk-toggleable__control:checked~label.sk-toggleable__label-arrow:before {content: \"▾\";}#sk-container-id-2 div.sk-estimator input.sk-toggleable__control:checked~label.sk-toggleable__label {background-color: #d4ebff;}#sk-container-id-2 div.sk-label input.sk-toggleable__control:checked~label.sk-toggleable__label {background-color: #d4ebff;}#sk-container-id-2 input.sk-hidden--visually {border: 0;clip: rect(1px 1px 1px 1px);clip: rect(1px, 1px, 1px, 1px);height: 1px;margin: -1px;overflow: hidden;padding: 0;position: absolute;width: 1px;}#sk-container-id-2 div.sk-estimator {font-family: monospace;background-color: #f0f8ff;border: 1px dotted black;border-radius: 0.25em;box-sizing: border-box;margin-bottom: 0.5em;}#sk-container-id-2 div.sk-estimator:hover {background-color: #d4ebff;}#sk-container-id-2 div.sk-parallel-item::after {content: \"\";width: 100%;border-bottom: 1px solid gray;flex-grow: 1;}#sk-container-id-2 div.sk-label:hover label.sk-toggleable__label {background-color: #d4ebff;}#sk-container-id-2 div.sk-serial::before {content: \"\";position: absolute;border-left: 1px solid gray;box-sizing: border-box;top: 0;bottom: 0;left: 50%;z-index: 0;}#sk-container-id-2 div.sk-serial {display: flex;flex-direction: column;align-items: center;background-color: white;padding-right: 0.2em;padding-left: 0.2em;position: relative;}#sk-container-id-2 div.sk-item {position: relative;z-index: 1;}#sk-container-id-2 div.sk-parallel {display: flex;align-items: stretch;justify-content: center;background-color: white;position: relative;}#sk-container-id-2 div.sk-item::before, #sk-container-id-2 div.sk-parallel-item::before {content: \"\";position: absolute;border-left: 1px solid gray;box-sizing: border-box;top: 0;bottom: 0;left: 50%;z-index: -1;}#sk-container-id-2 div.sk-parallel-item {display: flex;flex-direction: column;z-index: 1;position: relative;background-color: white;}#sk-container-id-2 div.sk-parallel-item:first-child::after {align-self: flex-end;width: 50%;}#sk-container-id-2 div.sk-parallel-item:last-child::after {align-self: flex-start;width: 50%;}#sk-container-id-2 div.sk-parallel-item:only-child::after {width: 0;}#sk-container-id-2 div.sk-dashed-wrapped {border: 1px dashed gray;margin: 0 0.4em 0.5em 0.4em;box-sizing: border-box;padding-bottom: 0.4em;background-color: white;}#sk-container-id-2 div.sk-label label {font-family: monospace;font-weight: bold;display: inline-block;line-height: 1.2em;}#sk-container-id-2 div.sk-label-container {text-align: center;}#sk-container-id-2 div.sk-container {/* jupyter's `normalize.less` sets `[hidden] { display: none; }` but bootstrap.min.css set `[hidden] { display: none !important; }` so we also need the `!important` here to be able to override the default hidden behavior on the sphinx rendered scikit-learn.org. See: https://github.com/scikit-learn/scikit-learn/issues/21755 */display: inline-block !important;position: relative;}#sk-container-id-2 div.sk-text-repr-fallback {display: none;}</style><div id=\"sk-container-id-2\" class=\"sk-top-container\"><div class=\"sk-text-repr-fallback\"><pre>DecisionTreeClassifier()</pre><b>In a Jupyter environment, please rerun this cell to show the HTML representation or trust the notebook. <br />On GitHub, the HTML representation is unable to render, please try loading this page with nbviewer.org.</b></div><div class=\"sk-container\" hidden><div class=\"sk-item\"><div class=\"sk-estimator sk-toggleable\"><input class=\"sk-toggleable__control sk-hidden--visually\" id=\"sk-estimator-id-2\" type=\"checkbox\" checked><label for=\"sk-estimator-id-2\" class=\"sk-toggleable__label sk-toggleable__label-arrow\">DecisionTreeClassifier</label><div class=\"sk-toggleable__content\"><pre>DecisionTreeClassifier()</pre></div></div></div></div></div>"
      ],
      "text/plain": [
       "DecisionTreeClassifier()"
      ]
     },
     "execution_count": 101,
     "metadata": {},
     "output_type": "execute_result"
    }
   ],
   "source": [
    "from sklearn.tree import DecisionTreeClassifier\n",
    "\n",
    "# Instantiate the model\n",
    "tree = DecisionTreeClassifier()\n",
    "\n",
    "tree.fit(X_train, y_train)"
   ]
  },
  {
   "cell_type": "code",
   "execution_count": 102,
   "metadata": {},
   "outputs": [
    {
     "name": "stdout",
     "output_type": "stream",
     "text": [
      "Confusion Matrix:\n",
      " [[4409    3]\n",
      " [   7  440]]\n",
      "Mean recall: 0.888 \n",
      "Standard deviation of scores: 0.046\n",
      "Mean precision: 0.900 \n",
      "Standard deviation of scores: 0.027\n",
      "Mean f1: 0.902 \n",
      "Standard deviation of scores: 0.027\n",
      "Mean balanced_accuracy: 0.945 \n",
      "Standard deviation of scores: 0.018\n",
      "Mean accuracy: 0.983 \n",
      "Standard deviation of scores: 0.006\n",
      "Classification Report:\n",
      "               precision    recall  f1-score   support\n",
      "\n",
      "           0       1.00      1.00      1.00      4412\n",
      "           1       0.99      0.98      0.99       447\n",
      "\n",
      "    accuracy                           1.00      4859\n",
      "   macro avg       1.00      0.99      0.99      4859\n",
      "weighted avg       1.00      1.00      1.00      4859\n",
      "\n"
     ]
    }
   ],
   "source": [
    "# get_metrics(\"Decision Tree\",y_test_untrans, y_pred_tree)\n",
    "\n",
    "get_kfold_metrics(scoring, tree, X, y,cv)\n"
   ]
  },
  {
   "cell_type": "markdown",
   "metadata": {},
   "source": [
    "We can see that the decision tree model is performing much better than the KNN model. The mean balanced accuracy is at ~0.945 which is an improvement from the KNN model and better than the regular accuracy on the trivial model. Additionally, the confusion matrix shows that the model is predicting less false positives with 9, and less false negatives with only 4. It's precision and recall both are at around 0..89 and 0.898 respectively, which let's us be pretty confident that when we see a positive prediction, it is a true positive."
   ]
  },
  {
   "cell_type": "markdown",
   "metadata": {},
   "source": [
    "Now let us use feature selection to see if we can improve the performance of our models."
   ]
  },
  {
   "cell_type": "markdown",
   "metadata": {},
   "source": [
    "## 2.1 Basic Models with feature selection"
   ]
  },
  {
   "cell_type": "markdown",
   "metadata": {},
   "source": [
    "### KNN with feature selection"
   ]
  },
  {
   "cell_type": "code",
   "execution_count": 104,
   "metadata": {},
   "outputs": [
    {
     "name": "stdout",
     "output_type": "stream",
     "text": [
      "Feature scores for all features sorted by score:\n",
      "('Income', 1365.3260312118175)\n",
      "('CBAvg', 664.0714786881603)\n",
      "('DepositAcc', 414.42230832376106)\n",
      "('Education', 83.38991841801754)\n",
      "('Mortgage', 70.51270205380072)\n",
      "('LoanAmount', 48.93979544585773)\n",
      "('Family', 9.024999777881431)\n",
      "('SecuritiesAcc', 3.8950618390761775)\n",
      "('Region 6', 1.338129578503883)\n",
      "('Week 2', 1.0233080589319243)\n",
      "('Week 4', 0.7831257091119932)\n",
      "('Week 5', 0.5213640797328136)\n",
      "('Region 3', 0.3615481474794917)\n",
      "('Region 0', 0.2285618634174442)\n",
      "('Region 4', 0.22414350039598754)\n",
      "('Region 5', 0.19215605689891727)\n",
      "('Week 1', 0.1825927854830487)\n",
      "('Week 3', 0.12628821092566186)\n",
      "('Region 2', 0.11665259614166265)\n",
      "('Region 1', 0.08039537883290498)\n",
      "('CreditCard', 0.014721944303916466)\n",
      "('OnlineBanking', 0.011671117450329184)\n",
      "('Age', 0.004407817339235349)\n",
      "('Experience', 0.00031972873773183154)\n",
      "['Week 1' 'Week 2' 'Week 3' 'Week 4' 'Week 5' 'Region 0' 'Region 1'\n",
      " 'Region 2' 'Region 3' 'Region 4' 'Region 5' 'Region 6' 'Age' 'Experience'\n",
      " 'Income' 'Family' 'CBAvg' 'Education' 'Mortgage' 'SecuritiesAcc'\n",
      " 'DepositAcc' 'OnlineBanking' 'CreditCard' 'LoanAmount']\n",
      "[1.82592785e-01 1.02330806e+00 1.26288211e-01 7.83125709e-01\n",
      " 5.21364080e-01 2.28561863e-01 8.03953788e-02 1.16652596e-01\n",
      " 3.61548147e-01 2.24143500e-01 1.92156057e-01 1.33812958e+00\n",
      " 4.40781734e-03 3.19728738e-04 1.36532603e+03 9.02499978e+00\n",
      " 6.64071479e+02 8.33899184e+01 7.05127021e+01 3.89506184e+00\n",
      " 4.14422308e+02 1.16711175e-02 1.47219443e-02 4.89397954e+01]\n"
     ]
    }
   ],
   "source": [
    "from sklearn.feature_selection import SelectKBest\n",
    "from sklearn.feature_selection import chi2, f_classif\n",
    "from sklearn.neighbors import KNeighborsClassifier\n",
    "from sklearn.metrics import accuracy_score, balanced_accuracy_score, recall_score\n",
    "from sklearn.preprocessing import StandardScaler\n",
    "from sklearn.pipeline import Pipeline\n",
    "from sklearn import set_config\n",
    "\n",
    "\n",
    "pipeline_knn = Pipeline([\n",
    "    ('scaler', StandardScaler()),\n",
    "    ('selector', SelectKBest(f_classif, k=5)),\n",
    "    ('knn', KNeighborsClassifier())\n",
    "])\n",
    "\n",
    "pipeline_knn.fit(X_train, y_train)\n",
    "\n",
    "# y_pred_pipeline = pipeline.predict(X_test)\n",
    "\n",
    "scaler = pipeline_knn.named_steps['scaler']\n",
    "\n",
    "# Access the scaler to be able to get the names of the features\n",
    "feature_names = scaler.get_feature_names_out()\n",
    "\n",
    "# Access the selector to be able to get the scores of the features\n",
    "selector = pipeline_knn.named_steps['selector']\n",
    "feature_scores = selector.scores_\n",
    "\n",
    "# Pair the feature names with their scores\n",
    "feature_scores_list = [(feature, score) for feature, score in zip(feature_names, feature_scores)]\n",
    "\n",
    "# Sort the list by score in descending order\n",
    "feature_scores_list = sorted(feature_scores_list, key=lambda x: x[1], reverse=True)\n",
    "\n",
    "# Display the list of features with their scores\n",
    "print('Feature scores for all features sorted by score:')\n",
    "for score in feature_scores_list:\n",
    "    print(score)\n",
    "\n",
    "print(feature_names)\n",
    "print(feature_scores)\n",
    "\n"
   ]
  },
  {
   "cell_type": "markdown",
   "metadata": {},
   "source": [
    "The top 5 features are: Income, CBAvg, DepositACC, Mortgage, and Education. Let's check the metrics to see if the KNN model performs better with these features."
   ]
  },
  {
   "cell_type": "markdown",
   "metadata": {},
   "source": [
    "Score the pipeline model's predictions\n"
   ]
  },
  {
   "cell_type": "code",
   "execution_count": 105,
   "metadata": {},
   "outputs": [
    {
     "name": "stdout",
     "output_type": "stream",
     "text": [
      "Confusion Matrix:\n",
      " [[4386   26]\n",
      " [ 108  339]]\n",
      "Mean recall: 0.685 \n",
      "Standard deviation of scores: 0.046\n",
      "Mean precision: 0.899 \n",
      "Standard deviation of scores: 0.050\n",
      "Mean f1: 0.776 \n",
      "Standard deviation of scores: 0.040\n",
      "Mean balanced_accuracy: 0.838 \n",
      "Standard deviation of scores: 0.024\n",
      "Mean accuracy: 0.964 \n",
      "Standard deviation of scores: 0.006\n",
      "Classification Report:\n",
      "               precision    recall  f1-score   support\n",
      "\n",
      "           0       0.98      0.99      0.98      4412\n",
      "           1       0.93      0.76      0.83       447\n",
      "\n",
      "    accuracy                           0.97      4859\n",
      "   macro avg       0.95      0.88      0.91      4859\n",
      "weighted avg       0.97      0.97      0.97      4859\n",
      "\n"
     ]
    }
   ],
   "source": [
    "get_kfold_metrics(scoring, pipeline_knn, X, y,cv)"
   ]
  },
  {
   "cell_type": "markdown",
   "metadata": {},
   "source": [
    "As we can see the Model's performance has improved with the feature selection. The balanced accuracy is now at ~0.957 which is an improvement from the previous iteration. Additionally, the confusion matrix shows that the model is predicting less false positives and false negatives with 5 false negatives and 7 false positives. This is definitely a step in the right direction, let's see if the decision tree model improves with feature selection."
   ]
  },
  {
   "cell_type": "markdown",
   "metadata": {},
   "source": [
    "### Decision Tree with feature selection"
   ]
  },
  {
   "cell_type": "code",
   "execution_count": 106,
   "metadata": {},
   "outputs": [
    {
     "name": "stdout",
     "output_type": "stream",
     "text": [
      "Feature scores for all features sorted by score:\n",
      "('Income', 1365.3260312118175)\n",
      "('CBAvg', 664.0714786881603)\n",
      "('DepositAcc', 414.42230832376106)\n",
      "('Education', 83.38991841801754)\n",
      "('Mortgage', 70.51270205380072)\n",
      "('LoanAmount', 48.93979544585773)\n",
      "('Family', 9.024999777881431)\n",
      "('SecuritiesAcc', 3.8950618390761775)\n",
      "('Region 6', 1.338129578503883)\n",
      "('Week 2', 1.0233080589319243)\n",
      "('Week 4', 0.7831257091119932)\n",
      "('Week 5', 0.5213640797328136)\n",
      "('Region 3', 0.3615481474794917)\n",
      "('Region 0', 0.2285618634174442)\n",
      "('Region 4', 0.22414350039598754)\n",
      "('Region 5', 0.19215605689891727)\n",
      "('Week 1', 0.1825927854830487)\n",
      "('Week 3', 0.12628821092566186)\n",
      "('Region 2', 0.11665259614166265)\n",
      "('Region 1', 0.08039537883290498)\n",
      "('CreditCard', 0.014721944303916466)\n",
      "('OnlineBanking', 0.011671117450329184)\n",
      "('Age', 0.004407817339235349)\n",
      "('Experience', 0.00031972873773183154)\n"
     ]
    }
   ],
   "source": [
    "from sklearn.feature_selection import SelectKBest\n",
    "from sklearn.feature_selection import chi2, f_classif\n",
    "from sklearn.tree import DecisionTreeClassifier\n",
    "from sklearn.metrics import accuracy_score, balanced_accuracy_score, recall_score\n",
    "from sklearn.preprocessing import StandardScaler\n",
    "from sklearn.pipeline import Pipeline\n",
    "from sklearn import set_config\n",
    "\n",
    "\n",
    "pipeline_tree = Pipeline([\n",
    "    ('scaler', StandardScaler()),\n",
    "    ('selector', SelectKBest(f_classif, k=5)),\n",
    "    ('tree', DecisionTreeClassifier(random_state=seed)),\n",
    "])\n",
    "\n",
    "pipeline_tree.fit(X_train, y_train)\n",
    "\n",
    "# Access the scaler to be able to get the names of the features\n",
    "scaler = pipeline_tree.named_steps['scaler']\n",
    "feature_names = scaler.get_feature_names_out()\n",
    "\n",
    "# Access the selector to be able to get the scores of the features\n",
    "selector = pipeline_tree.named_steps['selector']\n",
    "feature_scores = selector.scores_\n",
    "\n",
    "# Pair the feature names with their scores\n",
    "feature_scores_list = [(feature, score) for feature, score in zip(feature_names, feature_scores)]\n",
    "\n",
    "# Sort the list by score in descending order\n",
    "feature_scores_list = sorted(feature_scores_list, key=lambda x: x[1], reverse=True)\n",
    "\n",
    "# Display the list of features with their scores\n",
    "print('Feature scores for all features sorted by score:')\n",
    "for score in feature_scores_list:\n",
    "    print(score)"
   ]
  },
  {
   "cell_type": "markdown",
   "metadata": {},
   "source": [
    "The top 5 features are the same as the KNN model: Income, CBAvg, DepositACC, Mortgage, and Education. Let's check the metrics to see if the decision tree model performs better with these features."
   ]
  },
  {
   "cell_type": "code",
   "execution_count": 107,
   "metadata": {},
   "outputs": [
    {
     "name": "stdout",
     "output_type": "stream",
     "text": [
      "Confusion Matrix:\n",
      " [[4388   24]\n",
      " [  24  423]]\n",
      "Mean recall: 0.774 \n",
      "Standard deviation of scores: 0.027\n",
      "Mean precision: 0.800 \n",
      "Standard deviation of scores: 0.037\n",
      "Mean f1: 0.787 \n",
      "Standard deviation of scores: 0.026\n",
      "Mean balanced_accuracy: 0.877 \n",
      "Standard deviation of scores: 0.014\n",
      "Mean accuracy: 0.961 \n",
      "Standard deviation of scores: 0.005\n",
      "Classification Report:\n",
      "               precision    recall  f1-score   support\n",
      "\n",
      "           0       0.99      0.99      0.99      4412\n",
      "           1       0.95      0.95      0.95       447\n",
      "\n",
      "    accuracy                           0.99      4859\n",
      "   macro avg       0.97      0.97      0.97      4859\n",
      "weighted avg       0.99      0.99      0.99      4859\n",
      "\n"
     ]
    }
   ],
   "source": [
    "get_kfold_metrics(scoring, pipeline_tree, X, y,cv)"
   ]
  },
  {
   "cell_type": "markdown",
   "metadata": {},
   "source": [
    "The feature selection has actually made the model perform worse. The accuracy is now at 0.96 instead of 0.98, balanced accuracy is now at ~0.877 which is a decrease from the previous iteration at 0.96. Recall and Precision are both down from 0.90 to 0.774 and 0.80 respectively. Additionally, the confusion matrix shows that the model is predicting more false positives and false negatives with 24 false negatives and 24 false positives. This is definitely a step in the wrong direction, and we will not be using feature selection for the decision tree model. However, the balanced accuracy is still higher than that of the KNN model with feature selection, so it might be worth it to explore tuning the number of features we select."
   ]
  },
  {
   "cell_type": "markdown",
   "metadata": {},
   "source": [
    "#### Imbalanced Data"
   ]
  },
  {
   "cell_type": "markdown",
   "metadata": {},
   "source": [
    "The data we're working with is imbalanced as a vast majority of the customers did not take out a loan. This can lead to a model that is biased towards the majority class. We can see this in the confusion matrix where the model is predicting a large number of false negatives. To combat this, we can use SMOTE to oversample the minority class and undersample the majority class. This will create a more balanced dataset that will hopefully lead to a model that is not biased towards the majority class, however it will also lead to a smaller dataset. Let's see if this improves the performance of our models."
   ]
  },
  {
   "cell_type": "code",
   "execution_count": 108,
   "metadata": {},
   "outputs": [
    {
     "name": "stdout",
     "output_type": "stream",
     "text": [
      "PersonalLoan\n",
      "0    3529\n",
      "1     358\n",
      "Name: count, dtype: int64\n"
     ]
    }
   ],
   "source": [
    "# First let's see the distribution of the target variable\n",
    "class_distribution = y_train.value_counts()\n",
    "print(class_distribution)"
   ]
  },
  {
   "cell_type": "code",
   "execution_count": 109,
   "metadata": {},
   "outputs": [
    {
     "name": "stdout",
     "output_type": "stream",
     "text": [
      "Confusion Matrix:\n",
      " [[4290  122]\n",
      " [  26  421]]\n",
      "Mean recall: 0.868 \n",
      "Standard deviation of scores: 0.027\n",
      "Mean precision: 0.712 \n",
      "Standard deviation of scores: 0.061\n",
      "Mean f1: 0.781 \n",
      "Standard deviation of scores: 0.041\n",
      "Mean balanced_accuracy: 0.916 \n",
      "Standard deviation of scores: 0.015\n",
      "Mean accuracy: 0.955 \n",
      "Standard deviation of scores: 0.010\n",
      "Classification Report:\n",
      "               precision    recall  f1-score   support\n",
      "\n",
      "           0       0.99      0.97      0.98      4412\n",
      "           1       0.78      0.94      0.85       447\n",
      "\n",
      "    accuracy                           0.97      4859\n",
      "   macro avg       0.88      0.96      0.92      4859\n",
      "weighted avg       0.97      0.97      0.97      4859\n",
      "\n"
     ]
    }
   ],
   "source": [
    "from imblearn.over_sampling import SMOTE\n",
    "from imblearn.pipeline import Pipeline as ImbPipeline  # Note: Using imblearn's Pipeline\n",
    "\n",
    "pipeline_knn_smote = ImbPipeline([\n",
    "    ('scaler', StandardScaler()),\n",
    "    ('smote', SMOTE(random_state=seed)),\n",
    "    ('selector', SelectKBest(f_classif, k=5)),\n",
    "    ('knn', KNeighborsClassifier())\n",
    "])\n",
    "\n",
    "pipeline_knn_smote.fit(X_train, y_train)\n",
    "\n",
    "get_kfold_metrics(scoring, pipeline_knn_smote, X, y,cv)\n",
    "\n",
    "\n"
   ]
  },
  {
   "cell_type": "markdown",
   "metadata": {},
   "source": [
    "Using SMOTE to address the imbalanced data problem gets balanced accuracy up to 0.91, up from 0.90. Recall and Precision both improved as well but remain below the values for decision trees. So though it slightly improves the performance, nothing extreme occurred. Let's see what happens if we do the same for the decision tree model."
   ]
  },
  {
   "cell_type": "code",
   "execution_count": 110,
   "metadata": {},
   "outputs": [
    {
     "name": "stdout",
     "output_type": "stream",
     "text": [
      "Confusion Matrix:\n",
      " [[4396   16]\n",
      " [  16  431]]\n",
      "Mean recall: 0.852 \n",
      "Standard deviation of scores: 0.037\n",
      "Mean precision: 0.837 \n",
      "Standard deviation of scores: 0.026\n",
      "Mean f1: 0.844 \n",
      "Standard deviation of scores: 0.016\n",
      "Mean balanced_accuracy: 0.918 \n",
      "Standard deviation of scores: 0.017\n",
      "Mean accuracy: 0.971 \n",
      "Standard deviation of scores: 0.003\n",
      "Classification Report:\n",
      "               precision    recall  f1-score   support\n",
      "\n",
      "           0       1.00      1.00      1.00      4412\n",
      "           1       0.96      0.96      0.96       447\n",
      "\n",
      "    accuracy                           0.99      4859\n",
      "   macro avg       0.98      0.98      0.98      4859\n",
      "weighted avg       0.99      0.99      0.99      4859\n",
      "\n"
     ]
    }
   ],
   "source": [
    "\n",
    "# Redefine the tree pipeline with SMOTE\n",
    "pipeline_tree_smote = ImbPipeline([\n",
    "    ('scaler', StandardScaler()),\n",
    "    ('smote', SMOTE(random_state=seed)),\n",
    "    ('selector', SelectKBest(f_classif, k=5)),\n",
    "    ('tree', DecisionTreeClassifier(random_state=seed))\n",
    "])\n",
    "\n",
    "pipeline_tree_smote.fit(X_train, y_train)\n",
    "\n",
    "get_kfold_metrics(scoring, pipeline_tree_smote, X, y,cv)\n"
   ]
  },
  {
   "cell_type": "markdown",
   "metadata": {},
   "source": [
    "There is a larger improvement here from the last iteration as balanced accuracy is now at 0.91, up from 0.90. However, this is still below the value of 0.968 achieved by the decision tree model without feature selection or SMOTE. This solidifies our decision to tune the number of features we use to train the advanced models. It could be that k = 5 for feature selection just isn't enough features to train the model on. "
   ]
  },
  {
   "cell_type": "markdown",
   "metadata": {},
   "source": [
    "Given that the decision tree model is performing better than the KNN model, we will use tree based models."
   ]
  },
  {
   "cell_type": "markdown",
   "metadata": {},
   "source": [
    "## Part 3: Advanced Models"
   ]
  },
  {
   "cell_type": "markdown",
   "metadata": {},
   "source": [
    "### 3.0 Let's do Random Forest with no HPT"
   ]
  },
  {
   "cell_type": "code",
   "execution_count": 111,
   "metadata": {},
   "outputs": [
    {
     "name": "stdout",
     "output_type": "stream",
     "text": [
      "Forest Model Score: 0.9866255144032922\n"
     ]
    }
   ],
   "source": [
    "from sklearn.ensemble import RandomForestClassifier\n",
    "\n",
    "# Instantiate the model\n",
    "forest = RandomForestClassifier(random_state=seed)\n",
    "forest.fit(X_train, y_train)\n",
    "\n",
    "y_pred_forest = forest.predict(X_test)\n",
    "\n",
    "# Get the score from the decision tree model\n",
    "forest_score = forest.score(X_test, y_test)\n",
    "print(\"Forest Model Score:\", forest_score)"
   ]
  },
  {
   "cell_type": "markdown",
   "metadata": {},
   "source": [
    "Now let's get more accuracy measurements: Precision, Recall, and F1-Score:"
   ]
  },
  {
   "cell_type": "code",
   "execution_count": 112,
   "metadata": {},
   "outputs": [
    {
     "name": "stdout",
     "output_type": "stream",
     "text": [
      "Confusion Matrix:\n",
      " [[4412    0]\n",
      " [  13  434]]\n",
      "Mean recall: 0.855 \n",
      "Standard deviation of scores: 0.049\n",
      "Mean precision: 0.997 \n",
      "Standard deviation of scores: 0.006\n",
      "Mean f1: 0.920 \n",
      "Standard deviation of scores: 0.030\n",
      "Mean balanced_accuracy: 0.927 \n",
      "Standard deviation of scores: 0.025\n",
      "Mean accuracy: 0.986 \n",
      "Standard deviation of scores: 0.005\n",
      "Classification Report:\n",
      "               precision    recall  f1-score   support\n",
      "\n",
      "           0       1.00      1.00      1.00      4412\n",
      "           1       1.00      0.97      0.99       447\n",
      "\n",
      "    accuracy                           1.00      4859\n",
      "   macro avg       1.00      0.99      0.99      4859\n",
      "weighted avg       1.00      1.00      1.00      4859\n",
      "\n"
     ]
    }
   ],
   "source": [
    "get_kfold_metrics(scoring, forest, X, y,cv)\n"
   ]
  },
  {
   "cell_type": "markdown",
   "metadata": {},
   "source": [
    "Now let me try some feature selection to see if I can improve the model's performance."
   ]
  },
  {
   "cell_type": "code",
   "execution_count": 113,
   "metadata": {},
   "outputs": [
    {
     "name": "stdout",
     "output_type": "stream",
     "text": [
      "Feature scores for all features sorted by score:\n",
      "('Income', 9698.252306125543)\n",
      "('CBAvg', 3185.0135319563847)\n",
      "('DepositAcc', 920.8425675993345)\n",
      "('Education', 564.763926109521)\n",
      "('LoanAmount', 370.0587389811046)\n",
      "('Mortgage', 147.65996252567612)\n",
      "('Family', 51.38309084173657)\n",
      "('SecuritiesAcc', 19.463830385502288)\n",
      "('Region 6', 17.0673804055045)\n",
      "('Week 4', 14.31831435304643)\n",
      "('Week 3', 14.262441999071624)\n",
      "('Region 3', 13.252309157826197)\n",
      "('Region 4', 10.825927938701048)\n",
      "('Week 1', 10.391275364827685)\n",
      "('CreditCard', 7.92227259560139)\n",
      "('Week 5', 6.955357080670259)\n",
      "('Week 2', 4.508326608749454)\n",
      "('Region 1', 3.4674301088182933)\n",
      "('Region 2', 2.4251458945251776)\n",
      "('Region 5', 1.6133663401652834)\n",
      "('OnlineBanking', 1.2042692189856852)\n",
      "('Experience', 0.13020717966645917)\n",
      "('Region 0', 0.09027643309206076)\n",
      "('Age', 0.08087353304460287)\n"
     ]
    }
   ],
   "source": [
    "\n",
    "pipeline_forest = ImbPipeline([\n",
    "    ('scaler', StandardScaler()),\n",
    "    ('smote', SMOTE(random_state=seed)),\n",
    "    ('selector', SelectKBest(f_classif, k=5)),\n",
    "    ('tree', RandomForestClassifier(random_state=seed))\n",
    "])\n",
    "\n",
    "pipeline_forest.fit(X_train, y_train)\n",
    "\n",
    "y_pred_pipeline_forest = pipeline_forest.predict(X_test)\n",
    "\n",
    "\n",
    "# Access the scaler to be able to get the names of the features\n",
    "scaler = pipeline_forest.named_steps['scaler']\n",
    "feature_names = scaler.get_feature_names_out()\n",
    "\n",
    "# Access the selector to be able to get the scores of the features\n",
    "selector = pipeline_forest.named_steps['selector']\n",
    "feature_scores = selector.scores_\n",
    "\n",
    "# Pair the feature names with their scores\n",
    "feature_scores_list = [(feature, score) for feature, score in zip(feature_names, feature_scores)]\n",
    "\n",
    "# Sort the list by score in descending order\n",
    "feature_scores_list = sorted(feature_scores_list, key=lambda x: x[1], reverse=True)\n",
    "\n",
    "# Display the list of features with their scores\n",
    "print('Feature scores for all features sorted by score:')\n",
    "for score in feature_scores_list:\n",
    "    print(score)"
   ]
  },
  {
   "cell_type": "code",
   "execution_count": 114,
   "metadata": {},
   "outputs": [
    {
     "name": "stdout",
     "output_type": "stream",
     "text": [
      "Confusion Matrix:\n",
      " [[4399   13]\n",
      " [  14  433]]\n",
      "Mean recall: 0.848 \n",
      "Standard deviation of scores: 0.025\n",
      "Mean precision: 0.883 \n",
      "Standard deviation of scores: 0.052\n",
      "Mean f1: 0.864 \n",
      "Standard deviation of scores: 0.027\n",
      "Mean balanced_accuracy: 0.918 \n",
      "Standard deviation of scores: 0.012\n",
      "Mean accuracy: 0.975 \n",
      "Standard deviation of scores: 0.006\n",
      "Classification Report:\n",
      "               precision    recall  f1-score   support\n",
      "\n",
      "           0       1.00      1.00      1.00      4412\n",
      "           1       0.97      0.97      0.97       447\n",
      "\n",
      "    accuracy                           0.99      4859\n",
      "   macro avg       0.98      0.98      0.98      4859\n",
      "weighted avg       0.99      0.99      0.99      4859\n",
      "\n"
     ]
    }
   ],
   "source": [
    "get_kfold_metrics(scoring, pipeline_forest, X, y,cv)"
   ]
  },
  {
   "cell_type": "markdown",
   "metadata": {},
   "source": [
    "It got slightly worse with feature selection but that was because k=5. Now we're going to loop through the different k values 1 through 25 to determine which number of features achieves the best scores when running Random Forests with feature selection."
   ]
  },
  {
   "cell_type": "code",
   "execution_count": 115,
   "metadata": {},
   "outputs": [
    {
     "name": "stdout",
     "output_type": "stream",
     "text": [
      "Score for k=1: 0.6768104139361472\n",
      "Score for k=2: 0.8671663252191838\n",
      "Score for k=3: 0.8845865092190821\n",
      "Score for k=4: 0.8740949520913128\n",
      "Score for k=5: 0.914553297619199\n",
      "Score for k=6: 0.9314072302034688\n",
      "Score for k=7: 0.9584091516408566\n",
      "Score for k=8: 0.9595416544721137\n",
      "Score for k=9: 0.9533574255283953\n",
      "Score for k=10: 0.963460877753318\n",
      "Score for k=11: 0.9533574255283953\n",
      "Score for k=12: 0.9584091516408566\n",
      "Score for k=13: 0.9522249226971382\n",
      "Score for k=14: 0.9527911741127668\n",
      "Score for k=15: 0.9533574255283953\n",
      "Score for k=16: 0.9572766488095996\n",
      "Score for k=17: 0.9466069451690483\n",
      "Score for k=18: 0.964593380584575\n",
      "Score for k=19: 0.9522249226971382\n",
      "Score for k=20: 0.9578429002252281\n",
      "Score for k=21: 0.9471731965846768\n",
      "Score for k=22: 0.9539236769440238\n",
      "Score for k=23: 0.9516586712815096\n",
      "Score for k=24: 0.9527911741127668\n",
      "Best k: 18 with score: 0.964593380584575\n",
      "Confusion Matrix:\n",
      " [[4409    3]\n",
      " [   6  441]]\n",
      "Mean recall: 0.915 \n",
      "Standard deviation of scores: 0.037\n",
      "Mean precision: 0.948 \n",
      "Standard deviation of scores: 0.031\n",
      "Mean f1: 0.931 \n",
      "Standard deviation of scores: 0.026\n",
      "Mean balanced_accuracy: 0.955 \n",
      "Standard deviation of scores: 0.019\n",
      "Mean accuracy: 0.987 \n",
      "Standard deviation of scores: 0.005\n",
      "Classification Report:\n",
      "               precision    recall  f1-score   support\n",
      "\n",
      "           0       1.00      1.00      1.00      4412\n",
      "           1       0.99      0.99      0.99       447\n",
      "\n",
      "    accuracy                           1.00      4859\n",
      "   macro avg       1.00      0.99      0.99      4859\n",
      "weighted avg       1.00      1.00      1.00      4859\n",
      "\n"
     ]
    }
   ],
   "source": [
    "\n",
    "# Best score and corresponding k\n",
    "best_score = 0\n",
    "best_k = 0\n",
    "\n",
    "# Loop through k = 1 to 25\n",
    "for k in range(1, 25):\n",
    "    # Create the pipeline with current k\n",
    "    pipeline_forest = ImbPipeline([\n",
    "        ('scaler', StandardScaler()),\n",
    "        ('smote', SMOTE(random_state=seed)),\n",
    "        ('selector', SelectKBest(f_classif, k=k)),\n",
    "        ('forest', RandomForestClassifier(random_state=seed))\n",
    "    ])\n",
    "\n",
    "    # Fit the pipeline\n",
    "    pipeline_forest.fit(X_train, y_train)\n",
    "\n",
    "    # Predict on the test set\n",
    "    y_pred_pipeline_forest = pipeline_forest.predict(X_test)\n",
    "\n",
    "    # Evaluate the model\n",
    "    score = balanced_accuracy_score(y_test, y_pred_pipeline_forest)\n",
    "\n",
    "    # Update the best score and best k\n",
    "    if score > best_score:\n",
    "        best_score = score\n",
    "        best_k = k\n",
    "\n",
    "    print(f\"Score for k={k}: {score}\")\n",
    "\n",
    "# Print the best k\n",
    "print(f\"Best k: {best_k} with score: {best_score}\")\n",
    "\n",
    "# Create and fit the pipeline with the best k\n",
    "best_pipeline_forest = ImbPipeline([\n",
    "    ('scaler', StandardScaler()),\n",
    "    ('smote', SMOTE(random_state=seed)),\n",
    "    ('selector', SelectKBest(f_classif, k=best_k)),\n",
    "    ('forest', RandomForestClassifier(random_state=seed))\n",
    "])\n",
    "\n",
    "best_pipeline_forest.fit(X_train, y_train)\n",
    "\n",
    "# Use get_kfold_metrics function for the best pipeline\n",
    "get_kfold_metrics(scoring, best_pipeline_forest, X, y, cv)"
   ]
  },
  {
   "cell_type": "markdown",
   "metadata": {},
   "source": [
    "### Now let's HPT the Random Forest."
   ]
  },
  {
   "cell_type": "code",
   "execution_count": 123,
   "metadata": {},
   "outputs": [
    {
     "name": "stdout",
     "output_type": "stream",
     "text": [
      "Fitting 5 folds for each of 100 candidates, totalling 500 fits\n",
      "{'n_estimators': 480, 'min_samples_split': 3, 'min_samples_leaf': 1, 'max_depth': 103}\n",
      "0.9230438184663537\n"
     ]
    }
   ],
   "source": [
    "from sklearn.model_selection import RandomizedSearchCV\n",
    "\n",
    "# Define the parameter grid\n",
    "n_estimators = [int(x) for x in np.linspace(start = 10, stop = 1000, num = 100)]\n",
    "max_features = ['log2', 'sqrt']\n",
    "max_depth = [int(x) for x in np.linspace(10, 110, num = 50)]\n",
    "min_samples_split = [2, 3, 4, 5, 6, 7, 10, 13, 14, 15, 18, 20]\n",
    "min_samples_leaf = [1, 2, 3, 4, 6, 8]\n",
    "\n",
    "param_grid = {\n",
    "    'n_estimators': n_estimators,\n",
    "    'max_depth': max_depth,\n",
    "    'min_samples_split': min_samples_split,\n",
    "    'min_samples_leaf': min_samples_leaf    \n",
    "    \n",
    "}\n",
    "\n",
    "# Instantiate the random forest classifier\n",
    "forest_hpt = RandomForestClassifier(random_state=seed)\n",
    "\n",
    "# instantiate the random search model\n",
    "random_search = RandomizedSearchCV(\n",
    "    estimator=forest_hpt,\n",
    "    param_distributions=param_grid,\n",
    "    n_iter=100,\n",
    "    scoring='balanced_accuracy',\n",
    "    cv=cv,\n",
    "    verbose=1,\n",
    "    random_state=seed,\n",
    "    n_jobs=-1\n",
    ")\n",
    "\n",
    "# Fit the random search model\n",
    "random_search.fit(X_train, y_train)\n",
    "\n",
    "# Get the best parameters\n",
    "print(random_search.best_params_)\n",
    "# Get the best score\n",
    "print(random_search.best_score_)\n",
    "# Get the best model\n",
    "\n",
    "best_model = random_search.best_estimator_\n"
   ]
  },
  {
   "cell_type": "code",
   "execution_count": 124,
   "metadata": {},
   "outputs": [
    {
     "name": "stdout",
     "output_type": "stream",
     "text": [
      "Confusion Matrix:\n",
      " [[4412    0]\n",
      " [  14  433]]\n",
      "Mean recall: 0.861 \n",
      "Standard deviation of scores: 0.056\n",
      "Mean precision: 1.000 \n",
      "Standard deviation of scores: 0.000\n",
      "Mean f1: 0.925 \n",
      "Standard deviation of scores: 0.032\n",
      "Mean balanced_accuracy: 0.931 \n",
      "Standard deviation of scores: 0.028\n",
      "Mean accuracy: 0.987 \n",
      "Standard deviation of scores: 0.005\n",
      "Classification Report:\n",
      "               precision    recall  f1-score   support\n",
      "\n",
      "           0       1.00      1.00      1.00      4412\n",
      "           1       1.00      0.97      0.98       447\n",
      "\n",
      "    accuracy                           1.00      4859\n",
      "   macro avg       1.00      0.98      0.99      4859\n",
      "weighted avg       1.00      1.00      1.00      4859\n",
      "\n"
     ]
    }
   ],
   "source": [
    "get_kfold_metrics(scoring, best_model, X, y, cv)"
   ]
  },
  {
   "cell_type": "markdown",
   "metadata": {},
   "source": [
    "### Final Model: Random Forest with HPT and Feature Selection"
   ]
  },
  {
   "cell_type": "code",
   "execution_count": 118,
   "metadata": {},
   "outputs": [
    {
     "name": "stdout",
     "output_type": "stream",
     "text": [
      "Confusion Matrix:\n",
      " [[4409    3]\n",
      " [   7  440]]\n",
      "Mean recall: 0.917 \n",
      "Standard deviation of scores: 0.035\n",
      "Mean precision: 0.948 \n",
      "Standard deviation of scores: 0.031\n",
      "Mean f1: 0.932 \n",
      "Standard deviation of scores: 0.024\n",
      "Mean balanced_accuracy: 0.956 \n",
      "Standard deviation of scores: 0.018\n",
      "Mean accuracy: 0.988 \n",
      "Standard deviation of scores: 0.004\n",
      "Classification Report:\n",
      "               precision    recall  f1-score   support\n",
      "\n",
      "           0       1.00      1.00      1.00      4412\n",
      "           1       0.99      0.98      0.99       447\n",
      "\n",
      "    accuracy                           1.00      4859\n",
      "   macro avg       1.00      0.99      0.99      4859\n",
      "weighted avg       1.00      1.00      1.00      4859\n",
      "\n"
     ]
    }
   ],
   "source": [
    "pipeline_final_model = ImbPipeline([\n",
    "    ('scaler', StandardScaler()),\n",
    "    ('smote', SMOTE(random_state=seed)),\n",
    "    ('selector', SelectKBest(f_classif, k=best_k)),\n",
    "    ('forest', best_model)\n",
    "])\n",
    "\n",
    "\n",
    "pipeline_final_model.fit(X_train, y_train)\n",
    "\n",
    "# Use get_kfold_metrics function for the best pipeline\n",
    "get_kfold_metrics(scoring, pipeline_final_model, X, y, cv)"
   ]
  },
  {
   "cell_type": "markdown",
   "metadata": {},
   "source": [
    "Summary of mean balanced_accuracy:\n",
    "* Dummy                                                        ~0.500\n",
    "* KNN                                                          ~0.725\n",
    "* KNN with Feature Selection k=5                               ~0.838\n",
    "* KNN with Feature Selection k=5 and Smote                     ~0.916\n",
    "* Decision Tree                                                ~0.945\n",
    "* Decision Tree with Feature Selection k=5                     ~0.877\n",
    "* Decision Tree with Feature Selection k=5 and Smote           ~0.918\n",
    "* Random Forest with no HPT and no Feature Selection           ~0.927 \n",
    "* Random Forest with no HPT and Feature Selection k=5          ~0.918\n",
    "* Random Forest with HPT and no Feature Selection              ~0.931\n",
    "* Random Forest with no HPT and Feature Selection with k best  ~0.955\n",
    "* Random Forest with HPT and Feature Selection with k best     ~0.956\n",
    "\n",
    "Summary of accuracy:\n",
    "* Dummy                                                        ~0.900\n",
    "* KNN                                                          ~0.924\n",
    "* KNN with Feature Selection k=5                               ~0.964\n",
    "* KNN with Feature Selection k=5 and Smote                     ~0.955\n",
    "* Decision Tree                                                ~0.983\n",
    "* Decision Tree with Feature Selection k=5                     ~0.961\n",
    "* Decision Tree with Feature Selection k=5 and Smote           ~0.971\n",
    "* Random Forest with no HPT and no Feature Selection           ~0.927 \n",
    "* Random Forest with no HPT and Feature Selection k=5          ~0.918\n",
    "* Random Forest with HPT and no Feature Selection              ~0.931\n",
    "* Random Forest with no HPT and Feature Selection with k best  ~0.955\n",
    "* Random Forest with HPT and Feature Selection with k best     ~0.988\n",
    "\n",
    "Summary of recall:\n",
    "* Dummy                                                        ~0.000\n",
    "* KNN                                                          ~0.481\n",
    "* KNN with Feature Selection k=5                               ~0.685\n",
    "* KNN with Feature Selection k=5 and Smote                     ~0.868\n",
    "* Decision Tree                                                ~0.888\n",
    "* Decision Tree with Feature Selection k=5                     ~0.774\n",
    "* Decision Tree with Feature Selection k=5 and Smote           ~0.852\n",
    "* Random Forest with no HPT and no Feature Selection           ~0.927 \n",
    "* Random Forest with no HPT and Feature Selection k=5          ~0.918\n",
    "* Random Forest with HPT and no Feature Selection              ~0.931\n",
    "* Random Forest with no HPT and Feature Selection with k best  ~0.955\n",
    "* Random Forest with HPT and Feature Selection with k best     ~0.917"
   ]
  },
  {
   "cell_type": "markdown",
   "metadata": {},
   "source": [
    "From these results we see that the best models from each category are:\n",
    "* Balanced Accuracy: Random Forest with HPT and Feature Selection with k best     ~0.956\n",
    "* Accuracy: Random Forest with HPT and Feature Selection with k best              ~0.988\n",
    "* Recall: Random Forest with no HPT and Feature Selection with k best             ~0.955"
   ]
  },
  {
   "cell_type": "markdown",
   "metadata": {},
   "source": [
    "Estimation of future performance:\n",
    "* The accuracy score is 0.988. However, due to the imbalanced nature of the data, we ended up going with balanced_accuracy as a more representative metric of the model's performance. \n",
    "* The mean balanced_accuracy for Random Forest with HPT and Feature selection with k-best is 0.956. We expect our model to perform with 95.6% accuracy on future data. We also ran a confusion matrix which provides insight into not only the errors made by a classifier but also the types of errors. The 2x2 matrix is defined as the top left are True Negatives, bottom right are True Positives, top right are false positives and bottom left are False negatives. With a matrix of [[4409    3],[7  440]] we expect .14% false positives and 0.06% false negatives. "
   ]
  }
 ],
 "metadata": {
  "kernelspec": {
   "display_name": "venv",
   "language": "python",
   "name": "python3"
  },
  "language_info": {
   "codemirror_mode": {
    "name": "ipython",
    "version": 3
   },
   "file_extension": ".py",
   "mimetype": "text/x-python",
   "name": "python",
   "nbconvert_exporter": "python",
   "pygments_lexer": "ipython3",
   "version": "3.11.2"
  }
 },
 "nbformat": 4,
 "nbformat_minor": 2
}
